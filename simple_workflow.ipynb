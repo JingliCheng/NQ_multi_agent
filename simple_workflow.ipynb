{
 "cells": [
  {
   "cell_type": "code",
   "execution_count": 2,
   "metadata": {},
   "outputs": [],
   "source": [
    "import json\n",
    "import os\n",
    "\n"
   ]
  },
  {
   "cell_type": "code",
   "execution_count": 3,
   "metadata": {},
   "outputs": [],
   "source": [
    "# TRAIN_FILE_2000 = '.data/train_top2000.jsonl'\n",
    "# DEV_FILE_2000 = '.data/train_top2000_dev.jsonl'\n",
    "TRAIN_FILE_100 = '.data/train_top100.jsonl'\n",
    "DEV_FILE_100 = '.data/train_top100_dev.jsonl'\n",
    "\n",
    "def parse_jsonl(file_path, num_lines=5):\n",
    "    output = []\n",
    "    with open(file_path, 'r', encoding='utf-8') as file:\n",
    "        for _ in range(num_lines):\n",
    "            data = json.loads(file.readline().strip())\n",
    "            output.append(data)\n",
    "\n",
    "    return output\n",
    "\n",
    "\n",
    "def get_nq_tokens(simplified_nq_example):\n",
    "  \"\"\"Returns list of blank separated tokens.\"\"\"\n",
    "\n",
    "  if \"document_text\" not in simplified_nq_example:\n",
    "    raise ValueError(\"`get_nq_tokens` should be called on a simplified NQ\"\n",
    "                     \"example that contains the `document_text` field.\")\n",
    "\n",
    "  return simplified_nq_example[\"document_text\"].split(\" \")\n",
    "\n",
    "\n",
    "def get_short_answers(nq_example):\n",
    "    document_tokens = get_nq_tokens(nq_example)\n",
    "    print(len(nq_example['annotations']))\n",
    "    short_answers = []\n",
    "    for annotation in nq_example['annotations']:\n",
    "        if annotation['short_answers']:\n",
    "            for short_answer in annotation['short_answers']:\n",
    "                short_answer_text = ' '.join(\n",
    "                    document_tokens[\n",
    "                        short_answer['start_token']:short_answer['end_token']]\n",
    "                    )\n",
    "                short_answers.append(short_answer_text)\n",
    "    return short_answers\n",
    "\n",
    "def strip_end_punctuation(text):\n",
    "    # Common punctuation marks to remove from the end\n",
    "    punctuation = '.!?,;:)\"'\n",
    "    \n",
    "    # Strip whitespace first, then remove punctuation from the end\n",
    "    text = text.strip()\n",
    "    while text and text[-1] in punctuation:\n",
    "        text = text[:-1].strip()\n",
    "    \n",
    "    return text"
   ]
  },
  {
   "cell_type": "code",
   "execution_count": 4,
   "metadata": {},
   "outputs": [],
   "source": [
    "json_top100 = parse_jsonl(TRAIN_FILE_100,100)\n",
    "json_top100_dev = parse_jsonl(DEV_FILE_100,100)"
   ]
  },
  {
   "cell_type": "code",
   "execution_count": 22,
   "metadata": {},
   "outputs": [
    {
     "data": {
      "text/plain": [
       "dict_keys(['annotations', 'document_html', 'document_title', 'document_tokens', 'document_url', 'example_id', 'long_answer_candidates', 'question_text', 'question_tokens'])"
      ]
     },
     "execution_count": 22,
     "metadata": {},
     "output_type": "execute_result"
    }
   ],
   "source": [
    "json_top100_dev[0].keys()"
   ]
  },
  {
   "cell_type": "code",
   "execution_count": 20,
   "metadata": {},
   "outputs": [
    {
     "ename": "ValueError",
     "evalue": "`get_nq_tokens` should be called on a simplified NQexample that contains the `document_text` field.",
     "output_type": "error",
     "traceback": [
      "\u001b[1;31m---------------------------------------------------------------------------\u001b[0m",
      "\u001b[1;31mValueError\u001b[0m                                Traceback (most recent call last)",
      "Cell \u001b[1;32mIn[20], line 3\u001b[0m\n\u001b[0;32m      1\u001b[0m json_top100_dev[\u001b[38;5;241m0\u001b[39m][\u001b[38;5;124m'\u001b[39m\u001b[38;5;124mannotations\u001b[39m\u001b[38;5;124m'\u001b[39m]\n\u001b[1;32m----> 3\u001b[0m \u001b[43mget_short_answers\u001b[49m\u001b[43m(\u001b[49m\u001b[43mjson_top100_dev\u001b[49m\u001b[43m[\u001b[49m\u001b[38;5;241;43m0\u001b[39;49m\u001b[43m]\u001b[49m\u001b[43m)\u001b[49m\n",
      "Cell \u001b[1;32mIn[3], line 27\u001b[0m, in \u001b[0;36mget_short_answers\u001b[1;34m(nq_example)\u001b[0m\n\u001b[0;32m     26\u001b[0m \u001b[38;5;28;01mdef\u001b[39;00m \u001b[38;5;21mget_short_answers\u001b[39m(nq_example):\n\u001b[1;32m---> 27\u001b[0m     document_tokens \u001b[38;5;241m=\u001b[39m \u001b[43mget_nq_tokens\u001b[49m\u001b[43m(\u001b[49m\u001b[43mnq_example\u001b[49m\u001b[43m)\u001b[49m\n\u001b[0;32m     28\u001b[0m     \u001b[38;5;28mprint\u001b[39m(\u001b[38;5;28mlen\u001b[39m(nq_example[\u001b[38;5;124m'\u001b[39m\u001b[38;5;124mannotations\u001b[39m\u001b[38;5;124m'\u001b[39m]))\n\u001b[0;32m     29\u001b[0m     short_answers \u001b[38;5;241m=\u001b[39m []\n",
      "Cell \u001b[1;32mIn[3], line 20\u001b[0m, in \u001b[0;36mget_nq_tokens\u001b[1;34m(simplified_nq_example)\u001b[0m\n\u001b[0;32m     17\u001b[0m \u001b[38;5;250m\u001b[39m\u001b[38;5;124;03m\"\"\"Returns list of blank separated tokens.\"\"\"\u001b[39;00m\n\u001b[0;32m     19\u001b[0m \u001b[38;5;28;01mif\u001b[39;00m \u001b[38;5;124m\"\u001b[39m\u001b[38;5;124mdocument_text\u001b[39m\u001b[38;5;124m\"\u001b[39m \u001b[38;5;129;01mnot\u001b[39;00m \u001b[38;5;129;01min\u001b[39;00m simplified_nq_example:\n\u001b[1;32m---> 20\u001b[0m   \u001b[38;5;28;01mraise\u001b[39;00m \u001b[38;5;167;01mValueError\u001b[39;00m(\u001b[38;5;124m\"\u001b[39m\u001b[38;5;124m`get_nq_tokens` should be called on a simplified NQ\u001b[39m\u001b[38;5;124m\"\u001b[39m\n\u001b[0;32m     21\u001b[0m                    \u001b[38;5;124m\"\u001b[39m\u001b[38;5;124mexample that contains the `document_text` field.\u001b[39m\u001b[38;5;124m\"\u001b[39m)\n\u001b[0;32m     23\u001b[0m \u001b[38;5;28;01mreturn\u001b[39;00m simplified_nq_example[\u001b[38;5;124m\"\u001b[39m\u001b[38;5;124mdocument_text\u001b[39m\u001b[38;5;124m\"\u001b[39m]\u001b[38;5;241m.\u001b[39msplit(\u001b[38;5;124m\"\u001b[39m\u001b[38;5;124m \u001b[39m\u001b[38;5;124m\"\u001b[39m)\n",
      "\u001b[1;31mValueError\u001b[0m: `get_nq_tokens` should be called on a simplified NQexample that contains the `document_text` field."
     ]
    }
   ],
   "source": [
    "json_top100_dev[0]['annotations']\n",
    "\n",
    "get_short_answers(json_top100_dev[0])\n"
   ]
  },
  {
   "cell_type": "code",
   "execution_count": null,
   "metadata": {},
   "outputs": [],
   "source": []
  },
  {
   "cell_type": "code",
   "execution_count": null,
   "metadata": {},
   "outputs": [],
   "source": []
  },
  {
   "cell_type": "code",
   "execution_count": 5,
   "metadata": {},
   "outputs": [],
   "source": [
    "a = json_top100[1]"
   ]
  },
  {
   "cell_type": "code",
   "execution_count": 8,
   "metadata": {},
   "outputs": [
    {
     "data": {
      "text/plain": [
       "'which is the most common use of opt-in e-mail marketing'"
      ]
     },
     "execution_count": 8,
     "metadata": {},
     "output_type": "execute_result"
    }
   ],
   "source": [
    "json_top100[0]['question_text']"
   ]
  },
  {
   "cell_type": "code",
   "execution_count": 9,
   "metadata": {},
   "outputs": [
    {
     "data": {
      "text/plain": [
       "[{'yes_no_answer': 'NONE',\n",
       "  'long_answer': {'start_token': 1952,\n",
       "   'candidate_index': 54,\n",
       "   'end_token': 2019},\n",
       "  'short_answers': [{'start_token': 1960, 'end_token': 1969}],\n",
       "  'annotation_id': 593165450220027640}]"
      ]
     },
     "execution_count": 9,
     "metadata": {},
     "output_type": "execute_result"
    }
   ],
   "source": [
    "json_top100[0]['annotations']"
   ]
  },
  {
   "cell_type": "code",
   "execution_count": 10,
   "metadata": {},
   "outputs": [
    {
     "name": "stdout",
     "output_type": "stream",
     "text": [
      "1\n"
     ]
    },
    {
     "data": {
      "text/plain": [
       "[\"a newsletter sent to an advertising firm 's customers\"]"
      ]
     },
     "execution_count": 10,
     "metadata": {},
     "output_type": "execute_result"
    }
   ],
   "source": [
    "get_short_answers(json_top100[0])"
   ]
  },
  {
   "cell_type": "code",
   "execution_count": 28,
   "metadata": {},
   "outputs": [
    {
     "name": "stdout",
     "output_type": "stream",
     "text": [
      "\"document_text\" <class 'str'> 19747\n",
      "\"long_answer_candidates\" <class 'list'> 37\n",
      "\"question_text\" <class 'str'> 39\n",
      "\"annotations\" <class 'list'> 1\n",
      "\"document_url\" <class 'str'> 98\n",
      "\"example_id\" <class 'int'>\n"
     ]
    }
   ],
   "source": [
    "for k,v in a.items():\n",
    "    # print key and length of value if the value is iterable\n",
    "    # otherwise print key and value\n",
    "    if isinstance(v, list) or isinstance(v, str):\n",
    "        print(f'\"{k}\"', type(v), len(v))\n",
    "    else:\n",
    "        print(f'\"{k}\"', type(v))\n",
    "\n"
   ]
  },
  {
   "cell_type": "code",
   "execution_count": 29,
   "metadata": {},
   "outputs": [
    {
     "name": "stdout",
     "output_type": "stream",
     "text": [
      "1\n",
      "['Tracy McConnell']\n"
     ]
    }
   ],
   "source": [
    "short_answer = get_short_answers(a)\n",
    "print(short_answer)"
   ]
  },
  {
   "cell_type": "code",
   "execution_count": 1,
   "metadata": {},
   "outputs": [
    {
     "ename": "NameError",
     "evalue": "name 'a' is not defined",
     "output_type": "error",
     "traceback": [
      "\u001b[1;31m---------------------------------------------------------------------------\u001b[0m",
      "\u001b[1;31mNameError\u001b[0m                                 Traceback (most recent call last)",
      "Cell \u001b[1;32mIn[1], line 1\u001b[0m\n\u001b[1;32m----> 1\u001b[0m \u001b[43ma\u001b[49m\n",
      "\u001b[1;31mNameError\u001b[0m: name 'a' is not defined"
     ]
    }
   ],
   "source": [
    "a"
   ]
  },
  {
   "cell_type": "code",
   "execution_count": 40,
   "metadata": {},
   "outputs": [
    {
     "data": {
      "text/plain": [
       "{'document_text': 'The Mother ( How I Met Your Mother ) - wikipedia <H1> The Mother ( How I Met Your Mother ) </H1> Jump to : navigation , search <Table> <Tr> <Th_colspan=\"2\"> Tracy McConnell </Th> </Tr> <Tr> <Td_colspan=\"2\"> How I Met Your Mother character </Td> </Tr> <Tr> <Td_colspan=\"2\"> The Mother appearing in `` The Locket \\'\\' </Td> </Tr> <Tr> <Th> First appearance </Th> <Td> `` Lucky Penny ( unseen ) \\'\\' `` Something New \\'\\' ( seen ) </Td> </Tr> <Tr> <Th> Last appearance </Th> <Td> `` Last Forever \\'\\' </Td> </Tr> <Tr> <Th> Created by </Th> <Td> Carter Bays Craig Thomas </Td> </Tr> <Tr> <Th> Portrayed by </Th> <Td> Cristin Milioti </Td> </Tr> <Tr> <Th_colspan=\"2\"> Information </Th> </Tr> <Tr> <Th> Aliases </Th> <Td> The Mother </Td> </Tr> <Tr> <Th> Gender </Th> <Td> Female </Td> </Tr> <Tr> <Th> Spouse ( s ) </Th> <Td> Ted Mosby </Td> </Tr> <Tr> <Th> Significant other ( s ) </Th> <Td> Max ( deceased former boyfriend ) Louis ( ex-boyfriend ) </Td> </Tr> <Tr> <Th> Children </Th> <Td> Penny Mosby ( daughter , born in 2015 , played by Lyndsy Fonseca ) Luke Mosby ( son , born in 2017 , played by David Henrie ) </Td> </Tr> <Tr> <Th> Nationality </Th> <Td> American </Td> </Tr> </Table> <P> Tracy McConnell , better known as `` The Mother \\'\\' , is the title character from the CBS television sitcom How I Met Your Mother . The show , narrated by Future Ted , tells the story of how Ted Mosby met The Mother . Tracy McConnell appears in 8 episodes from `` Lucky Penny \\'\\' to `` The Time Travelers \\'\\' as an unseen character ; she was first seen fully in `` Something New \\'\\' and was promoted to a main character in season 9 . The Mother is played by Cristin Milioti . </P> <P> The story of how Ted met The Mother is the framing device behind the series ; many facts about her are revealed throughout the series , including the fact that Ted once unwittingly owned her umbrella before accidentally leaving it behind in her apartment . Ted and The Mother meet at the Farhampton train station following Barney Stinson and Robin Scherbatsky \\'s wedding ; this scene is shown in `` Last Forever \\'\\' , the series finale . The Mother \\'s death from an unspecified terminal illness in 2024 , also revealed in the series finale , received a mixed reaction from fans . </P> <P> An alternate ending was released in the ninth season DVD . In the alternate ending , Tracy Mosby is still living when Ted is telling the story in 2030 . In the video , future Ted is heard saying , `` ... When I think how lucky I am to wake up next to your mom every morning , I ca n\\'t help but be amazed how easy it all really was ... \\'\\' , indirectly stating that The Mother is alive . The video ends right after the train passes at Farhampton station and credits start rolling , implying that Ted never went back to Robin as he lived a successful married life with Tracy Mosby . </P> <P> </P> <H2> Contents </H2> ( hide ) <Ul> <Li> 1 Casting </Li> <Li> 2 Character history <Ul> <Li> 2.1 Name </Li> </Ul> </Li> <Li> 3 Death </Li> <Li> 4 Notes </Li> <Li> 5 References </Li> </Ul> <P> </P> <H2> Casting ( edit ) </H2> <P> During its first eight seasons , the successful sitcom How I Met Your Mother often hinted at the unseen character of The Mother . Well - known actresses often made guest appearances on the show . Many fans expected that another would play one of the most - wanted roles in Hollywood , but creators Carter Bays and Craig Thomas wanted an unknown . Using Anne Hathaway and Amy Adams as examples , Thomas said that `` We did n\\'t want it to be a big famous star because we did n\\'t want the wider audience to have associations with whatever actress this would be ... The whole idea is that Ted \\'s never seen this woman before , so it better feel that way to the audience \\'\\' , similar to how Cobie Smulders being cast as Robin Scherbatsky had `` kept the show alive \\'\\' when it began . Bays and Thomas also did not want a large casting call . </P> <P> They chose Cristin Milioti after seeing her on 30 Rock and Once ; her musical ability was also helpful , as The Mother had been described as a band member . After competing for the role against at least two others , Milioti filmed her first scene -- for the last episode of season 8 -- having never watched How I Met Your Mother ; she recalled , `` I had ignorance on my side . So I did n\\'t know what it meant . \\'\\' Milioti learned of the character \\'s importance only after binge watching the show during the summer . </P> <H2> Character history ( edit ) </H2> <P> The Mother was born on September 19 , 1984 . </P> <P> The Mother , joined by her roommate Kelly awaits the arrival of her boyfriend Max only to receive a call informing her of his death . After the funeral service , she returns to the apartment to open Max \\'s last gift to her -- a ukulele . The Mother spends the next few years grieving the passing of the man she believes was her one true love . </P> <P> In `` Wait for It \\'\\' , it is revealed that the short story of how they met involved her yellow umbrella . In `` No Tomorrow \\'\\' , Ted finds the umbrella at a club and takes it home after attending a St. Patrick \\'s Day party which she also attended , as it had been two and a half years since the death of Max , her late boyfriend . She is still grieving , but her roommate Kelly encourages her to go out and date again , bringing her to the same bar where Ted and Barney are celebrating . The two women run into Mitch , her old orchestra instructor ; The Mother offers to give Mitch her cello for his work at a school and they head to her apartment . After they start talking , Mitch encourages her to pursue her dreams . The Mother expresses her desire to end poverty by taking up economics in college . </P> <P> On his first day of teaching as Professor Mosby , as seen in the season 4 finale `` The Leap \\'\\' , he is seen in front of the classroom of students , one of which Future Ted says is the titular mother . But in the first episode of season 5 , `` Definitions \\'\\' , it is revealed that he was actually in the wrong classroom -- Economics instead of Architecture . At the same time in `` How Your Mother Met Me \\'\\' , the Mother sits her first session in Economics 305 and meets another graduate student named Cindy ( Rachel Bilson ) , whom she offers to move in with her as her roommate . They see Ted enter the room , but when he announces the subject , The Mother thinks she is in the wrong room and runs off . She heads back to the room after seeing Ted scramble to his actual classroom . </P> <P> Later , in `` Girls Versus Suits \\'\\' , Ted dates Cindy , not knowing that her roommate is his future wife . Throughout the episode , Ted notes that Cindy had spent most of their first date talking jealously about her roommate . When in Cindy and the mother \\'s apartment he picks up many of The Mother \\'s belongings , attempting to show how compatible he and Cindy are ( thinking the items are Cindy \\'s ) and glimpses the mother \\'s foot as she disappears into her room after taking a shower . Ted finds out at this time that she plays bass guitar in a band . Ted forgets to take the yellow umbrella with him when he goes out and Future Ted mentions , `` this is how your mother got her yellow umbrella back . \\'\\' In `` How Your Mother Met Me \\'\\' , it is revealed that , after Ted left the apartment , the Mother had discovered the umbrella and , upon going to question Cindy , finds her in a state . As she tried to console her , Cindy said that she was a much better match for Ted , and began to lovingly list all of the reasons that Ted would find the mother attractive , before spontaneously kissing her , revealing that her jealousy towards her roommate was actually a crush . While this incident made Cindy realise that she is a lesbian , it also made the Mother decide to go back into dating , as the kiss was her first in a long time . </P> <P> Some time after this , a man named Darren approaches The Mother and is welcomed into her band named Superfreakonomics . Darren gradually takes over the band . </P> <P> In the season 6 opener `` Big Days \\'\\' it is revealed Ted meets his future wife `` the day of \\'\\' the wedding at which he is the best man . In the episode `` False Positive \\'\\' Robin asks Ted to be her future best man , should she ever get married . In the episode `` Challenge Accepted \\'\\' , it is revealed that Ted meets the mother of his children the day of Barney \\'s wedding . In the last episode of season 7 , `` The Magician \\'s Code \\'\\' it is shown that Barney will marry Robin , and Ted will meet the mother `` the day of \\'\\' their wedding . On the premiere of season 8 , Ted \\'s wife appears after Barney and Robin \\'s wedding , outside at the `` Farhampton \\'\\' station while holding a yellow umbrella and her bass guitar . </P> <P> In the season 8 episode `` Band or DJ ? , \\'\\' Ted runs into Cindy on the subway and tells her that the band Barney and Robin hired to play at their wedding cancelled at the last minute . The end result of the encounter is that Cindy \\'s ( now ex - ) roommate \\'s band plays at Barney and Robin \\'s wedding . </P> <P> The Mother is first shown meeting Louis in `` How Your Mother Met Me \\'\\' as she is left to carry the band equipment while the now - lead band member Darren talks to his fans . Later at MacLaren \\'s Pub , she tells him she \\'s not yet ready to date . Louis asks her to give him a call if she changes her mind and they begin dating not long after . </P> <P> The Mother meets all of Ted \\'s best friends ( Barney , Lily , Marshall and Robin ) before she meets him . The Mother is responsible for convincing Barney to pursue Robin , as revealed through a flashback in `` Platonish \\'\\' . In `` The Locket \\'\\' , Tracy meets Lily on a train journey . </P> <P> In `` Bass Player Wanted \\'\\' , the Mother picks up a hitchhiking Marshall , carrying his son Marvin , on her way to Farhampton Inn . On their way , it is revealed that the Mother is a bass player in the band , that is scheduled to play at the wedding reception . But the band \\'s leader , Darren , forced her to quit . The Mother ultimately decides to confront Darren and retake the band . She ends up alone at the bar , and while practicing a speech to give Darren , Darren walks up to her furious the groom \\'s best man punched him for `` no reason . \\'\\' Amused by this , the Mother laughs , and Darren quits the band in anger . </P> <P> In `` How Your Mother Met Me \\'\\' , it is shown that after this incident , the Mother returns to Louis \\' summer cottage not far from the Farhampton Inn where she has been staying for the duration of the wedding weekend . As she walks in the door , Louis proposes to her , but she goes outside to think about it for a few minutes . She declines Louis \\' proposal and leaves his cottage , going to check in at Farhampton Inn . On her room \\'s balcony , she plays the ukulele and sings `` La Vie en Rose \\'\\' . Ted hears her singing from his room next door . </P> <P> In `` Gary Blauman \\'\\' , Ted and the Mother are on their first date . Ted picks her up at her New York City apartment and they proceed to walk to a Scottish - Mexican fusion restaurant for dinner . On the way there , Ted is telling her a story when they nearly have a run - in with Louis . She says that she is in the `` weirdest place on earth \\'\\' right now and that it is too soon for her to be dating . Ted walks her back to her apartment . They say goodnight and Ted begins to walk away . The Mother then stops him and asks him to finish the story he was telling her . When the story is over , they say goodnight again . The Mother takes a step towards Ted and they kiss for the first time , before deciding to carry on their date . </P> <P> In a flashforward in `` The Lighthouse \\'\\' , Ted proposes to the Mother at the top of the lighthouse near Farhampton Inn . She immediately accepts . In another flashfoward in `` Unpause \\'\\' , the Mother is revealed to be pregnant with their second child , Luke , in the year 2017 . She goes into labor while she and Ted are staying at Farhampton . </P> <H3> Name ( edit ) </H3> <P> The Mother \\'s real name is not revealed until the series finale , `` Last Forever \\'\\' . When Ted meets her at the Farhampton train station , she reveals that her name is Tracy McConnell . In the season 1 episode `` Belly Full of Turkey \\'\\' , Ted meets a stripper named Tracy and says `` ... that , kids , is the true story of how I met your mother \\'\\' . The children react in surprise and appear to believe Ted before he admits he is joking , which led some fans to correctly guess that The Mother \\'s name is Tracy . </P> <H2> Death ( edit ) </H2> See also : Last Forever <P> In the series finale , it is revealed that six years prior to Ted telling the story to his children , Tracy died in 2024 from an undisclosed illness . In the finale the characters do not directly state that the mother is dead . Ted says that she `` became sick \\'\\' and his children saying that she has been `` gone \\'\\' for six years . Many fans expressed considerable disappointment to The Mother \\'s death . Milioti cried when she learned her character was supposed to die , but came to accept the ending was what the writers had planned from the beginning . Bill Kuchman from Popculturology said that The Mother was `` an amazing character \\'\\' and that `` over the course of this final season HIMYM made us care about Tracy . Kuchman said that `` asking fans to drop all of that with a simple line about The Mother getting sick and passing away was a very difficult request \\'\\' , that the finale `` advanced too quickly \\'\\' and that `` HIMYM was a victim of its own success on this issue \\'\\' . </P> <P> A petition was started , aiming to rewrite and reshoot the finale . The petition has over 20,000 signatures and considerable online news coverage . On April 5 , 2014 , Carter Bays announced on Twitter that an alternate ending would be included on the Season 9 DVD . No new material was shot for this scene . In the alternate ending , the mother is still living when Ted is telling the story in 2030 . </P> <H2> Notes ( edit ) </H2> <Ol> <Li> Jump up ^ The Mother celebrates her 21st birthday on the day that `` Pilot \\'\\' is set . The pilot is set on September 19 , 2005 . </Li> </Ol> <H2> References ( edit ) </H2> <Ol> <Li> ^ Jump up to : Debnath , Neela ( 7 September 2014 ) . `` How I Met Your Mother alternative finale leaks online ahead of DVD release \\'\\' . The Independent . Retrieved 15 February 2015 . </Li> <Li> Jump up ^ Kreps , Daniel ( September 6 , 2014 ) . `` Watch the Happier \\' How I Met Your Mother \\' Alternate Ending \\'\\' . Rolling Stone . </Li> <Li> Jump up ^ MacGregor , Rachel ( September 23 , 2014 ) . `` 8 reasons why How I Met Your Mother should \\'ve used its alternative ending \\'\\' . Metro UK . </Li> <Li> Jump up ^ Stransky , Tanner ( 2013 - 05 - 13 ) . `` \\' How I Met Your Mother \\' : Burning questions about the mother \\'\\' . Entertainment Weekly . </Li> <Li> ^ Jump up to : Fallon , Kevin ( 2013 - 05 - 14 ) . `` \\' How I Met Your Mother \\' Mother Revealed : Meet Cristin Milioti \\'\\' . The Daily Beast . </Li> <Li> Jump up ^ Fallon , Kevin ( 2015 - 11 - 03 ) . `` How Cristin Milioti Met \\' Fargo \\' -- And Left \\' How I Met Your Mother \\' Behind \\'\\' . The Daily Beast . </Li> <Li> ^ Jump up to : `` How Your Mother Met Me \\'\\' . How I Met Your Mother . Season 9 . Episode 16 . January 27 , 2014 . </Li> <Li> Jump up ^ `` Pilot \\'\\' . How I Met Your Mother . Season 1 . Episode 1 . September 19 , 2005 . CBS . </Li> <Li> ^ Jump up to : Kuchman , Bill ( April 4 , 2014 ) . `` \\' How I Met Your Mother \\' \\' Last Forever \\' Recap : A Divisive Finale and What It Means for \\' HIMYM \\' \\'\\' . Retrieved July 7 , 2014 . </Li> <Li> Jump up ^ Rullo , Samantha ( 10 March 2014 ) . `` What is The Mother \\'s Name on \\' How I Met Your Mother \\' ? Episode Title Might Hold the Secret \\'\\' . Retrieved July 7 , 2014 . </Li> <Li> Jump up ^ `` HIMYM Tomatometer Watch : Series Finale Currently Rotten - Majority of critics disappointed by \\' Last Forever \\' \\'\\' . Rotten Tomatoes. April 2 , 2014 . Retrieved April 3 , 2014 . </Li> <Li> Jump up ^ http://abcnews.go.com/Entertainment/cristin-milioti-sobbed-found-characters-fate-met-mother/story?id=25947923 </Li> <Li> Jump up ^ Kuchman , Bill ( March 31 , 2014 ) . `` \\' HIMYM \\' Finale Instant Reaction \\'\\' . Retrieved July 7 , 2014 . </Li> <Li> Jump up ^ Guerrero , Danger ( April 4 , 2014 ) . `` Now There \\'s A Petition To \\' Rewrite And Reshoot \\' The \\' How I Met Your Mother \\' Ending \\'\\' . Retrieved July 7 , 2014 . </Li> <Li> Jump up ^ Maresca , Rachel ( April 3 , 2014 ) . `` \\' How I Met Your Mother \\' series finale sparks online petition from fans who want ending changed \\'\\' . New York Daily News . Retrieved July 7 , 2014 . </Li> <Li> Jump up ^ Update for those who \\'ve been asking : Alt # himym ending will be on s9 DVD and also in the series box set . https://twitter.com/CarterBays/status/452299544995184640 </Li> <Li> Jump up ^ James , Lauren ( April 5 , 2014 ) . `` \\' How I Met Your Mother \\' May Get Alternate Ending After Petition , Says Carter Bays \\'\\' . Contact Music . Retrieved July 7 , 2014 . </Li> <Li> Jump up ^ Kreps , Daniel ( September 6 , 2014 ) . `` Watch the Happier \\' How I Met Your Mother \\' Alternate Ending \\'\\' . Rolling Stone . Retrieved November 16 , 2014 . </Li> </Ol> <Table> <Tr> <Th_colspan=\"2\"> ( hide ) <Ul> <Li> </Li> <Li> </Li> <Li> </Li> </Ul> How I Met Your Mother </Th> </Tr> <Tr> <Th> Episodes </Th> <Td> <Ul> <Li> Season 1 </Li> <Li> Season 2 </Li> <Li> Season 3 </Li> <Li> Season 4 </Li> <Li> Season 5 </Li> <Li> Season 6 </Li> <Li> Season 7 </Li> <Li> Season 8 </Li> <Li> Season 9 </Li> </Ul> </Td> </Tr> <Tr> <Th> Characters </Th> <Td> <Ul> <Li> Ted Mosby </Li> <Li> Marshall Eriksen </Li> <Li> Lily Aldrin </Li> <Li> Barney Stinson </Li> <Li> Robin Scherbatsky </Li> <Li> The Mother ( Tracy McConnell ) </Li> </Ul> </Td> </Tr> <Tr> <Th> Soundtracks </Th> <Td> <Ul> <Li> How I Met Your Music </Li> </Ul> </Td> </Tr> <Tr> <Th> Related articles </Th> <Td> <Ul> <Li> Awards and nominations </Li> <Li> The Bro Code </Li> <Li> Cheerleader effect </Li> <Li> `` Nothing Suits Me Like a Suit \\'\\' </Li> </Ul> </Td> </Tr> </Table> Retrieved from `` https://en.wikipedia.org/w/index.php?title=The_Mother_(How_I_Met_Your_Mother)&oldid=802354471 \\'\\' Categories : <Ul> <Li> How I Met Your Mother characters </Li> <Li> Fictional characters introduced in 2013 </Li> <Li> Fictional female musicians </Li> </Ul> Hidden categories : <Ul> <Li> Pages using deprecated image syntax </Li> <Li> Pages using infobox character with unknown parameters </Li> </Ul> <H2> </H2> <H3> </H3> <Ul> <Li> </Li> <Li> Talk </Li> <Li> </Li> <Li> </Li> <Li> </Li> </Ul> <H3> </H3> <Ul> <Li> </Li> <Li> </Li> </Ul> <H3> </H3> <Ul> </Ul> <H3> </H3> <Ul> <Li> </Li> <Li> </Li> <Li> </Li> </Ul> <H3> </H3> <Ul> </Ul> <H3> </H3> <H3> </H3> <Ul> <Li> </Li> <Li> Contents </Li> <Li> </Li> <Li> </Li> <Li> </Li> <Li> </Li> <Li> </Li> </Ul> <H3> </H3> <Ul> <Li> </Li> <Li> About Wikipedia </Li> <Li> </Li> <Li> </Li> <Li> </Li> </Ul> <H3> </H3> <Ul> <Li> </Li> <Li> </Li> <Li> </Li> <Li> </Li> <Li> </Li> <Li> </Li> <Li> </Li> <Li> </Li> </Ul> <H3> </H3> <Ul> <Li> </Li> <Li> </Li> <Li> </Li> </Ul> <H3> </H3> <Ul> <Li> Español </Li> <Li> Italiano </Li> <Li> Magyar </Li> <Li> Tiếng Việt </Li> </Ul> Edit links <Ul> <Li> This page was last edited on 25 September 2017 , at 17 : 03 . </Li> <Li> Text is available under the Creative Commons Attribution - ShareAlike License ; additional terms may apply . By using this site , you agree to the Terms of Use and Privacy Policy . Wikipedia ® is a registered trademark of the Wikimedia Foundation , Inc. , a non-profit organization . </Li> </Ul> <Ul> <Li> </Li> <Li> About Wikipedia </Li> <Li> </Li> <Li> </Li> <Li> </Li> <Li> </Li> <Li> </Li> <Li> </Li> </Ul> <Ul> <Li> </Li> <Li> </Li> </Ul>',\n",
       " 'long_answer_candidates': [{'start_token': 28,\n",
       "   'top_level': True,\n",
       "   'end_token': 212},\n",
       "  {'start_token': 29, 'top_level': False, 'end_token': 35},\n",
       "  {'start_token': 35, 'top_level': False, 'end_token': 45},\n",
       "  {'start_token': 45, 'top_level': False, 'end_token': 57},\n",
       "  {'start_token': 57, 'top_level': False, 'end_token': 79},\n",
       "  {'start_token': 79, 'top_level': False, 'end_token': 91},\n",
       "  {'start_token': 91, 'top_level': False, 'end_token': 103},\n",
       "  {'start_token': 103, 'top_level': False, 'end_token': 113},\n",
       "  {'start_token': 113, 'top_level': False, 'end_token': 118},\n",
       "  {'start_token': 118, 'top_level': False, 'end_token': 127},\n",
       "  {'start_token': 127, 'top_level': False, 'end_token': 135},\n",
       "  {'start_token': 135, 'top_level': False, 'end_token': 147},\n",
       "  {'start_token': 147, 'top_level': False, 'end_token': 168},\n",
       "  {'start_token': 168, 'top_level': False, 'end_token': 203},\n",
       "  {'start_token': 203, 'top_level': False, 'end_token': 211},\n",
       "  {'start_token': 212, 'top_level': True, 'end_token': 310},\n",
       "  {'start_token': 310, 'top_level': True, 'end_token': 416},\n",
       "  {'start_token': 416, 'top_level': True, 'end_token': 536},\n",
       "  {'start_token': 581, 'top_level': True, 'end_token': 746},\n",
       "  {'start_token': 746, 'top_level': True, 'end_token': 851},\n",
       "  {'start_token': 858, 'top_level': True, 'end_token': 870},\n",
       "  {'start_token': 870, 'top_level': True, 'end_token': 941},\n",
       "  {'start_token': 941, 'top_level': True, 'end_token': 1107},\n",
       "  {'start_token': 1107, 'top_level': True, 'end_token': 1271},\n",
       "  {'start_token': 1271, 'top_level': True, 'end_token': 1543},\n",
       "  {'start_token': 1543, 'top_level': True, 'end_token': 1573},\n",
       "  {'start_token': 1573, 'top_level': True, 'end_token': 1728},\n",
       "  {'start_token': 1728, 'top_level': True, 'end_token': 1796},\n",
       "  {'start_token': 1796, 'top_level': True, 'end_token': 1873},\n",
       "  {'start_token': 1873, 'top_level': True, 'end_token': 1933},\n",
       "  {'start_token': 1933, 'top_level': True, 'end_token': 2067},\n",
       "  {'start_token': 2067, 'top_level': True, 'end_token': 2185},\n",
       "  {'start_token': 2185, 'top_level': True, 'end_token': 2346},\n",
       "  {'start_token': 2346, 'top_level': True, 'end_token': 2416},\n",
       "  {'start_token': 2422, 'top_level': True, 'end_token': 2531},\n",
       "  {'start_token': 2542, 'top_level': True, 'end_token': 2736},\n",
       "  {'start_token': 2736, 'top_level': True, 'end_token': 2815}],\n",
       " 'question_text': 'how i.met your mother who is the mother',\n",
       " 'annotations': [{'yes_no_answer': 'NONE',\n",
       "   'long_answer': {'start_token': 212,\n",
       "    'candidate_index': 15,\n",
       "    'end_token': 310},\n",
       "   'short_answers': [{'start_token': 213, 'end_token': 215}],\n",
       "   'annotation_id': 12034874153783787365}],\n",
       " 'document_url': 'https://en.wikipedia.org//w/index.php?title=The_Mother_(How_I_Met_Your_Mother)&amp;oldid=802354471',\n",
       " 'example_id': 5328212470870865242}"
      ]
     },
     "execution_count": 40,
     "metadata": {},
     "output_type": "execute_result"
    }
   ],
   "source": [
    "a"
   ]
  },
  {
   "cell_type": "code",
   "execution_count": 30,
   "metadata": {},
   "outputs": [
    {
     "data": {
      "text/plain": [
       "[{'yes_no_answer': 'NONE',\n",
       "  'long_answer': {'start_token': 212, 'candidate_index': 15, 'end_token': 310},\n",
       "  'short_answers': [{'start_token': 213, 'end_token': 215}],\n",
       "  'annotation_id': 12034874153783787365}]"
      ]
     },
     "execution_count": 30,
     "metadata": {},
     "output_type": "execute_result"
    }
   ],
   "source": [
    "a['annotations']"
   ]
  },
  {
   "attachments": {
    "image.png": {
     "image/png": "[encoded data removed]"
    }
   },
   "cell_type": "markdown",
   "metadata": {},
   "source": [
    "![image.png](attachment:image.png)"
   ]
  },
  {
   "cell_type": "code",
   "execution_count": 11,
   "metadata": {},
   "outputs": [],
   "source": [
    "import openai\n",
    "client = openai.OpenAI()"
   ]
  },
  {
   "cell_type": "code",
   "execution_count": 56,
   "metadata": {},
   "outputs": [],
   "source": [
    "response = client.chat.completions.create(\n",
    "            model=\"gpt-4o-mini\",\n",
    "            messages=[\n",
    "                {\"role\": \"system\", \"content\": \"You are a helpful assistant that provides concise answers.\"},\n",
    "                {\"role\": \"user\", \"content\": f\"Question: {a['question_text']}\\nContext: {a['document_text']}\\nProvide a brief answer(The answer has to be exactly from the context, which means the answer is a sub-sequence of the content):\"}\n",
    "            ]\n",
    "        )\n",
    "gpt_answer = response.choices[0].message.content"
   ]
  },
  {
   "cell_type": "code",
   "execution_count": 57,
   "metadata": {},
   "outputs": [
    {
     "data": {
      "text/plain": [
       "'Tracy McConnell, better known as \"The Mother,\" is the title character from the CBS television sitcom How I Met Your Mother.'"
      ]
     },
     "execution_count": 57,
     "metadata": {},
     "output_type": "execute_result"
    }
   ],
   "source": [
    "gpt_answer\n"
   ]
  },
  {
   "cell_type": "code",
   "execution_count": 58,
   "metadata": {},
   "outputs": [
    {
     "data": {
      "text/plain": [
       "{'start_token': 213, 'end_token': 215}"
      ]
     },
     "execution_count": 58,
     "metadata": {},
     "output_type": "execute_result"
    }
   ],
   "source": [
    "start_end[0]"
   ]
  },
  {
   "cell_type": "code",
   "execution_count": 59,
   "metadata": {},
   "outputs": [
    {
     "name": "stdout",
     "output_type": "stream",
     "text": [
      "how i.met your mother who is the mother\n",
      "213 215\n",
      "\n",
      "merican </Td> </Tr> </Table> <P> Tracy McConnell \n",
      " better known as `` The Mother '' , is"
     ]
    }
   ],
   "source": [
    "print(a['question_text'])\n",
    "\n",
    "document_tokens = get_nq_tokens(a)\n",
    "short_answers = []\n",
    "start_i = a['annotations'][0]['short_answers'][0]['start_token']\n",
    "end_i = a['annotations'][0]['short_answers'][0]['end_token']\n",
    "print(start_i, end_i)\n",
    "\n",
    "lookaround = ' '.join(document_tokens[start_i-5:end_i+10])\n",
    "i = 0\n",
    "for c in lookaround:\n",
    "    if i % 50 == 0:\n",
    "        print('')\n",
    "    else:\n",
    "        print(c, end='')\n",
    "    i += 1"
   ]
  },
  {
   "cell_type": "code",
   "execution_count": 60,
   "metadata": {},
   "outputs": [],
   "source": [
    "response_2 = client.chat.completions.create(\n",
    "            model=\"gpt-4o-mini\",\n",
    "            messages=[\n",
    "                {\"role\": \"system\", \"content\": \"You are a professional judge on the question and answer pair. Cut the answer to the shortest possible sub-sequence of the given answer that can answer the question.\"},\n",
    "                {\"role\": \"user\", \"content\": f\"Question: {a['question_text']}\\nAnswer: {gpt_answer}\\nProvide the shortest sub-sequence of the given answer that can answer the question(return the same answer if it is already the shortest):\"}\n",
    "            ]\n",
    "        )\n",
    "\n",
    "gpt_answer_2 = response_2.choices[0].message.content\n"
   ]
  },
  {
   "cell_type": "code",
   "execution_count": 61,
   "metadata": {},
   "outputs": [
    {
     "name": "stdout",
     "output_type": "stream",
     "text": [
      "tracy mcconnell, also known as \"the mother,\" is the title character from how i met your mother\n"
     ]
    }
   ],
   "source": [
    "gpt_answer_3 = strip_end_punctuation(gpt_answer_2.lower())\n",
    "print(gpt_answer_3)"
   ]
  },
  {
   "cell_type": "code",
   "execution_count": 66,
   "metadata": {},
   "outputs": [
    {
     "data": {
      "text/plain": [
       "'tracy mcconnell'"
      ]
     },
     "execution_count": 66,
     "metadata": {},
     "output_type": "execute_result"
    }
   ],
   "source": [
    "response_3 = client.chat.completions.create(\n",
    "            model=\"gpt-4o-mini\",\n",
    "            messages=[\n",
    "                {\"role\": \"system\", \"content\": \"You are a professional judge on the question and answer pair. Cut the answer to the shortest possible sub-sequence of the given answer that can answer the question.\"},\n",
    "                {\"role\": \"user\", \"content\": f\"Question: {a['question_text']}\\nAnswer: {gpt_answer_3}\\nProvide the shortest sub-sequence of the given answer that can answer the question(return the same answer if it is already the shortest):\"}\n",
    "            ]\n",
    "        )\n",
    "\n",
    "gpt_answer_3 = response_3.choices[0].message.content\n",
    "gpt_answer_3"
   ]
  },
  {
   "cell_type": "code",
   "execution_count": 12,
   "metadata": {},
   "outputs": [],
   "source": [
    "def nq_agents(nq_example, verbose=False):\n",
    "    # document_tokens = get_nq_tokens(nq_example)\n",
    "    short_answer = get_short_answers(nq_example)\n",
    "\n",
    "    # first agent: extract answer from context\n",
    "    response = client.chat.completions.create(\n",
    "            model=\"gpt-4o-mini\",\n",
    "            messages=[\n",
    "                {\"role\": \"system\", \"content\": \"You are a helpful assistant that provides concise answers.\"},\n",
    "                {\"role\": \"user\", \"content\": f\"Question: {nq_example['question_text']}\\nContext: {nq_example['document_text']}\\nProvide a brief answer(The answer has to be exactly from the context, which means the answer is a substring of the content):\"}\n",
    "            ]\n",
    "        )\n",
    "    gpt_answer = response.choices[0].message.content\n",
    "    if verbose:\n",
    "        print('initial_answer:', gpt_answer)\n",
    "\n",
    "    # second agent: cut the answer to the shortest possible sub-sequence of the given answer that can answer the question\n",
    "    response_2 = client.chat.completions.create(\n",
    "            model=\"gpt-4o-mini\",\n",
    "            messages=[\n",
    "                {\"role\": \"system\", \"content\": \"You are a professional judge on the question and answer pair. Cut the answer to the shortest contiguous substring of the given answer that can answer the question.\"},\n",
    "                {\"role\": \"user\", \"content\": f\"Question: {nq_example['question_text']}\\nAnswer: {gpt_answer}\\nProvide the shortest contiguous substring of the given answer that can answer the question:\"}\n",
    "            ]\n",
    "        )\n",
    "    gpt_answer_2 = response_2.choices[0].message.content\n",
    "    if verbose:\n",
    "        print('reduced_answer:', gpt_answer_2)\n",
    "    # Tool 1: remove end punctuation\n",
    "    gpt_answer_3 = strip_end_punctuation(gpt_answer_2)\n",
    "    # third agent: keep improving the answer until there is no change.\n",
    "    gpt_answer_3_prev = ''\n",
    "    while gpt_answer_3 != gpt_answer_3_prev:\n",
    "        gpt_answer_3_prev = gpt_answer_3\n",
    "        response_3 = client.chat.completions.create(\n",
    "            model=\"gpt-4o-mini\",\n",
    "            messages=[\n",
    "                {\"role\": \"system\", \"content\": \"You are a professional judge on the question and answer pair. Cut the answer to the shortest contiguous substring of the given answer that can answer the question.\"},\n",
    "                {\"role\": \"user\", \"content\": f\"Question: {nq_example['question_text']}\\nAnswer: {gpt_answer_3}\\nProvide the shortest contiguous substring of the given answer that can answer the question(return the same answer if it is already the shortest):\"}\n",
    "            ]\n",
    "        )\n",
    "        gpt_answer_3 = response_3.choices[0].message.content\n",
    "        if verbose:\n",
    "            print('improved_answer:', gpt_answer_3)\n",
    "    if verbose:\n",
    "        print('- '*10)\n",
    "        print('gold_answer:', short_answer)\n",
    "        print('final_answer:', gpt_answer_3)\n",
    "\n",
    "    return gpt_answer_3\n"
   ]
  },
  {
   "cell_type": "code",
   "execution_count": 15,
   "metadata": {},
   "outputs": [
    {
     "data": {
      "text/plain": [
       "'which is the most common use of opt-in e-mail marketing'"
      ]
     },
     "execution_count": 15,
     "metadata": {},
     "output_type": "execute_result"
    }
   ],
   "source": [
    "json_top100[0]['question_text']\n"
   ]
  },
  {
   "cell_type": "code",
   "execution_count": 17,
   "metadata": {},
   "outputs": [
    {
     "name": "stdout",
     "output_type": "stream",
     "text": [
      "1\n",
      "initial_answer: Human fertilization is the union of a human egg and sperm, usually occurring in the ampulla of the fallopian tube.\n",
      "reduced_answer: internal fertilisation\n",
      "improved_answer: internal fertilisation\n",
      "- - - - - - - - - - \n",
      "gold_answer: []\n",
      "final_answer: internal fertilisation\n"
     ]
    },
    {
     "data": {
      "text/plain": [
       "'internal fertilisation'"
      ]
     },
     "execution_count": 17,
     "metadata": {},
     "output_type": "execute_result"
    }
   ],
   "source": [
    "nq_agents(json_top100[3], verbose=True)"
   ]
  },
  {
   "cell_type": "code",
   "execution_count": 18,
   "metadata": {},
   "outputs": [
    {
     "name": "stdout",
     "output_type": "stream",
     "text": [
      "what is the use of jdk in java\n",
      "----skipped----\n",
      "============================================================\n",
      "who needs to be in the car with a permit driver\n",
      "1\n",
      "initial_answer: A fully licensed driver must sit in the seat adjacent the new driver.\n",
      "reduced_answer: A fully licensed driver must sit.\n",
      "improved_answer: A fully licensed driver\n",
      "improved_answer: A fully licensed driver\n",
      "- - - - - - - - - - \n",
      "gold_answer: ['an adult licensed driver who is at least 21 years of age or older and in the passenger seat of the vehicle at all times']\n",
      "final_answer: A fully licensed driver\n",
      "============================================================\n",
      "god's not dead a light in the darkness release date\n",
      "1\n",
      "initial_answer: March 30, 2018\n",
      "reduced_answer: March 30, 2018\n",
      "improved_answer: March 30, 2018\n",
      "- - - - - - - - - - \n",
      "gold_answer: ['March 30 , 2018']\n",
      "final_answer: March 30, 2018\n",
      "============================================================\n",
      "who plays young flo in the progressive commercials\n",
      "----skipped----\n",
      "============================================================\n",
      "i love it (feat. charli xcx) icona pop\n",
      "----skipped----\n",
      "============================================================\n",
      "the u.s. supreme court hears appeals from circuit courts\n",
      "----skipped----\n",
      "============================================================\n",
      "ru pauls drag race all stars 2 episode 3\n",
      "----skipped----\n",
      "============================================================\n",
      "who is the current president of un general assembly\n",
      "1\n",
      "initial_answer: Miroslav Lajčák\n",
      "reduced_answer: Miroslav Lajčák\n",
      "improved_answer: Miroslav Lajčák\n",
      "- - - - - - - - - - \n",
      "gold_answer: ['Miroslav Lajčák of Slovakia']\n",
      "final_answer: Miroslav Lajčák\n",
      "============================================================\n",
      "why does the author say that the vampire in nosferatu is named count orlok and not count dracula\n",
      "----skipped----\n",
      "============================================================\n",
      "what season does chris pratt join the office\n",
      "----skipped----\n",
      "============================================================\n"
     ]
    }
   ],
   "source": [
    "for problem in json_top100[20:30]:\n",
    "    print(problem['question_text'])\n",
    "    if problem['annotations'][0]['short_answers']:\n",
    "        nq_agents(problem, verbose=True)\n",
    "    else:\n",
    "        print('----skipped----')\n",
    "    print('=='*30)\n",
    "\n"
   ]
  },
  {
   "cell_type": "code",
   "execution_count": 92,
   "metadata": {},
   "outputs": [
    {
     "data": {
      "text/plain": [
       "{'document_text': 'List of Premier League broadcasters - wikipedia <H1> List of Premier League broadcasters </H1> Jump to : navigation , search <P> This is a list of television broadcasters which provide coverage of the Premier League , English football \\'s top level competition , which is the most watched league in the world . The main broadcasters in the United Kingdom are Sky Sports , who broadcast 126 of the 168 televised games in the UK , and BT Sport . The BBC shows weekly highlights of the Premier League on its Match of the Day and Match of the Day 2 programmes on Saturdays and Sundays . </P> <P> The 168 UK televised games are also broadcast across the world ; the remaining 212 matches that are n\\'t broadcast live in the UK are all broadcast elsewhere around the world . English - speaking countries ( excluding the UK ) are able to carry what is known as the \\' International feed \\' or \\' World feed \\' audio ; this is full match commentary provided by the Premier League . In Asia , and select other countries around the world , there is also a fully produced studio broadcast where pre , half time and post-match analysis is offered . This is currently hosted by John Dykes . </P> <P> The 3 : 00pm ( UK time ) Saturday kick - offs are not allowed to be shown live in the UK due to the hours of 2.45 pm - 5.15 pm being \\' blocked broadcasting hours \\' , as requested by the FA and enforced by UEFA . In Ireland , a different situation applies ; a package of only one Saturday 3 : 00pm kick off each week ( along with one game on the final Sunday ) is sold as an addition to the UK live rights packages , this package is currently held by Sky Sports . While there is no rule prohibiting the screening of the other 3 : 00pm games in Ireland , the Premier League does not make the rights to these games available to Irish broadcasters , due to the overlap in reception that is possible in Northern Ireland and mainland England and not \\'s total match completely absolute live in total all interviews season the paradox that total matches live other will only be seen on streaming sites of he Premier League TV . </P> <P> </P> <H2> Contents </H2> ( hide ) <Ul> <Li> 1 Broadcasters <Ul> <Li> 1.1 Broadcasters by region <Ul> <Li> 1.1. 1 African broadcasters </Li> <Li> 1.1. 2 Asian broadcasters </Li> <Li> 1.1. 3 European broadcasters </Li> <Li> 1.1. 4 Latin American broadcasters </Li> <Li> 1.1. 5 Middle Eastern and North African broadcasters </Li> <Li> 1.1. 6 North American and Caribbean broadcasters </Li> <Li> 1.1. 7 Oceanian broadcasters </Li> </Ul> </Li> </Ul> </Li> <Li> 2 References </Li> <Li> 3 External links </Li> </Ul> <P> </P> <H2> Broadcasters ( edit ) </H2> <P> These are the countries and channels that broadcast the Premier League for 2016 - 19 : </P> <H3> Broadcasters by region ( edit ) </H3> African broadcasters ( edit ) <Table> <Tr> <Th> </Th> <Th> Language </Th> <Th> Broadcaster </Th> </Tr> <Tr> <Td> Sub-saharan Africa </Td> <Td> English French </Td> <Td> Supersport Kwesé Sports Canal+ </Td> </Tr> </Table> Asian broadcasters ( edit ) <Table> <Tr> <Th> Country </Th> <Th> Language </Th> <Th> Broadcasters </Th> </Tr> <Tr> <Td> Afghanistan </Td> <Td> Afghan </Td> <Td> Ariana TV </Td> </Tr> <Tr> <Td> Bhutan </Td> <Td> English </Td> <Td> STAR Sports </Td> </Tr> <Tr> <Td> India </Td> </Tr> <Tr> <Td> Maldives </Td> </Tr> <Tr> <Td> Nepal </Td> </Tr> <Tr> <Td> Sri Lanka </Td> </Tr> <Tr> <Td> Bangladesh </Td> <Td> English </Td> <Td> STAR Sports Gazi TV </Td> </Tr> <Tr> <Td> Pakistan </Td> <Td> English </Td> <Td> STAR Sports PTV Sports </Td> </Tr> <Tr> <Td> China ( mainland ) </Td> <Td> Mandarin </Td> <Td> CCTV CSPN BTV SMG SZMG GDTV GZTV CBG SDTV XJTV TJTV FMG DLTV JSBC ZZTV HBTV Tencent LeSports PPTV Super Sports </Td> </Tr> <Tr> <Td> Hong Kong </Td> <Td> English Cantonese </Td> <Td> now TV LeSports </Td> </Tr> <Tr> <Td> Indonesia </Td> <Td> English Indonesian </Td> <Td> beIN Sports RCTI MNCTV </Td> </Tr> <Tr> <Td> Japan </Td> <Td> Japanese </Td> <Td> J Sports NHK Sportsnavi </Td> </Tr> <Tr> <Td> Kazakhstan </Td> <Td> Kazakh </Td> <Td> Setanta Sports </Td> </Tr> <Tr> <Td> Kyrgyzstan </Td> <Td> Kyrgyz </Td> <Td> KTRK Sport </Td> </Tr> <Tr> <Td> Macau </Td> <Td> English Cantonese Portuguese </Td> <Td> Super Sports </Td> </Tr> <Tr> <Td> Mongolia </Td> <Td> Mongolian </Td> <Td> Sansar HD SPS Premier Sports Channel </Td> </Tr> <Tr> <Td> South Korea </Td> <Td> English Korean </Td> <Td> SBS Sports SPOTV </Td> </Tr> <Tr> <Td> Malaysia & Brunei </Td> <Td> English Malay & Cantonese </Td> <Td> Astro </Td> </Tr> <Tr> <Td> Myanmar </Td> <Td> English Burmese </Td> <Td> Sky Net </Td> </Tr> <Tr> <Td> Philippines </Td> <Td> English Tagalog </Td> <Td> beIN Sports </Td> </Tr> <Tr> <Td> Singapore </Td> <Td> English </Td> <Td> Singtel TV </Td> </Tr> <Tr> <Td> Taiwan </Td> <Td> Mandarin English </Td> <Td> Eleven Sports </Td> </Tr> <Tr> <Td> Thailand , Laos & Cambodia </Td> <Td> Thai English </Td> <Td> beIN Sports PPTV </Td> </Tr> <Tr> <Td> Tajikistan </Td> <Td> Tajik </Td> <Td> Varzish TV Football TV </Td> </Tr> <Tr> <Td> Uzbekistan </Td> <Td> Uzbek </Td> <Td> UZ Report TV Futbol TV </Td> </Tr> <Tr> <Td> Vietnam </Td> <Td> Vietnamese English </Td> <Td> K+ TTTV , BDTV ( VTVCab ) FPT Telecom </Td> </Tr> </Table> European broadcasters ( edit ) <Table> <Tr> <Th> Country </Th> <Th> Language </Th> <Th> Broadcasters </Th> </Tr> <Tr> <Td> Albania </Td> <Td> Albanian </Td> <Td> SuperSport </Td> </Tr> <Tr> <Td> Kosovo </Td> </Tr> <Tr> <Td> Serbia </Td> <Td> Serbian Croatian Macedonian Slovenian </Td> <Td> Sport Klub </Td> </Tr> <Tr> <Td> Croatia </Td> </Tr> <Tr> <Td> Bosnia and Herzegovina </Td> </Tr> <Tr> <Td> Montenegro </Td> </Tr> <Tr> <Td> Macedonia </Td> </Tr> <Tr> <Td> Slovenia </Td> </Tr> <Tr> <Td> Andorra </Td> <Td> Spanish </Td> <Td> Movistar+ </Td> </Tr> <Tr> <Td> Armenia </Td> <Td> Armenian </Td> <Td> Armenia 2 </Td> </Tr> <Tr> <Td> Austria </Td> <Td> German </Td> <Td> DAZN </Td> </Tr> <Tr> <Td> Azerbaijan </Td> <Td> Azerbaijani </Td> <Td> AzTV </Td> </Tr> <Tr> <Td> Belarus </Td> <Td> Belarusian </Td> <Td> Beltelradio </Td> </Tr> <Tr> <Td> Belgium </Td> <Td> Dutch French </Td> <Td> Play Sports VOO Sport </Td> </Tr> <Tr> <Td> Bulgaria </Td> <Td> Bulgarian </Td> <Td> Diema Sport </Td> </Tr> <Tr> <Td> Cyprus </Td> <Td> Greek </Td> <Td> CytaVision </Td> </Tr> <Tr> <Td> Czech Republic </Td> <Td> Czech </Td> <Td> Digi Sport </Td> </Tr> <Tr> <Td> Denmark </Td> <Td> Danish </Td> <Td> TV3 Sport 6\\'eren </Td> </Tr> <Tr> <Td> Estonia </Td> <Td> Estonian </Td> <Td> Viasat Sport Baltic </Td> </Tr> <Tr> <Td> Finland </Td> <Td> Finnish </Td> <Td> Viasat Sport </Td> </Tr> <Tr> <Td> France </Td> <Td> French </Td> <Td> SFR Sport </Td> </Tr> <Tr> <Td> Georgia </Td> <Td> Georgian </Td> <Td> Silknet </Td> </Tr> <Tr> <Td> Germany </Td> <Td> German </Td> <Td> DAZN </Td> </Tr> <Tr> <Td> Greece </Td> <Td> Greek </Td> <Td> Cosmote Sport </Td> </Tr> <Tr> <Td> Hungary </Td> <Td> Hungarian </Td> <Td> Spíler TV </Td> </Tr> <Tr> <Td> Iceland </Td> <Td> Icelandic </Td> <Td> Stöð 2 Sport </Td> </Tr> <Tr> <Td> Ireland </Td> <Td> English </Td> <Td> Sky Sports BT Sport </Td> </Tr> <Tr> <Td> Italy </Td> <Td> Italian </Td> <Td> SKY Sport </Td> </Tr> <Tr> <Td> Latvia </Td> <Td> Latvian </Td> <Td> Viasat Sport Baltic </Td> </Tr> <Tr> <Td> Liechtenstein </Td> <Td> German </Td> <Td> DAZN </Td> </Tr> <Tr> <Td> Lithuania </Td> <Td> Lithuanian </Td> <Td> Viasat Sport Baltic </Td> </Tr> <Tr> <Td> Luxembourg </Td> <Td> French </Td> <Td> VOO Sport </Td> </Tr> <Tr> <Td> Malta </Td> <Td> English </Td> <Td> GO Sports </Td> </Tr> <Tr> <Td> Netherlands </Td> <Td> Dutch </Td> <Td> Ziggo Sport Totaal </Td> </Tr> <Tr> <Td> Norway </Td> <Td> English / Norwegian </Td> <Td> TV2 </Td> </Tr> <Tr> <Td> Poland </Td> <Td> Polish </Td> <Td> NC+ </Td> </Tr> <Tr> <Td> Portugal </Td> <Td> Portuguese </Td> <Td> Sport TV </Td> </Tr> <Tr> <Td> Romania </Td> <Td> Romanian </Td> <Td> Eurosport 1 Telekom Sport </Td> </Tr> <Tr> <Td> Russia </Td> <Td> Russian </Td> <Td> Match TV </Td> </Tr> <Tr> <Td> San Marino </Td> <Td> Italian </Td> <Td> SKY Sport </Td> </Tr> <Tr> <Td> Slovakia </Td> <Td> Czech </Td> <Td> Digi Sport </Td> </Tr> <Tr> <Td> Spain </Td> <Td> Spanish </Td> <Td> Movistar+ </Td> </Tr> <Tr> <Td> Sweden </Td> <Td> Swedish </Td> <Td> Viasat Sport </Td> </Tr> <Tr> <Td> Switzerland </Td> <Td> German French </Td> <Td> DAZN SFR Sport </Td> </Tr> <Tr> <Td> Turkey </Td> <Td> Turkish </Td> <Td> S Sport </Td> </Tr> <Tr> <Td> Ukraine </Td> <Td> Ukrainian </Td> <Td> Football TV Сhannel </Td> </Tr> <Tr> <Td> United Kingdom </Td> <Td> English </Td> <Td> Sky Sports BT Sport BBC Sport ( Highlights only ) </Td> </Tr> </Table> Latin American broadcasters ( edit ) <Table> <Tr> <Th> Country </Th> <Th> Language </Th> <Th> Broadcasters </Th> </Tr> <Tr> <Td> Brazil </Td> <Td> Portuguese </Td> <Td> ESPN Brasil </Td> </Tr> <Tr> <Td> Argentina </Td> <Td> Spanish </Td> <Td> DirecTV Sports ESPN </Td> </Tr> <Tr> <Td> Chile </Td> </Tr> <Tr> <Td> Colombia </Td> </Tr> <Tr> <Td> Ecuador </Td> </Tr> <Tr> <Td> Peru </Td> </Tr> <Tr> <Td> Uruguay </Td> </Tr> <Tr> <Td> Venezuela </Td> </Tr> <Tr> <Td> Bolivia </Td> <Td> Spanish </Td> <Td> ESPN ( 3 matches ) </Td> </Tr> <Tr> <Td> Paraguay </Td> </Tr> <Tr> <Td> Costa Rica </Td> <Td> Spanish </Td> <Td> SKY Sports </Td> </Tr> <Tr> <Td> Dominican Republic </Td> </Tr> <Tr> <Td> El Salvador </Td> </Tr> <Tr> <Td> Guatemala </Td> </Tr> <Tr> <Td> Honduras </Td> </Tr> <Tr> <Td> Mexico </Td> </Tr> <Tr> <Td> Nicaragua </Td> </Tr> <Tr> <Td> Panama </Td> </Tr> </Table> Middle Eastern and North African broadcasters ( edit ) <Table> <Tr> <Th> Country </Th> <Th> Language </Th> <Th> Broadcasters </Th> </Tr> <Tr> <Td> Israel </Td> <Td> Hebrew </Td> <Td> Sport 1 </Td> </Tr> <Tr> <Td> Middle East and North Africa </Td> <Td> Arabic English French </Td> <Td> beIN Sports </Td> </Tr> </Table> North American and Caribbean broadcasters ( edit ) <Table> <Tr> <Th> Country </Th> <Th> Language </Th> <Th> Broadcasters </Th> </Tr> <Tr> <Td> Canada </Td> <Td> English </Td> <Td> TSN Sportsnet </Td> </Tr> <Tr> <Td> Caribbean </Td> <Td> English </Td> <Td> Flow Sports </Td> </Tr> <Tr> <Td> United States ( including Puerto Rico & the U.S. Virgin Islands ) </Td> <Td> English Spanish </Td> <Td> NBC Sports Network Telemundo </Td> </Tr> </Table> Oceanian broadcasters ( edit ) <Table> <Tr> <Th> Country </Th> <Th> Language </Th> <Th> Broadcasters </Th> </Tr> <Tr> <Td> Australia </Td> <Td> English </Td> <Td> Optus Sport SBS </Td> </Tr> <Tr> <Td> New Zealand </Td> <Td> English </Td> <Td> beIN Sports </Td> </Tr> <Tr> <Td> Pacific Islands </Td> <Td> English </Td> <Td> Sky Pacific </Td> </Tr> <Tr> <Td> Papua New Guinea </Td> <Td> English </Td> <Td> Digicel Play </Td> </Tr> </Table> <H2> References ( edit ) </H2> <Ol> <Li> Jump up ^ `` Who is the Premier League \\'s best ? \\'\\' . FIFA. 11 December 2007 . Retrieved 7 April 2011 . </Li> <Li> Jump up ^ `` BT Sport \\'\\' . Premier League . Retrieved 29 July 2013 . </Li> <Li> Jump up ^ `` BBC Sport \\'\\' . Premier League . Retrieved 29 July 2013 . </Li> <Li> Jump up ^ http://www.uefa.com/news/newsid=19817.html </Li> <Li> Jump up ^ `` Premier League international rights deals for 2016 - 19 \\'\\' . Premier League . Retrieved 15 May 2016 . </Li> </Ol> <H2> External links ( edit ) </H2> <Ul> <Li> Premier League official website </Li> </Ul> <Table> <Tr> <Th_colspan=\"2\"> <Ul> <Li> </Li> <Li> </Li> <Li> </Li> </Ul> Broadcasters in European Football ( UEFA ) </Th> </Tr> <Tr> <Th> Domestic leagues </Th> <Td> <Ul> <Li> Albania </Li> <Li> Andorra </Li> <Li> Armenia </Li> <Li> Austria </Li> <Li> Azerbaijan </Li> <Li> Belarus </Li> <Li> Belgium </Li> <Li> Bosnia and Herzegovina </Li> <Li> Bulgaria </Li> <Li> Croatia </Li> <Li> Cyprus </Li> <Li> Czech Republic </Li> <Li> Denmark </Li> <Li> England </Li> <Li> Estonia </Li> <Li> Faroe Islands </Li> <Li> Finland </Li> <Li> France </Li> <Li> Georgia </Li> <Li> Germany </Li> <Li> Greece </Li> <Li> Hungary </Li> <Li> Iceland </Li> <Li> Israel </Li> <Li> Italy </Li> <Li> Kosovo </Li> <Li> Kazakhstan </Li> <Li> Latvia </Li> <Li> Lithuania </Li> <Li> Luxembourg </Li> <Li> Macedonia </Li> <Li> Malta </Li> <Li> Moldova </Li> <Li> Montenegro </Li> <Li> Netherlands </Li> <Li> Northern Ireland </Li> <Li> Norway </Li> <Li> Poland </Li> <Li> Portugal </Li> <Li> Republic of Ireland </Li> <Li> Romania </Li> <Li> Russia </Li> <Li> San Marino </Li> <Li> Scotland </Li> <Li> Serbia </Li> <Li> Slovakia </Li> <Li> Slovenia </Li> <Li> Spain </Li> <Li> Sweden </Li> <Li> Switzerland </Li> <Li> Turkey </Li> <Li> Ukraine </Li> <Li> Wales </Li> </Ul> </Td> </Tr> <Tr> <Th> Domestic cups </Th> <Td> <Ul> <Li> Albania </Li> <Li> Andorra </Li> <Li> Armenia </Li> <Li> Austria </Li> <Li> Azerbaijan </Li> <Li> Belarus </Li> <Li> Belgium </Li> <Li> Bosnia and Herzegovina </Li> <Li> Bulgaria </Li> <Li> Croatia </Li> <Li> Cyprus </Li> <Li> Czech Republic </Li> <Li> Denmark </Li> <Li> England </Li> <Li> Estonia </Li> <Li> Faroe Islands </Li> <Li> Finland </Li> <Li> France </Li> <Li> Georgia </Li> <Li> Germany </Li> <Li> Greece </Li> <Li> Hungary </Li> <Li> Iceland </Li> <Li> Israel </Li> <Li> Italy </Li> <Li> Kazakhstan </Li> <Li> Latvia </Li> <Li> Liechtenstein </Li> <Li> Lithuania </Li> <Li> Luxembourg </Li> <Li> Macedonia </Li> <Li> Malta </Li> <Li> Moldova </Li> <Li> Montenegro </Li> <Li> Netherlands </Li> <Li> Northern Ireland </Li> <Li> Norway </Li> <Li> Poland </Li> <Li> Portugal </Li> <Li> Republic of Ireland </Li> <Li> Romania </Li> <Li> Russia </Li> <Li> San Marino </Li> <Li> Scotland </Li> <Li> Serbia </Li> <Li> Slovakia </Li> <Li> Slovenia </Li> <Li> Spain </Li> <Li> Sweden </Li> <Li> Switzerland </Li> <Li> Turkey </Li> <Li> Ukraine </Li> <Li> Wales </Li> </Ul> </Td> </Tr> <Tr> <Th> League Cups </Th> <Td> <Ul> <Li> England </Li> <Li> Finland </Li> <Li> France </Li> <Li> Hungary </Li> <Li> Iceland </Li> <Li> Israel </Li> <Li> Northern Ireland </Li> <Li> Portugal </Li> <Li> Republic of Ireland </Li> <Li> Scotland </Li> <Li> Wales </Li> </Ul> </Td> </Tr> <Tr> <Th> UEFA competitions </Th> <Td> <Ul> <Li> Champions League </Li> <Li> Europa League </Li> <Li> Super Cup </Li> </Ul> </Td> </Tr> </Table> <Table> <Tr> <Th_colspan=\"2\"> <Ul> <Li> </Li> <Li> </Li> <Li> </Li> </Ul> Premier League </Th> </Tr> <Tr> <Th> Seasons </Th> <Td> <Ul> <Li> 1992 -- 93 </Li> <Li> 1993 -- 94 </Li> <Li> 1994 -- 95 </Li> <Li> 1995 -- 96 </Li> <Li> 1996 -- 97 </Li> <Li> 1997 -- 98 </Li> <Li> 1998 -- 99 </Li> <Li> 1999 -- 2000 </Li> <Li> 2000 -- 01 </Li> <Li> 2001 -- 02 </Li> <Li> 2002 -- 03 </Li> <Li> 2003 -- 04 </Li> <Li> 2004 -- 05 </Li> <Li> 2005 -- 06 </Li> <Li> 2006 -- 07 </Li> <Li> 2007 -- 08 </Li> <Li> 2008 -- 09 </Li> <Li> 2009 -- 10 </Li> <Li> 2010 -- 11 </Li> <Li> 2011 -- 12 </Li> <Li> 2012 -- 13 </Li> <Li> 2013 -- 14 </Li> <Li> 2014 -- 15 </Li> <Li> 2015 -- 16 </Li> <Li> 2016 -- 17 </Li> <Li> 2017 -- 18 </Li> </Ul> </Td> </Tr> <Tr> <Th> Clubs </Th> <Td> <Table> <Tr> <Th> 2017 -- 18 </Th> <Td> <Ul> <Li> AFC Bournemouth </Li> <Li> Arsenal </Li> <Li> Brighton & Hove Albion </Li> <Li> Burnley </Li> <Li> Chelsea </Li> <Li> Crystal Palace </Li> <Li> Everton </Li> <Li> Huddersfield Town </Li> <Li> Leicester City </Li> <Li> Liverpool </Li> <Li> Manchester City </Li> <Li> Manchester United </Li> <Li> Newcastle United </Li> <Li> Southampton </Li> <Li> Stoke City </Li> <Li> Swansea City </Li> <Li> Tottenham Hotspur </Li> <Li> Watford </Li> <Li> West Bromwich Albion </Li> <Li> West Ham United </Li> </Ul> </Td> </Tr> <Tr> <Th> Former </Th> <Td> <Ul> <Li> Aston Villa </Li> <Li> Barnsley </Li> <Li> Birmingham City </Li> <Li> Blackburn Rovers </Li> <Li> Blackpool </Li> <Li> Bolton Wanderers </Li> <Li> Bradford City </Li> <Li> Cardiff City </Li> <Li> Charlton Athletic </Li> <Li> Coventry City </Li> <Li> Derby County </Li> <Li> Fulham </Li> <Li> Hull City </Li> <Li> Ipswich Town </Li> <Li> Leeds United </Li> <Li> Middlesbrough </Li> <Li> Norwich City </Li> <Li> Nottingham Forest </Li> <Li> Oldham Athletic </Li> <Li> Portsmouth </Li> <Li> Queens Park Rangers </Li> <Li> Reading </Li> <Li> Sheffield United </Li> <Li> Sheffield Wednesday </Li> <Li> Sunderland </Li> <Li> Swindon Town </Li> <Li> Wigan Athletic </Li> <Li> Wimbledon </Li> <Li> Wolverhampton Wanderers </Li> </Ul> </Td> </Tr> </Table> </Td> </Tr> <Tr> <Th> Competition </Th> <Td> <Ul> <Li> Teams <Ul> <Li> winners </Li> </Ul> </Li> <Li> Players <Ul> <Li> foreign </Li> <Li> foreign scorers </Li> <Li> winners </Li> </Ul> </Li> <Li> Managers <Ul> <Li> </Li> </Ul> </Li> <Li> Stadia </Li> <Li> Founding </Li> <Li> Broadcasting foundation </Li> <Li> Broadcasters </Li> <Li> Referees </Li> </Ul> </Td> </Tr> <Tr> <Th> Statistics and awards </Th> <Td> <Ul> <Li> Records </Li> <Li> All - time table </Li> <Li> Hat - tricks </Li> <Li> Highest scores </Li> <Li> Golden Boot </Li> <Li> Golden Glove </Li> <Li> Manager of the Season </Li> <Li> Player of the Season </Li> <Li> Manager of the Month </Li> <Li> Player of the Month </Li> <Li> Goal of the Month </Li> <Li> Players with 500 + appearances </Li> <Li> Players with 100 + goals </Li> <Li> Top scorers by season </Li> <Li> Goalkeepers with 100 + clean sheets </Li> <Li> 10 Seasons Awards </Li> <Li> 20 Seasons Awards </Li> </Ul> </Td> </Tr> <Tr> <Th> Finances </Th> <Td> <Ul> <Li> Richest clubs : <Ul> <Li> Deloitte list </Li> <Li> Forbes \\' list </Li> </Ul> </Li> <Li> Team owners </Li> <Li> Transfer records </Li> <Li> Game 39 </Li> <Li> Premier League -- Football League gulf </Li> </Ul> </Td> </Tr> <Tr> <Th> Associated competitions </Th> <Td> <Ul> <Li> Asia Trophy </Li> <Li> FA Community Shield </Li> <Li> FA Cup </Li> <Li> EFL Cup </Li> <Li> UEFA Champions League </Li> <Li> UEFA Europa League </Li> <Li> Premier League 2 </Li> <Li> U18 Premier League </Li> <Li> Premier League International Cup </Li> </Ul> </Td> </Tr> <Tr> <Td_colspan=\"2\"> <Ul> <Li> </Li> </Ul> </Td> </Tr> </Table> <Table> <Tr> <Th_colspan=\"2\"> <Ul> <Li> </Li> <Li> </Li> <Li> </Li> </Ul> Association football on television </Th> </Tr> <Tr> <Th> Broadcasters by top level league </Th> <Td> <Table> <Tr> <Th> Americas </Th> <Td> <Ul> <Li> Superliga Argentina ( Argentina ) </Li> <Li> Campeonato Brasileiro Série A ( Brazil ) </Li> <Li> Major League Soccer ( MLS Cup ) ( United States / Canada ) </Li> <Li> Liga MX ( Mexico ) </Li> </Ul> </Td> </Tr> <Tr> <Th> Europe </Th> <Td> <Ul> <Li> Armenian Premier League ( Armenia ) </Li> <Li> Belgian Pro League ( Belgium ) </Li> <Li> Bundesliga ( Germany ) </Li> <Li> Ekstraklasa ( Poland ) </Li> <Li> Eredivisie ( Netherlands ) </Li> <Li> Czech First League ( Czech Republic ) </Li> <Li> La Liga ( Spain ) </Li> <Li> Liga I ( Romania ) </Li> <Li> Ligue 1 ( France ) </Li> <Li> Nemzeti Bajnokság I ( Hungary ) </Li> <Li> Premier League ( England ) </Li> <Li> Primeira Liga ( Portugal ) </Li> <Li> Russian Premier League ( Russia ) </Li> <Li> Scottish Premiership ( Scotland ) </Li> <Li> Serie A ( Italy ) </Li> <Li> Vala SuperLiga ( Kosovo ) </Li> <Li> Slovenian PrvaLiga ( Slovenia ) </Li> <Li> Super League Greece ( Greece ) </Li> <Li> Ukrainian Premier League ( Ukraine ) </Li> </Ul> </Td> </Tr> <Tr> <Th> Other </Th> <Td> <Ul> <Li> Ligue 1 ( Algeria ) </Li> <Li> A-League ( Australia ) </Li> <Li> Thai League ( Thailand ) </Li> </Ul> </Td> </Tr> </Table> </Td> </Tr> <Tr> <Th> Broadcast contracts by country </Th> <Td> <Table> <Tr> <Th> Americas </Th> <Td> <Ul> <Li> Canada ( history ) </Li> <Li> United States </Li> <Li> Central America </Li> <Li> South America </Li> <Li> Brazil </Li> </Ul> </Td> </Tr> <Tr> <Th> Asia </Th> <Td> <Ul> <Li> Japan </Li> <Li> Middle East </Li> <Li> Philippines </Li> <Li> Thailand </Li> </Ul> </Td> </Tr> <Tr> <Th> Europe </Th> <Td> <Ul> <Li> Albania </Li> <Li> Denmark </Li> <Li> Belgium </Li> <Li> Bosnia and Herzegovina </Li> <Li> Croatia </Li> <Li> France </Li> <Li> Germany </Li> <Li> Greece </Li> <Li> Ireland </Li> <Li> Israel </Li> <Li> Italy </Li> <Li> Kosovo </Li> <Li> Montenegro </Li> <Li> Netherlands </Li> <Li> Portugal </Li> <Li> Romania </Li> <Li> Russia </Li> <Li> Serbia </Li> <Li> Spain </Li> <Li> Sweden </Li> <Li> United Kingdom ( commentators , history ) </Li> </Ul> </Td> </Tr> <Tr> <Th> Oceania </Th> <Td> <Ul> <Li> Australia </Li> <Li> New Zealand </Li> </Ul> </Td> </Tr> </Table> </Td> </Tr> <Tr> <Th> Broadcasters by event </Th> <Td> <Table> <Tr> <Th> Americas </Th> <Td> <Ul> <Li> Copa Libertadores </Li> </Ul> </Td> </Tr> <Tr> <Th> Europe </Th> <Td> <Ul> <Li> UEFA Champions League </Li> <Li> UEFA Europa League </Li> </Ul> </Td> </Tr> <Tr> <Th> FIFA World Cup </Th> <Td> <Ul> <Li> 1998 </Li> <Li> 2002 </Li> <Li> 2006 </Li> <Li> </Li> <Li> 2014 </Li> <Li> 2018 </Li> </Ul> </Td> </Tr> <Tr> <Th> UEFA Euro </Th> <Td> <Ul> <Li> 2000 </Li> <Li> </Li> <Li> 2008 </Li> <Li> 2012 </Li> <Li> 2016 </Li> <Li> 2020 </Li> </Ul> </Td> </Tr> </Table> </Td> </Tr> <Tr> <Th> Dedicated channels </Th> <Td> <Table> <Tr> <Th> Canada </Th> <Td> <Ul> <Li> beIN Sports </Li> <Li> EuroWorld Sport </Li> <Li> Fox Sports World Canada </Li> <Li> Sportsnet World </Li> </Ul> </Td> </Tr> <Tr> <Th> France </Th> <Td> <Ul> <Li> beIN Sports </Li> <Li> Canal+ Sport </Li> <Li> SFR Sports 1 </Li> <Li> OM TV </Li> <Li> OL TV </Li> <Li> Girondins TV </Li> </Ul> </Td> </Tr> <Tr> <Th> Italy </Th> <Td> <Ul> <Li> Premium Calcio </Li> <Li> Sky Calcio </Li> <Li> Inter Channel </Li> <Li> Juventus Channel </Li> <Li> Milan Channel </Li> </Ul> </Td> </Tr> <Tr> <Th> Spain </Th> <Td> <Ul> <Li> beIN Sports </Li> <Li> beIN LaLiga </Li> <Li> M. Fútbol </Li> <Li> M. Partidazo </Li> <Li> Real Madrid TV </Li> <Li> Barça TV </Li> </Ul> </Td> </Tr> <Tr> <Th> United Kingdom </Th> <Td> <Ul> <Li> Sky Sports 1 </Li> <Li> BT Sport 1 </Li> <Li> Arsenal TV </Li> <Li> Celtic TV </Li> <Li> Chelsea TV </Li> <Li> LFC TV </Li> <Li> MUTV </Li> <Li> Rangers TV </Li> </Ul> </Td> </Tr> <Tr> <Th> United States </Th> <Td> <Ul> <Li> beIN Sports </Li> <Li> Fox Soccer Plus </Li> <Li> GOL TV </Li> <Li> MLS Direct Kick </Li> </Ul> <Ul> <Li> ESPN Deportes </Li> <Li> Fox Deportes </Li> <Li> Univision Deportes Network </Li> </Ul> </Td> </Tr> </Table> </Td> </Tr> <Tr> <Th> Individual network coverage </Th> <Td> <Table> <Tr> <Th> A-League </Th> <Td> <Ul> <Li> Fox Sports FC </Li> <Li> Shoot Out </Li> <Li> Thursday FC </Li> <Li> The World Game </Li> </Ul> </Td> </Tr> <Tr> <Th> Bundesliga </Th> <Td> <Ul> <Li> Soccer Made in Germany </Li> </Ul> </Td> </Tr> <Tr> <Th> Major League Soccer </Th> <Td> <Ul> <Li> ESPN <Ul> <Li> MLS Game of the Week </Li> <Li> MLS Primetime Thursday </Li> <Li> MLS Soccer Saturday </Li> <Li> MLS Soccer Sunday </Li> </Ul> </Li> <Li> Fox Soccer </Li> <Li> NBCSN </Li> <Li> TSN </Li> </Ul> </Td> </Tr> <Tr> <Th> Ligue 1 </Th> <Td> <Ul> <Li> Téléfoot </Li> </Ul> </Td> </Tr> <Tr> <Th> Premier League </Th> <Td> <Ul> <Li> Monday Night Football </Li> <Li> Super Sunday </Li> <Li> Match of the Day </Li> <Li> Match of the Day 2 </Li> <Li> The Premier League Show </Li> <Li> Match of the Day ( U.S. TV series ) </Li> <Li> The Premiership </Li> <Li> Soccer Central Matchday </Li> </Ul> </Td> </Tr> </Table> </Td> </Tr> </Table> Retrieved from `` https://en.wikipedia.org/w/index.php?title=List_of_Premier_League_broadcasters&oldid=808611916 \\'\\' Categories : <Ul> <Li> Premier League on television </Li> <Li> Premier League lists </Li> <Li> Association football on television </Li> </Ul> Hidden categories : <Ul> <Li> EngvarB from May 2014 </Li> <Li> Use dmy dates from May 2014 </Li> </Ul> <H2> </H2> <H3> </H3> <Ul> <Li> </Li> <Li> Talk </Li> <Li> </Li> <Li> </Li> <Li> </Li> </Ul> <H3> </H3> <Ul> <Li> </Li> <Li> </Li> </Ul> <H3> </H3> <Ul> </Ul> <H3> </H3> <Ul> <Li> </Li> <Li> </Li> <Li> </Li> </Ul> <H3> </H3> <Ul> </Ul> <H3> </H3> <H3> </H3> <Ul> <Li> </Li> <Li> Contents </Li> <Li> </Li> <Li> </Li> <Li> </Li> <Li> </Li> <Li> </Li> </Ul> <H3> </H3> <Ul> <Li> </Li> <Li> About Wikipedia </Li> <Li> </Li> <Li> </Li> <Li> </Li> </Ul> <H3> </H3> <Ul> <Li> </Li> <Li> </Li> <Li> </Li> <Li> </Li> <Li> </Li> <Li> </Li> <Li> </Li> <Li> </Li> </Ul> <H3> </H3> <Ul> <Li> </Li> <Li> </Li> <Li> </Li> </Ul> <H3> </H3> <Ul> <Li> Bahasa Indonesia </Li> </Ul> Edit links <Ul> <Li> This page was last edited on 3 November 2017 , at 23 : 38 . </Li> <Li> Text is available under the Creative Commons Attribution - ShareAlike License ; additional terms may apply . By using this site , you agree to the Terms of Use and Privacy Policy . Wikipedia ® is a registered trademark of the Wikimedia Foundation , Inc. , a non-profit organization . </Li> </Ul> <Ul> <Li> </Li> <Li> About Wikipedia </Li> <Li> </Li> <Li> </Li> <Li> </Li> <Li> </Li> <Li> </Li> <Li> </Li> </Ul> <Ul> <Li> </Li> <Li> </Li> </Ul>',\n",
       " 'long_answer_candidates': [{'start_token': 20,\n",
       "   'top_level': True,\n",
       "   'end_token': 108},\n",
       "  {'start_token': 108, 'top_level': True, 'end_token': 220},\n",
       "  {'start_token': 220, 'top_level': True, 'end_token': 405},\n",
       "  {'start_token': 496, 'top_level': True, 'end_token': 514},\n",
       "  {'start_token': 527, 'top_level': True, 'end_token': 555},\n",
       "  {'start_token': 528, 'top_level': False, 'end_token': 538},\n",
       "  {'start_token': 538, 'top_level': False, 'end_token': 554},\n",
       "  {'start_token': 560, 'top_level': True, 'end_token': 927},\n",
       "  {'start_token': 561, 'top_level': False, 'end_token': 572},\n",
       "  {'start_token': 572, 'top_level': False, 'end_token': 584},\n",
       "  {'start_token': 584, 'top_level': False, 'end_token': 596},\n",
       "  {'start_token': 596, 'top_level': False, 'end_token': 601},\n",
       "  {'start_token': 601, 'top_level': False, 'end_token': 606},\n",
       "  {'start_token': 606, 'top_level': False, 'end_token': 611},\n",
       "  {'start_token': 611, 'top_level': False, 'end_token': 617},\n",
       "  {'start_token': 617, 'top_level': False, 'end_token': 631},\n",
       "  {'start_token': 631, 'top_level': False, 'end_token': 645},\n",
       "  {'start_token': 645, 'top_level': False, 'end_token': 679},\n",
       "  {'start_token': 679, 'top_level': False, 'end_token': 694},\n",
       "  {'start_token': 694, 'top_level': False, 'end_token': 709},\n",
       "  {'start_token': 709, 'top_level': False, 'end_token': 723},\n",
       "  {'start_token': 723, 'top_level': False, 'end_token': 735},\n",
       "  {'start_token': 735, 'top_level': False, 'end_token': 747},\n",
       "  {'start_token': 747, 'top_level': False, 'end_token': 761},\n",
       "  {'start_token': 761, 'top_level': False, 'end_token': 777},\n",
       "  {'start_token': 777, 'top_level': False, 'end_token': 792},\n",
       "  {'start_token': 792, 'top_level': False, 'end_token': 808},\n",
       "  {'start_token': 808, 'top_level': False, 'end_token': 821},\n",
       "  {'start_token': 821, 'top_level': False, 'end_token': 834},\n",
       "  {'start_token': 834, 'top_level': False, 'end_token': 846},\n",
       "  {'start_token': 846, 'top_level': False, 'end_token': 859},\n",
       "  {'start_token': 859, 'top_level': False, 'end_token': 877},\n",
       "  {'start_token': 877, 'top_level': False, 'end_token': 891},\n",
       "  {'start_token': 891, 'top_level': False, 'end_token': 906},\n",
       "  {'start_token': 906, 'top_level': False, 'end_token': 926},\n",
       "  {'start_token': 932, 'top_level': True, 'end_token': 1489},\n",
       "  {'start_token': 933, 'top_level': False, 'end_token': 944},\n",
       "  {'start_token': 944, 'top_level': False, 'end_token': 955},\n",
       "  {'start_token': 955, 'top_level': False, 'end_token': 960},\n",
       "  {'start_token': 960, 'top_level': False, 'end_token': 975},\n",
       "  {'start_token': 975, 'top_level': False, 'end_token': 980},\n",
       "  {'start_token': 980, 'top_level': False, 'end_token': 987},\n",
       "  {'start_token': 987, 'top_level': False, 'end_token': 992},\n",
       "  {'start_token': 992, 'top_level': False, 'end_token': 997},\n",
       "  {'start_token': 997, 'top_level': False, 'end_token': 1002},\n",
       "  {'start_token': 1002, 'top_level': False, 'end_token': 1013},\n",
       "  {'start_token': 1013, 'top_level': False, 'end_token': 1025},\n",
       "  {'start_token': 1025, 'top_level': False, 'end_token': 1036},\n",
       "  {'start_token': 1036, 'top_level': False, 'end_token': 1047},\n",
       "  {'start_token': 1047, 'top_level': False, 'end_token': 1058},\n",
       "  {'start_token': 1058, 'top_level': False, 'end_token': 1073},\n",
       "  {'start_token': 1073, 'top_level': False, 'end_token': 1085},\n",
       "  {'start_token': 1085, 'top_level': False, 'end_token': 1096},\n",
       "  {'start_token': 1096, 'top_level': False, 'end_token': 1109},\n",
       "  {'start_token': 1109, 'top_level': False, 'end_token': 1122},\n",
       "  {'start_token': 1122, 'top_level': False, 'end_token': 1135},\n",
       "  {'start_token': 1135, 'top_level': False, 'end_token': 1147},\n",
       "  {'start_token': 1147, 'top_level': False, 'end_token': 1159},\n",
       "  {'start_token': 1159, 'top_level': False, 'end_token': 1170},\n",
       "  {'start_token': 1170, 'top_level': False, 'end_token': 1181},\n",
       "  {'start_token': 1181, 'top_level': False, 'end_token': 1193},\n",
       "  {'start_token': 1193, 'top_level': False, 'end_token': 1205},\n",
       "  {'start_token': 1205, 'top_level': False, 'end_token': 1218},\n",
       "  {'start_token': 1218, 'top_level': False, 'end_token': 1232},\n",
       "  {'start_token': 1232, 'top_level': False, 'end_token': 1244},\n",
       "  {'start_token': 1244, 'top_level': False, 'end_token': 1257},\n",
       "  {'start_token': 1257, 'top_level': False, 'end_token': 1268},\n",
       "  {'start_token': 1268, 'top_level': False, 'end_token': 1281},\n",
       "  {'start_token': 1281, 'top_level': False, 'end_token': 1293},\n",
       "  {'start_token': 1293, 'top_level': False, 'end_token': 1305},\n",
       "  {'start_token': 1305, 'top_level': False, 'end_token': 1318},\n",
       "  {'start_token': 1318, 'top_level': False, 'end_token': 1331},\n",
       "  {'start_token': 1331, 'top_level': False, 'end_token': 1342},\n",
       "  {'start_token': 1342, 'top_level': False, 'end_token': 1354},\n",
       "  {'start_token': 1354, 'top_level': False, 'end_token': 1368},\n",
       "  {'start_token': 1368, 'top_level': False, 'end_token': 1380},\n",
       "  {'start_token': 1380, 'top_level': False, 'end_token': 1393},\n",
       "  {'start_token': 1393, 'top_level': False, 'end_token': 1405},\n",
       "  {'start_token': 1405, 'top_level': False, 'end_token': 1416},\n",
       "  {'start_token': 1416, 'top_level': False, 'end_token': 1428},\n",
       "  {'start_token': 1428, 'top_level': False, 'end_token': 1442},\n",
       "  {'start_token': 1442, 'top_level': False, 'end_token': 1454},\n",
       "  {'start_token': 1454, 'top_level': False, 'end_token': 1467},\n",
       "  {'start_token': 1467, 'top_level': False, 'end_token': 1488},\n",
       "  {'start_token': 1495, 'top_level': True, 'end_token': 1633},\n",
       "  {'start_token': 1496, 'top_level': False, 'end_token': 1507},\n",
       "  {'start_token': 1507, 'top_level': False, 'end_token': 1519},\n",
       "  {'start_token': 1519, 'top_level': False, 'end_token': 1532},\n",
       "  {'start_token': 1532, 'top_level': False, 'end_token': 1537},\n",
       "  {'start_token': 1537, 'top_level': False, 'end_token': 1542},\n",
       "  {'start_token': 1542, 'top_level': False, 'end_token': 1547},\n",
       "  {'start_token': 1547, 'top_level': False, 'end_token': 1552},\n",
       "  {'start_token': 1552, 'top_level': False, 'end_token': 1557},\n",
       "  {'start_token': 1557, 'top_level': False, 'end_token': 1562},\n",
       "  {'start_token': 1562, 'top_level': False, 'end_token': 1577},\n",
       "  {'start_token': 1577, 'top_level': False, 'end_token': 1582},\n",
       "  {'start_token': 1582, 'top_level': False, 'end_token': 1595},\n",
       "  {'start_token': 1595, 'top_level': False, 'end_token': 1601},\n",
       "  {'start_token': 1601, 'top_level': False, 'end_token': 1607},\n",
       "  {'start_token': 1607, 'top_level': False, 'end_token': 1612},\n",
       "  {'start_token': 1612, 'top_level': False, 'end_token': 1617},\n",
       "  {'start_token': 1617, 'top_level': False, 'end_token': 1622},\n",
       "  {'start_token': 1622, 'top_level': False, 'end_token': 1627},\n",
       "  {'start_token': 1627, 'top_level': False, 'end_token': 1632},\n",
       "  {'start_token': 1642, 'top_level': True, 'end_token': 1685},\n",
       "  {'start_token': 1643, 'top_level': False, 'end_token': 1654},\n",
       "  {'start_token': 1654, 'top_level': False, 'end_token': 1666},\n",
       "  {'start_token': 1666, 'top_level': False, 'end_token': 1684},\n",
       "  {'start_token': 1693, 'top_level': True, 'end_token': 1756},\n",
       "  {'start_token': 1694, 'top_level': False, 'end_token': 1705},\n",
       "  {'start_token': 1705, 'top_level': False, 'end_token': 1717},\n",
       "  {'start_token': 1717, 'top_level': False, 'end_token': 1729},\n",
       "  {'start_token': 1729, 'top_level': False, 'end_token': 1755},\n",
       "  {'start_token': 1761, 'top_level': True, 'end_token': 1827},\n",
       "  {'start_token': 1762, 'top_level': False, 'end_token': 1773},\n",
       "  {'start_token': 1773, 'top_level': False, 'end_token': 1786},\n",
       "  {'start_token': 1786, 'top_level': False, 'end_token': 1799},\n",
       "  {'start_token': 1799, 'top_level': False, 'end_token': 1812},\n",
       "  {'start_token': 1812, 'top_level': False, 'end_token': 1826}],\n",
       " 'question_text': 'what channel is the premier league on in france',\n",
       " 'annotations': [{'yes_no_answer': 'NONE',\n",
       "   'long_answer': {'start_token': 932,\n",
       "    'candidate_index': 35,\n",
       "    'end_token': 1489},\n",
       "   'short_answers': [{'start_token': 1155, 'end_token': 1157}],\n",
       "   'annotation_id': 14362001996685718808}],\n",
       " 'document_url': 'https://en.wikipedia.org//w/index.php?title=List_of_Premier_League_broadcasters&amp;oldid=808611916',\n",
       " 'example_id': -1706790511507651062}"
      ]
     },
     "execution_count": 92,
     "metadata": {},
     "output_type": "execute_result"
    }
   ],
   "source": [
    "problem"
   ]
  },
  {
   "cell_type": "code",
   "execution_count": 93,
   "metadata": {},
   "outputs": [
    {
     "ename": "SyntaxError",
     "evalue": "invalid syntax (217812972.py, line 1)",
     "output_type": "error",
     "traceback": [
      "\u001b[1;36m  Cell \u001b[1;32mIn[93], line 1\u001b[1;36m\u001b[0m\n\u001b[1;33m    Agent 1 should exact more content in the\u001b[0m\n\u001b[1;37m          ^\u001b[0m\n\u001b[1;31mSyntaxError\u001b[0m\u001b[1;31m:\u001b[0m invalid syntax\n"
     ]
    }
   ],
   "source": [
    "Agent 1 should exact more content in the following\n",
    "\n",
    "============================================================\n",
    "what channel is the premier league on in france\n",
    "1\n",
    "initial_answer: SFR Sport, Canal+ Sport\n",
    "reduced_answer: Canal+ Sport\n",
    "improved_answer: Canal+ Sport\n",
    "--------------------------------------------------\n",
    "gold_answer: ['SFR Sport']\n",
    "final_answer: Canal+ Sport"
   ]
  },
  {
   "cell_type": "code",
   "execution_count": 94,
   "metadata": {},
   "outputs": [
    {
     "data": {
      "text/plain": [
       "{'document_text': 'The Mother ( How I Met Your Mother ) - wikipedia <H1> The Mother ( How I Met Your Mother ) </H1> Jump to : navigation , search <Table> <Tr> <Th_colspan=\"2\"> Tracy McConnell </Th> </Tr> <Tr> <Td_colspan=\"2\"> How I Met Your Mother character </Td> </Tr> <Tr> <Td_colspan=\"2\"> The Mother appearing in `` The Locket \\'\\' </Td> </Tr> <Tr> <Th> First appearance </Th> <Td> `` Lucky Penny ( unseen ) \\'\\' `` Something New \\'\\' ( seen ) </Td> </Tr> <Tr> <Th> Last appearance </Th> <Td> `` Last Forever \\'\\' </Td> </Tr> <Tr> <Th> Created by </Th> <Td> Carter Bays Craig Thomas </Td> </Tr> <Tr> <Th> Portrayed by </Th> <Td> Cristin Milioti </Td> </Tr> <Tr> <Th_colspan=\"2\"> Information </Th> </Tr> <Tr> <Th> Aliases </Th> <Td> The Mother </Td> </Tr> <Tr> <Th> Gender </Th> <Td> Female </Td> </Tr> <Tr> <Th> Spouse ( s ) </Th> <Td> Ted Mosby </Td> </Tr> <Tr> <Th> Significant other ( s ) </Th> <Td> Max ( deceased former boyfriend ) Louis ( ex-boyfriend ) </Td> </Tr> <Tr> <Th> Children </Th> <Td> Penny Mosby ( daughter , born in 2015 , played by Lyndsy Fonseca ) Luke Mosby ( son , born in 2017 , played by David Henrie ) </Td> </Tr> <Tr> <Th> Nationality </Th> <Td> American </Td> </Tr> </Table> <P> Tracy McConnell , better known as `` The Mother \\'\\' , is the title character from the CBS television sitcom How I Met Your Mother . The show , narrated by Future Ted , tells the story of how Ted Mosby met The Mother . Tracy McConnell appears in 8 episodes from `` Lucky Penny \\'\\' to `` The Time Travelers \\'\\' as an unseen character ; she was first seen fully in `` Something New \\'\\' and was promoted to a main character in season 9 . The Mother is played by Cristin Milioti . </P> <P> The story of how Ted met The Mother is the framing device behind the series ; many facts about her are revealed throughout the series , including the fact that Ted once unwittingly owned her umbrella before accidentally leaving it behind in her apartment . Ted and The Mother meet at the Farhampton train station following Barney Stinson and Robin Scherbatsky \\'s wedding ; this scene is shown in `` Last Forever \\'\\' , the series finale . The Mother \\'s death from an unspecified terminal illness in 2024 , also revealed in the series finale , received a mixed reaction from fans . </P> <P> An alternate ending was released in the ninth season DVD . In the alternate ending , Tracy Mosby is still living when Ted is telling the story in 2030 . In the video , future Ted is heard saying , `` ... When I think how lucky I am to wake up next to your mom every morning , I ca n\\'t help but be amazed how easy it all really was ... \\'\\' , indirectly stating that The Mother is alive . The video ends right after the train passes at Farhampton station and credits start rolling , implying that Ted never went back to Robin as he lived a successful married life with Tracy Mosby . </P> <P> </P> <H2> Contents </H2> ( hide ) <Ul> <Li> 1 Casting </Li> <Li> 2 Character history <Ul> <Li> 2.1 Name </Li> </Ul> </Li> <Li> 3 Death </Li> <Li> 4 Notes </Li> <Li> 5 References </Li> </Ul> <P> </P> <H2> Casting ( edit ) </H2> <P> During its first eight seasons , the successful sitcom How I Met Your Mother often hinted at the unseen character of The Mother . Well - known actresses often made guest appearances on the show . Many fans expected that another would play one of the most - wanted roles in Hollywood , but creators Carter Bays and Craig Thomas wanted an unknown . Using Anne Hathaway and Amy Adams as examples , Thomas said that `` We did n\\'t want it to be a big famous star because we did n\\'t want the wider audience to have associations with whatever actress this would be ... The whole idea is that Ted \\'s never seen this woman before , so it better feel that way to the audience \\'\\' , similar to how Cobie Smulders being cast as Robin Scherbatsky had `` kept the show alive \\'\\' when it began . Bays and Thomas also did not want a large casting call . </P> <P> They chose Cristin Milioti after seeing her on 30 Rock and Once ; her musical ability was also helpful , as The Mother had been described as a band member . After competing for the role against at least two others , Milioti filmed her first scene -- for the last episode of season 8 -- having never watched How I Met Your Mother ; she recalled , `` I had ignorance on my side . So I did n\\'t know what it meant . \\'\\' Milioti learned of the character \\'s importance only after binge watching the show during the summer . </P> <H2> Character history ( edit ) </H2> <P> The Mother was born on September 19 , 1984 . </P> <P> The Mother , joined by her roommate Kelly awaits the arrival of her boyfriend Max only to receive a call informing her of his death . After the funeral service , she returns to the apartment to open Max \\'s last gift to her -- a ukulele . The Mother spends the next few years grieving the passing of the man she believes was her one true love . </P> <P> In `` Wait for It \\'\\' , it is revealed that the short story of how they met involved her yellow umbrella . In `` No Tomorrow \\'\\' , Ted finds the umbrella at a club and takes it home after attending a St. Patrick \\'s Day party which she also attended , as it had been two and a half years since the death of Max , her late boyfriend . She is still grieving , but her roommate Kelly encourages her to go out and date again , bringing her to the same bar where Ted and Barney are celebrating . The two women run into Mitch , her old orchestra instructor ; The Mother offers to give Mitch her cello for his work at a school and they head to her apartment . After they start talking , Mitch encourages her to pursue her dreams . The Mother expresses her desire to end poverty by taking up economics in college . </P> <P> On his first day of teaching as Professor Mosby , as seen in the season 4 finale `` The Leap \\'\\' , he is seen in front of the classroom of students , one of which Future Ted says is the titular mother . But in the first episode of season 5 , `` Definitions \\'\\' , it is revealed that he was actually in the wrong classroom -- Economics instead of Architecture . At the same time in `` How Your Mother Met Me \\'\\' , the Mother sits her first session in Economics 305 and meets another graduate student named Cindy ( Rachel Bilson ) , whom she offers to move in with her as her roommate . They see Ted enter the room , but when he announces the subject , The Mother thinks she is in the wrong room and runs off . She heads back to the room after seeing Ted scramble to his actual classroom . </P> <P> Later , in `` Girls Versus Suits \\'\\' , Ted dates Cindy , not knowing that her roommate is his future wife . Throughout the episode , Ted notes that Cindy had spent most of their first date talking jealously about her roommate . When in Cindy and the mother \\'s apartment he picks up many of The Mother \\'s belongings , attempting to show how compatible he and Cindy are ( thinking the items are Cindy \\'s ) and glimpses the mother \\'s foot as she disappears into her room after taking a shower . Ted finds out at this time that she plays bass guitar in a band . Ted forgets to take the yellow umbrella with him when he goes out and Future Ted mentions , `` this is how your mother got her yellow umbrella back . \\'\\' In `` How Your Mother Met Me \\'\\' , it is revealed that , after Ted left the apartment , the Mother had discovered the umbrella and , upon going to question Cindy , finds her in a state . As she tried to console her , Cindy said that she was a much better match for Ted , and began to lovingly list all of the reasons that Ted would find the mother attractive , before spontaneously kissing her , revealing that her jealousy towards her roommate was actually a crush . While this incident made Cindy realise that she is a lesbian , it also made the Mother decide to go back into dating , as the kiss was her first in a long time . </P> <P> Some time after this , a man named Darren approaches The Mother and is welcomed into her band named Superfreakonomics . Darren gradually takes over the band . </P> <P> In the season 6 opener `` Big Days \\'\\' it is revealed Ted meets his future wife `` the day of \\'\\' the wedding at which he is the best man . In the episode `` False Positive \\'\\' Robin asks Ted to be her future best man , should she ever get married . In the episode `` Challenge Accepted \\'\\' , it is revealed that Ted meets the mother of his children the day of Barney \\'s wedding . In the last episode of season 7 , `` The Magician \\'s Code \\'\\' it is shown that Barney will marry Robin , and Ted will meet the mother `` the day of \\'\\' their wedding . On the premiere of season 8 , Ted \\'s wife appears after Barney and Robin \\'s wedding , outside at the `` Farhampton \\'\\' station while holding a yellow umbrella and her bass guitar . </P> <P> In the season 8 episode `` Band or DJ ? , \\'\\' Ted runs into Cindy on the subway and tells her that the band Barney and Robin hired to play at their wedding cancelled at the last minute . The end result of the encounter is that Cindy \\'s ( now ex - ) roommate \\'s band plays at Barney and Robin \\'s wedding . </P> <P> The Mother is first shown meeting Louis in `` How Your Mother Met Me \\'\\' as she is left to carry the band equipment while the now - lead band member Darren talks to his fans . Later at MacLaren \\'s Pub , she tells him she \\'s not yet ready to date . Louis asks her to give him a call if she changes her mind and they begin dating not long after . </P> <P> The Mother meets all of Ted \\'s best friends ( Barney , Lily , Marshall and Robin ) before she meets him . The Mother is responsible for convincing Barney to pursue Robin , as revealed through a flashback in `` Platonish \\'\\' . In `` The Locket \\'\\' , Tracy meets Lily on a train journey . </P> <P> In `` Bass Player Wanted \\'\\' , the Mother picks up a hitchhiking Marshall , carrying his son Marvin , on her way to Farhampton Inn . On their way , it is revealed that the Mother is a bass player in the band , that is scheduled to play at the wedding reception . But the band \\'s leader , Darren , forced her to quit . The Mother ultimately decides to confront Darren and retake the band . She ends up alone at the bar , and while practicing a speech to give Darren , Darren walks up to her furious the groom \\'s best man punched him for `` no reason . \\'\\' Amused by this , the Mother laughs , and Darren quits the band in anger . </P> <P> In `` How Your Mother Met Me \\'\\' , it is shown that after this incident , the Mother returns to Louis \\' summer cottage not far from the Farhampton Inn where she has been staying for the duration of the wedding weekend . As she walks in the door , Louis proposes to her , but she goes outside to think about it for a few minutes . She declines Louis \\' proposal and leaves his cottage , going to check in at Farhampton Inn . On her room \\'s balcony , she plays the ukulele and sings `` La Vie en Rose \\'\\' . Ted hears her singing from his room next door . </P> <P> In `` Gary Blauman \\'\\' , Ted and the Mother are on their first date . Ted picks her up at her New York City apartment and they proceed to walk to a Scottish - Mexican fusion restaurant for dinner . On the way there , Ted is telling her a story when they nearly have a run - in with Louis . She says that she is in the `` weirdest place on earth \\'\\' right now and that it is too soon for her to be dating . Ted walks her back to her apartment . They say goodnight and Ted begins to walk away . The Mother then stops him and asks him to finish the story he was telling her . When the story is over , they say goodnight again . The Mother takes a step towards Ted and they kiss for the first time , before deciding to carry on their date . </P> <P> In a flashforward in `` The Lighthouse \\'\\' , Ted proposes to the Mother at the top of the lighthouse near Farhampton Inn . She immediately accepts . In another flashfoward in `` Unpause \\'\\' , the Mother is revealed to be pregnant with their second child , Luke , in the year 2017 . She goes into labor while she and Ted are staying at Farhampton . </P> <H3> Name ( edit ) </H3> <P> The Mother \\'s real name is not revealed until the series finale , `` Last Forever \\'\\' . When Ted meets her at the Farhampton train station , she reveals that her name is Tracy McConnell . In the season 1 episode `` Belly Full of Turkey \\'\\' , Ted meets a stripper named Tracy and says `` ... that , kids , is the true story of how I met your mother \\'\\' . The children react in surprise and appear to believe Ted before he admits he is joking , which led some fans to correctly guess that The Mother \\'s name is Tracy . </P> <H2> Death ( edit ) </H2> See also : Last Forever <P> In the series finale , it is revealed that six years prior to Ted telling the story to his children , Tracy died in 2024 from an undisclosed illness . In the finale the characters do not directly state that the mother is dead . Ted says that she `` became sick \\'\\' and his children saying that she has been `` gone \\'\\' for six years . Many fans expressed considerable disappointment to The Mother \\'s death . Milioti cried when she learned her character was supposed to die , but came to accept the ending was what the writers had planned from the beginning . Bill Kuchman from Popculturology said that The Mother was `` an amazing character \\'\\' and that `` over the course of this final season HIMYM made us care about Tracy . Kuchman said that `` asking fans to drop all of that with a simple line about The Mother getting sick and passing away was a very difficult request \\'\\' , that the finale `` advanced too quickly \\'\\' and that `` HIMYM was a victim of its own success on this issue \\'\\' . </P> <P> A petition was started , aiming to rewrite and reshoot the finale . The petition has over 20,000 signatures and considerable online news coverage . On April 5 , 2014 , Carter Bays announced on Twitter that an alternate ending would be included on the Season 9 DVD . No new material was shot for this scene . In the alternate ending , the mother is still living when Ted is telling the story in 2030 . </P> <H2> Notes ( edit ) </H2> <Ol> <Li> Jump up ^ The Mother celebrates her 21st birthday on the day that `` Pilot \\'\\' is set . The pilot is set on September 19 , 2005 . </Li> </Ol> <H2> References ( edit ) </H2> <Ol> <Li> ^ Jump up to : Debnath , Neela ( 7 September 2014 ) . `` How I Met Your Mother alternative finale leaks online ahead of DVD release \\'\\' . The Independent . Retrieved 15 February 2015 . </Li> <Li> Jump up ^ Kreps , Daniel ( September 6 , 2014 ) . `` Watch the Happier \\' How I Met Your Mother \\' Alternate Ending \\'\\' . Rolling Stone . </Li> <Li> Jump up ^ MacGregor , Rachel ( September 23 , 2014 ) . `` 8 reasons why How I Met Your Mother should \\'ve used its alternative ending \\'\\' . Metro UK . </Li> <Li> Jump up ^ Stransky , Tanner ( 2013 - 05 - 13 ) . `` \\' How I Met Your Mother \\' : Burning questions about the mother \\'\\' . Entertainment Weekly . </Li> <Li> ^ Jump up to : Fallon , Kevin ( 2013 - 05 - 14 ) . `` \\' How I Met Your Mother \\' Mother Revealed : Meet Cristin Milioti \\'\\' . The Daily Beast . </Li> <Li> Jump up ^ Fallon , Kevin ( 2015 - 11 - 03 ) . `` How Cristin Milioti Met \\' Fargo \\' -- And Left \\' How I Met Your Mother \\' Behind \\'\\' . The Daily Beast . </Li> <Li> ^ Jump up to : `` How Your Mother Met Me \\'\\' . How I Met Your Mother . Season 9 . Episode 16 . January 27 , 2014 . </Li> <Li> Jump up ^ `` Pilot \\'\\' . How I Met Your Mother . Season 1 . Episode 1 . September 19 , 2005 . CBS . </Li> <Li> ^ Jump up to : Kuchman , Bill ( April 4 , 2014 ) . `` \\' How I Met Your Mother \\' \\' Last Forever \\' Recap : A Divisive Finale and What It Means for \\' HIMYM \\' \\'\\' . Retrieved July 7 , 2014 . </Li> <Li> Jump up ^ Rullo , Samantha ( 10 March 2014 ) . `` What is The Mother \\'s Name on \\' How I Met Your Mother \\' ? Episode Title Might Hold the Secret \\'\\' . Retrieved July 7 , 2014 . </Li> <Li> Jump up ^ `` HIMYM Tomatometer Watch : Series Finale Currently Rotten - Majority of critics disappointed by \\' Last Forever \\' \\'\\' . Rotten Tomatoes. April 2 , 2014 . Retrieved April 3 , 2014 . </Li> <Li> Jump up ^ http://abcnews.go.com/Entertainment/cristin-milioti-sobbed-found-characters-fate-met-mother/story?id=25947923 </Li> <Li> Jump up ^ Kuchman , Bill ( March 31 , 2014 ) . `` \\' HIMYM \\' Finale Instant Reaction \\'\\' . Retrieved July 7 , 2014 . </Li> <Li> Jump up ^ Guerrero , Danger ( April 4 , 2014 ) . `` Now There \\'s A Petition To \\' Rewrite And Reshoot \\' The \\' How I Met Your Mother \\' Ending \\'\\' . Retrieved July 7 , 2014 . </Li> <Li> Jump up ^ Maresca , Rachel ( April 3 , 2014 ) . `` \\' How I Met Your Mother \\' series finale sparks online petition from fans who want ending changed \\'\\' . New York Daily News . Retrieved July 7 , 2014 . </Li> <Li> Jump up ^ Update for those who \\'ve been asking : Alt # himym ending will be on s9 DVD and also in the series box set . https://twitter.com/CarterBays/status/452299544995184640 </Li> <Li> Jump up ^ James , Lauren ( April 5 , 2014 ) . `` \\' How I Met Your Mother \\' May Get Alternate Ending After Petition , Says Carter Bays \\'\\' . Contact Music . Retrieved July 7 , 2014 . </Li> <Li> Jump up ^ Kreps , Daniel ( September 6 , 2014 ) . `` Watch the Happier \\' How I Met Your Mother \\' Alternate Ending \\'\\' . Rolling Stone . Retrieved November 16 , 2014 . </Li> </Ol> <Table> <Tr> <Th_colspan=\"2\"> ( hide ) <Ul> <Li> </Li> <Li> </Li> <Li> </Li> </Ul> How I Met Your Mother </Th> </Tr> <Tr> <Th> Episodes </Th> <Td> <Ul> <Li> Season 1 </Li> <Li> Season 2 </Li> <Li> Season 3 </Li> <Li> Season 4 </Li> <Li> Season 5 </Li> <Li> Season 6 </Li> <Li> Season 7 </Li> <Li> Season 8 </Li> <Li> Season 9 </Li> </Ul> </Td> </Tr> <Tr> <Th> Characters </Th> <Td> <Ul> <Li> Ted Mosby </Li> <Li> Marshall Eriksen </Li> <Li> Lily Aldrin </Li> <Li> Barney Stinson </Li> <Li> Robin Scherbatsky </Li> <Li> The Mother ( Tracy McConnell ) </Li> </Ul> </Td> </Tr> <Tr> <Th> Soundtracks </Th> <Td> <Ul> <Li> How I Met Your Music </Li> </Ul> </Td> </Tr> <Tr> <Th> Related articles </Th> <Td> <Ul> <Li> Awards and nominations </Li> <Li> The Bro Code </Li> <Li> Cheerleader effect </Li> <Li> `` Nothing Suits Me Like a Suit \\'\\' </Li> </Ul> </Td> </Tr> </Table> Retrieved from `` https://en.wikipedia.org/w/index.php?title=The_Mother_(How_I_Met_Your_Mother)&oldid=802354471 \\'\\' Categories : <Ul> <Li> How I Met Your Mother characters </Li> <Li> Fictional characters introduced in 2013 </Li> <Li> Fictional female musicians </Li> </Ul> Hidden categories : <Ul> <Li> Pages using deprecated image syntax </Li> <Li> Pages using infobox character with unknown parameters </Li> </Ul> <H2> </H2> <H3> </H3> <Ul> <Li> </Li> <Li> Talk </Li> <Li> </Li> <Li> </Li> <Li> </Li> </Ul> <H3> </H3> <Ul> <Li> </Li> <Li> </Li> </Ul> <H3> </H3> <Ul> </Ul> <H3> </H3> <Ul> <Li> </Li> <Li> </Li> <Li> </Li> </Ul> <H3> </H3> <Ul> </Ul> <H3> </H3> <H3> </H3> <Ul> <Li> </Li> <Li> Contents </Li> <Li> </Li> <Li> </Li> <Li> </Li> <Li> </Li> <Li> </Li> </Ul> <H3> </H3> <Ul> <Li> </Li> <Li> About Wikipedia </Li> <Li> </Li> <Li> </Li> <Li> </Li> </Ul> <H3> </H3> <Ul> <Li> </Li> <Li> </Li> <Li> </Li> <Li> </Li> <Li> </Li> <Li> </Li> <Li> </Li> <Li> </Li> </Ul> <H3> </H3> <Ul> <Li> </Li> <Li> </Li> <Li> </Li> </Ul> <H3> </H3> <Ul> <Li> Español </Li> <Li> Italiano </Li> <Li> Magyar </Li> <Li> Tiếng Việt </Li> </Ul> Edit links <Ul> <Li> This page was last edited on 25 September 2017 , at 17 : 03 . </Li> <Li> Text is available under the Creative Commons Attribution - ShareAlike License ; additional terms may apply . By using this site , you agree to the Terms of Use and Privacy Policy . Wikipedia ® is a registered trademark of the Wikimedia Foundation , Inc. , a non-profit organization . </Li> </Ul> <Ul> <Li> </Li> <Li> About Wikipedia </Li> <Li> </Li> <Li> </Li> <Li> </Li> <Li> </Li> <Li> </Li> <Li> </Li> </Ul> <Ul> <Li> </Li> <Li> </Li> </Ul>',\n",
       " 'long_answer_candidates': [{'start_token': 28,\n",
       "   'top_level': True,\n",
       "   'end_token': 212},\n",
       "  {'start_token': 29, 'top_level': False, 'end_token': 35},\n",
       "  {'start_token': 35, 'top_level': False, 'end_token': 45},\n",
       "  {'start_token': 45, 'top_level': False, 'end_token': 57},\n",
       "  {'start_token': 57, 'top_level': False, 'end_token': 79},\n",
       "  {'start_token': 79, 'top_level': False, 'end_token': 91},\n",
       "  {'start_token': 91, 'top_level': False, 'end_token': 103},\n",
       "  {'start_token': 103, 'top_level': False, 'end_token': 113},\n",
       "  {'start_token': 113, 'top_level': False, 'end_token': 118},\n",
       "  {'start_token': 118, 'top_level': False, 'end_token': 127},\n",
       "  {'start_token': 127, 'top_level': False, 'end_token': 135},\n",
       "  {'start_token': 135, 'top_level': False, 'end_token': 147},\n",
       "  {'start_token': 147, 'top_level': False, 'end_token': 168},\n",
       "  {'start_token': 168, 'top_level': False, 'end_token': 203},\n",
       "  {'start_token': 203, 'top_level': False, 'end_token': 211},\n",
       "  {'start_token': 212, 'top_level': True, 'end_token': 310},\n",
       "  {'start_token': 310, 'top_level': True, 'end_token': 416},\n",
       "  {'start_token': 416, 'top_level': True, 'end_token': 536},\n",
       "  {'start_token': 581, 'top_level': True, 'end_token': 746},\n",
       "  {'start_token': 746, 'top_level': True, 'end_token': 851},\n",
       "  {'start_token': 858, 'top_level': True, 'end_token': 870},\n",
       "  {'start_token': 870, 'top_level': True, 'end_token': 941},\n",
       "  {'start_token': 941, 'top_level': True, 'end_token': 1107},\n",
       "  {'start_token': 1107, 'top_level': True, 'end_token': 1271},\n",
       "  {'start_token': 1271, 'top_level': True, 'end_token': 1543},\n",
       "  {'start_token': 1543, 'top_level': True, 'end_token': 1573},\n",
       "  {'start_token': 1573, 'top_level': True, 'end_token': 1728},\n",
       "  {'start_token': 1728, 'top_level': True, 'end_token': 1796},\n",
       "  {'start_token': 1796, 'top_level': True, 'end_token': 1873},\n",
       "  {'start_token': 1873, 'top_level': True, 'end_token': 1933},\n",
       "  {'start_token': 1933, 'top_level': True, 'end_token': 2067},\n",
       "  {'start_token': 2067, 'top_level': True, 'end_token': 2185},\n",
       "  {'start_token': 2185, 'top_level': True, 'end_token': 2346},\n",
       "  {'start_token': 2346, 'top_level': True, 'end_token': 2416},\n",
       "  {'start_token': 2422, 'top_level': True, 'end_token': 2531},\n",
       "  {'start_token': 2542, 'top_level': True, 'end_token': 2736},\n",
       "  {'start_token': 2736, 'top_level': True, 'end_token': 2815}],\n",
       " 'question_text': 'how i.met your mother who is the mother',\n",
       " 'annotations': [{'yes_no_answer': 'NONE',\n",
       "   'long_answer': {'start_token': 212,\n",
       "    'candidate_index': 15,\n",
       "    'end_token': 310},\n",
       "   'short_answers': [{'start_token': 213, 'end_token': 215}],\n",
       "   'annotation_id': 12034874153783787365}],\n",
       " 'document_url': 'https://en.wikipedia.org//w/index.php?title=The_Mother_(How_I_Met_Your_Mother)&amp;oldid=802354471',\n",
       " 'example_id': 5328212470870865242}"
      ]
     },
     "execution_count": 94,
     "metadata": {},
     "output_type": "execute_result"
    }
   ],
   "source": [
    "a"
   ]
  },
  {
   "cell_type": "code",
   "execution_count": 95,
   "metadata": {},
   "outputs": [],
   "source": [
    "full_data = parse_jsonl('.data/full_dataset/nq-train-00.jsonl',100)\n"
   ]
  },
  {
   "cell_type": "code",
   "execution_count": 101,
   "metadata": {},
   "outputs": [],
   "source": [
    "b = full_data[0]"
   ]
  },
  {
   "cell_type": "code",
   "execution_count": 104,
   "metadata": {},
   "outputs": [
    {
     "name": "stdout",
     "output_type": "stream",
     "text": [
      "document_text\n",
      "long_answer_candidates\n",
      "question_text\n",
      "annotations\n",
      "document_url\n",
      "example_id\n",
      "============================================================\n",
      "annotations\n",
      "document_html\n",
      "document_title\n",
      "document_tokens\n",
      "document_url\n",
      "example_id\n",
      "long_answer_candidates\n",
      "question_text\n",
      "question_tokens\n"
     ]
    }
   ],
   "source": [
    "for key in a:\n",
    "    print(key)\n",
    "print('=='*30)\n",
    "for key in b:\n",
    "    print(key)"
   ]
  },
  {
   "cell_type": "code",
   "execution_count": 108,
   "metadata": {},
   "outputs": [
    {
     "data": {
      "text/plain": [
       "[{'annotation_id': 6782080525527814293,\n",
       "  'long_answer': {'candidate_index': 92,\n",
       "   'end_byte': 96948,\n",
       "   'end_token': 3538,\n",
       "   'start_byte': 82798,\n",
       "   'start_token': 2114},\n",
       "  'short_answers': [{'end_byte': 96731,\n",
       "    'end_token': 3525,\n",
       "    'start_byte': 96715,\n",
       "    'start_token': 3521}],\n",
       "  'yes_no_answer': 'NONE'}]"
      ]
     },
     "execution_count": 108,
     "metadata": {},
     "output_type": "execute_result"
    }
   ],
   "source": [
    "b['annotations']"
   ]
  },
  {
   "cell_type": "code",
   "execution_count": 111,
   "metadata": {},
   "outputs": [],
   "source": [
    "import natural_questions as nq\n"
   ]
  },
  {
   "cell_type": "code",
   "execution_count": 117,
   "metadata": {},
   "outputs": [
    {
     "data": {
      "text/plain": [
       "{'question_text': 'when is the last episode of season 8 of the walking dead',\n",
       " 'example_id': 4549465242785278785,\n",
       " 'document_url': 'https://en.wikipedia.org//w/index.php?title=The_Walking_Dead_(season_8)&amp;oldid=828222625',\n",
       " 'document_text': 'The Walking Dead ( season 8 ) - Wikipedia <H1> The Walking Dead ( season 8 ) </H1> Jump to : navigation , search <Table> <Tr> <Th_colspan=\"2\"> The Walking Dead ( season 8 ) </Th> </Tr> <Tr> <Td_colspan=\"2\"> Promotional poster </Td> </Tr> <Tr> <Th> Starring </Th> <Td> <Ul> <Li> Andrew Lincoln </Li> <Li> Norman Reedus </Li> <Li> Lauren Cohan </Li> <Li> Chandler Riggs </Li> <Li> Danai Gurira </Li> <Li> Melissa McBride </Li> <Li> Lennie James </Li> <Li> Alanna Masterson </Li> <Li> Josh McDermitt </Li> <Li> Christian Serratos </Li> <Li> Seth Gilliam </Li> <Li> Ross Marquand </Li> <Li> Jeffrey Dean Morgan </Li> <Li> Austin Amelio </Li> <Li> Tom Payne </Li> <Li> Xander Berkeley </Li> <Li> Khary Payton </Li> <Li> Steven Ogg </Li> <Li> Katelyn Nacon </Li> <Li> Pollyanna McIntosh </Li> </Ul> </Td> </Tr> <Tr> <Th> Country of origin </Th> <Td> United States </Td> </Tr> <Tr> <Th> No. of episodes </Th> <Td> 9 </Td> </Tr> <Tr> <Th_colspan=\"2\"> Release </Th> </Tr> <Tr> <Th> Original network </Th> <Td> AMC </Td> </Tr> <Tr> <Th> Original release </Th> <Td> October 22 , 2017 ( 2017 - 10 - 22 ) -- present ( present ) </Td> </Tr> <Tr> <Th_colspan=\"2\"> Season chronology </Th> </Tr> <Tr> <Td_colspan=\"2\"> ← Previous Season 7 </Td> </Tr> <Tr> <Td_colspan=\"2\"> List of The Walking Dead episodes </Td> </Tr> </Table> <P> The eighth season of The Walking Dead , an American post-apocalyptic horror television series on AMC , premiered on October 22 , 2017 , and will consist of 16 episodes split into two eight - episode parts , with the second part debuting on February 25 , 2018 . </P> <P> Developed for television by Frank Darabont , the series is based on the eponymous series of comic books by Robert Kirkman , Tony Moore , and Charlie Adlard . The executive producers are Kirkman , David Alpert , Scott M. Gimple , Greg Nicotero , Tom Luse , and Gale Anne Hurd , with Gimple as showrunner for the fifth consecutive season . The eighth season has received mostly positive reviews . </P> <P> This season adapts the `` All Out War \\'\\' story arc from the comics , with the survivors of the Alexandria Safe - Zone , the Hilltop , the Kingdom , and later the Scavengers taking on Negan ( Jeffrey Dean Morgan ) and the Saviors . </P> <P> </P> <H2> Contents </H2> ( hide ) <Ul> <Li> 1 Cast <Ul> <Li> 1.1 Main cast <Ul> <Li> 1.1. 1 Starring </Li> <Li> 1.1. 2 Also starring </Li> </Ul> </Li> <Li> 1.2 Supporting cast <Ul> <Li> 1.2. 1 Alexandria Safe - Zone </Li> <Li> 1.2. 2 The Hilltop </Li> <Li> 1.2. 3 The Saviors </Li> <Li> 1.2. 4 The Kingdom </Li> <Li> 1.2. 5 Oceanside </Li> <Li> 1.2. 6 The Scavengers </Li> <Li> 1.2. 7 Miscellaneous </Li> </Ul> </Li> </Ul> </Li> <Li> 2 Production </Li> <Li> 3 Episodes </Li> <Li> 4 Release </Li> <Li> 5 Reception <Ul> <Li> 5.1 Critical response </Li> <Li> 5.2 Ratings </Li> </Ul> </Li> <Li> 6 References </Li> <Li> 7 External links </Li> </Ul> <P> </P> <H2> Cast ( edit ) </H2> Main article : List of The Walking Dead ( TV series ) characters <H3> Main cast ( edit ) </H3> The primary characters of the eighth season include ( from left to right ) : Rick , Carol , Morgan , Daryl , Carl , Enid , Rosita , Tara , Michonne , Gabriel , Aaron , Maggie , Jesus , Gregory , Shiva , Ezekiel , Jadis , Eugene , Simon , Dwight , and Negan <P> The eighth season features twenty series regulars overall . For this season , Katelyn Nacon , Khary Payton , Steven Ogg , and Pollyanna McIntosh were promoted to series regular status , after previously having recurring roles , while Seth Gilliam and Ross Marquand were added to the opening credits . </P> Starring ( edit ) <Ul> <Li> Andrew Lincoln as Rick Grimes , the series \\' protagonist , a former sheriff and the leader of Alexandria , who is leading a new alliance to fight Negan and the Saviors . </Li> <Li> Norman Reedus as Daryl Dixon , Rick \\'s right - hand man , the group \\'s primary hunter and a recruiter for Alexandria . </Li> <Li> Lauren Cohan as Maggie Rhee , the pregnant widow of Glenn and a leading figure of the Hilltop . </Li> <Li> Chandler Riggs as Carl Grimes , Rick \\'s bold and courageous teenage son . </Li> <Li> Danai Gurira as Michonne , Rick \\'s katana - wielding girlfriend , who acts as a mother figure to Carl and Judith . </Li> <Li> Melissa McBride as Carol Peletier , a fierce survivor who is spurred into fighting the Saviors as revenge for the deaths of her friends . </Li> <Li> Lennie James as Morgan Jones , the first survivor Rick had ever encountered , who now resides in the Kingdom and fights for his sanity . </Li> <Li> Alanna Masterson as Tara Chambler , a caring , witty member of the group and supply runner for Alexandria who serves as a liaison with Oceanside . </Li> <Li> Josh McDermitt as Eugene Porter , a timorous former member of the group whose resourcefulness leads Negan to take him under his wing . </Li> <Li> Christian Serratos as Rosita Espinosa , an impulsive member of the group , who is motivated to avenge her ex-boyfriend Spencer and Abraham \\'s death . </Li> <Li> Seth Gilliam as Gabriel Stokes , a priest who has become hardened from his experiences with Rick \\'s group . </Li> <Li> Ross Marquand as Aaron , an Alexandrian recruiter who brought Rick \\'s group to Alexandria and is currently in the fight against the Saviors . </Li> <Li> Jeffrey Dean Morgan as Negan , the sociopathic and charismatic leader of the Saviors who serves as the season \\'s primary antagonist . </Li> </Ul> Also starring ( edit ) <Ul> <Li> Austin Amelio as Dwight , a former subordinate of Negan who now works for Rick as a double agent against the Saviors . </Li> <Li> Tom Payne as Paul `` Jesus \\'\\' Rovia , a scout for the Hilltop . </Li> <Li> Xander Berkeley as Gregory , the selfish and hypocritical leader of the Hilltop whose influence diminished with Maggie \\'s prominence . </Li> <Li> Khary Payton as King Ezekiel , the charismatic leader of the Kingdom who allies with Rick against the Saviors . </Li> <Li> Steven Ogg as Simon , a former mortgage broker and Negan \\'s ruthless second - in - command . </Li> <Li> Katelyn Nacon as Enid , a former member of Alexandria who moved to Hilltop to be with Maggie , and has formed a relationship with Carl . </Li> <Li> Pollyanna McIntosh as Jadis , the deceptive leader of the Scavengers who betrayed Rick \\'s group , and maintains a neutral stance in the war . </Li> </Ul> <H3> Supporting cast ( edit ) </H3> Alexandria Safe - Zone ( edit ) <Ul> <Li> Jason Douglas as Tobin , the foreman of Alexandria \\'s construction crew and member of Rick \\'s militia . </Li> <Li> Jordan Woods - Robinson as Eric Raleigh , Aaron \\'s boyfriend and his former recruiting partner , who is now a member of Rick \\'s militia . </Li> <Li> Kenric Green as Scott , a supply runner in Alexandria and member of Rick \\'s militia . </Li> <Li> Dahlia Legault as Francine , a member of Alexandria \\'s construction crew and member of Rick \\'s militia . </Li> <Li> Mandi Christine Kerr as Barbara , resident of Alexandria . </Li> <Li> Ted Huckabee as Bruce , resident and member of Alexandria \\'s construction . </Li> </Ul> The Hilltop ( edit ) <Ul> <Li> James Chen as Kal , a guard of the Hilltop . </Li> <Li> Peter Zimmerman as Eduardo , a guard of the Hilltop and soldier of the Hilltop \\'s militia . </Li> <Li> Karen Ceesay as Bertie , a resident of the Hilltop and soldier of the Hilltop \\'s militia . </Li> <Li> Jeremy Palko as Andy , a resident of the Hilltop and soldier of the Hilltop \\'s militia . </Li> <Li> Brett Gentile as Freddie , a resident of the Hilltop and soldier of the Hilltop \\'s militia . </Li> <Li> R. Keith Harris as Harlan Carson , is the doctor of the Hilltop , who was captured by Simon in the previous season . </Li> </Ul> The Saviors ( edit ) <Ul> <Li> Jayson Warner Smith as Gavin , one of Negan \\'s top lieutenants , who leads the weapons base . </Li> <Li> Traci Dinwiddie as Regina , one of Negan \\'s top lieutenants . </Li> <Li> Elizabeth Ludlow as Arat , one of Negan \\'s top lieutenants . </Li> <Li> Mike Seal as Gary , a member of the Saviors . </Li> <Li> Lindsley Register as Laura , a member of the Saviors . </Li> <Li> Juan Pareja as Morales , a survivor from Rick \\'s original Atlanta camp who joined the Saviors . </Li> <Li> Joshua Mikel as Jared , Benjamin \\'s killer , and a hostile member of the Saviors who antagonizes Morgan . </Li> <Li> Callan McAuliffe as Alden , a member of the Saviors who surrenders to Jesus at the satellite station outpost . </Li> <Li> Lindsey Garrett as Mara , a Savior who guards one of many outposts . </Li> <Li> Lee Norris as Todd , a timid member of the Saviors who works at the same outpost as Mara . </Li> <Li> Whitmer Thomas as Gunther , a member of the Saviors who tortures Ezekiel . </Li> <Li> Charles Halford as Yago , a Savior who manages Gavin \\'s weapons base . </Li> <Li> Ciera L. Payton as Zia , a Savior whom Rosita and Michonne encounter at a supply warehouse . </Li> <Li> Adam Cronan as Leo , a Savior whom Rosita and Michonne encounter at a supply warehouse . </Li> <Li> Chloe Aktas as Tanya , one of Negan \\'s wives . </Li> <Li> Adam Fristoe as Dean , a savior who tried to kill Jesus . </Li> </Ul> The Kingdom ( edit ) <Ul> <Li> Cooper Andrews as Jerry , Ezekiel \\'s loyal and good - natured bodyguard . </Li> <Li> Kerry Cahill as Dianne , one of Ezekiel \\'s top soldiers and a skilled archer . </Li> <Li> Daniel Newman as Daniel , one of Ezekiel \\'s top soldiers . </Li> <Li> Carlos Navarro as Alvaro , one of Ezekiel \\'s top soldiers . </Li> <Li> Macsen Lintz as Henry , a resident of the Kingdom and younger brother of the deceased Benjamin . </Li> <Li> Jason Burkey as Kevin , a resident of the Kingdom . </Li> <Li> Nadine Marissa as Nabila , a resident and gardener of the Kingdom . </Li> </Ul> Oceanside ( edit ) <Ul> <Li> Deborah May as Natania , the vigilant leader of Oceanside . </Li> <Li> Sydney Park as Cyndie , Natania \\'s granddaughter . </Li> <Li> Briana Venskus as Beatrice , one of Oceanside \\'s top soldiers . </Li> <Li> Nicole Barré as Kathy , one of Oceanside \\'s top soldiers . </Li> </Ul> The Scavengers ( edit ) <Ul> <Li> Sabrina Gennarino as Tamiel , a leading member of the Scavengers . </Li> <Li> Thomas Francis Murphy as Brion , a leading member of the Scavengers . </Li> </Ul> Miscellaneous ( edit ) <Ul> <Li> Avi Nash as Siddiq , a mysterious vagabond survivor who befriends Carl . </Li> </Ul> <H2> Production ( edit ) </H2> <P> The Walking Dead was renewed by AMC for a 16 - episode eighth season on October 16 , 2016 , and that same month it was reported that Maria Bello would have a role on the show . Production began on April 25 , 2017 , in Atlanta , Georgia . On July 12 , 2017 , production was shut down after stuntman John Bernecker was killed , after falling more than 20 feet onto a concrete floor . Production resumed on July 17 . </P> <P> The season premiere , which also serves as the series \\' milestone 100th episode , was directed by executive producer Greg Nicotero . </P> <P> In November 2017 , it was announced that Lennie James who portrays Morgan Jones , would be leaving The Walking Dead after the conclusion of this season , and he will join the cast of the spin - off series Fear the Walking Dead . </P> <H2> Episodes ( edit ) </H2> See also : List of The Walking Dead episodes <Table> <Tr> <Th> No . overall </Th> <Th> No. in season </Th> <Th> Title </Th> <Th> Directed by </Th> <Th> Written by </Th> <Th> Original air date </Th> <Th> U.S. viewers ( millions ) </Th> </Tr> <Tr> <Th> 100 </Th> <Td> </Td> <Td> `` Mercy \\'\\' </Td> <Td> Greg Nicotero </Td> <Td> Scott M. Gimple </Td> <Td> October 22 , 2017 ( 2017 - 10 - 22 ) </Td> <Td> 11.44 </Td> </Tr> <Tr> <Td_colspan=\"7\"> Rick , Maggie , and Ezekiel rally their communities together to take down Negan . Gregory attempts to have the Hilltop residents side with Negan , but they all firmly stand behind Maggie . The group attacks the Sanctuary , taking down its fences and flooding the compound with walkers . With the Sanctuary defaced , everyone leaves except Gabriel , who reluctantly stays to save Gregory , but is left behind when Gregory abandons him . Surrounded by walkers , Gabriel hides in a trailer , where he is trapped inside with Negan . </Td> </Tr> <Tr> <Th> 101 </Th> <Td> </Td> <Td> `` The Damned \\'\\' </Td> <Td> Rosemary Rodriguez </Td> <Td> Matthew Negrete & Channing Powell </Td> <Td> October 29 , 2017 ( 2017 - 10 - 29 ) </Td> <Td> 8.92 </Td> </Tr> <Tr> <Td_colspan=\"7\"> Rick \\'s forces split into separate parties to attack several of the Saviors \\' outposts , during which many members of the group are killed ; Eric is critically injured and rushed away by Aaron . Jesus stops Tara and Morgan from executing a group of surrendered Saviors . While clearing an outpost with Daryl , Rick is confronted and held at gunpoint by Morales , a survivor he met in the initial Atlanta camp , who is now with the Saviors . </Td> </Tr> <Tr> <Th> 102 </Th> <Td> </Td> <Td> `` Monsters \\'\\' </Td> <Td> Greg Nicotero </Td> <Td> Matthew Negrete & Channing Powell </Td> <Td> November 5 , 2017 ( 2017 - 11 - 05 ) </Td> <Td> 8.52 </Td> </Tr> <Tr> <Td_colspan=\"7\"> Daryl finds Morales threatening Rick and kills him ; the duo then pursue a group of Saviors who are transporting weapons to another outpost . Gregory returns to Hilltop , and after a heated argument , Maggie ultimately allows him back in the community . Eric dies from his injuries , leaving Aaron distraught . Despite Tara and Morgan \\'s objections , Jesus leads the group of surrendered Saviors to Hilltop . Ezekiel \\'s group attacks another Savior compound , during which several Kingdommers are shot while protecting Ezekiel . </Td> </Tr> <Tr> <Th> 103 </Th> <Td> </Td> <Td> `` Some Guy \\'\\' </Td> <Td> Dan Liu </Td> <Td> David Leslie Johnson </Td> <Td> November 12 , 2017 ( 2017 - 11 - 12 ) </Td> <Td> 8.69 </Td> </Tr> <Tr> <Td_colspan=\"7\"> Ezekiel \\'s group is overwhelmed by the Saviors , who kill all of them except for Ezekiel himself and Jerry . Carol clears the inside of the compound , killing all but two Saviors , who almost escape but are eventually caught by Rick and Daryl . En route to the Kingdom , Ezekiel , Jerry , and Carol are surrounded by walkers , but Shiva sacrifices herself to save them . The trio returns to the Kingdom , where Ezekiel \\'s confidence in himself as a leader has diminished . </Td> </Tr> <Tr> <Th> 104 </Th> <Td> 5 </Td> <Td> `` The Big Scary U \\'\\' </Td> <Td> Michael E. Satrazemis </Td> <Td> Story by : Scott M. Gimple & David Leslie Johnson & Angela Kang Teleplay by : David Leslie Johnson & Angela Kang </Td> <Td> November 19 , 2017 ( 2017 - 11 - 19 ) </Td> <Td> 7.85 </Td> </Tr> <Tr> <Td_colspan=\"7\"> After confessing their sins to each other , Gabriel and Negan manage to escape from the trailer . Simon and the other lieutenants grow suspicious of each other , knowing that Rick \\'s forces must have inside information . The workers in the Sanctuary become increasingly frustrated with their living conditions , and a riot nearly ensues , until Negan returns and restores order . Gabriel is locked in a cell , where Eugene discovers him sick and suffering . Meanwhile , Rick and Daryl argue over how to take out the Saviors , leading Daryl to abandon Rick . </Td> </Tr> <Tr> <Th> 105 </Th> <Td> 6 </Td> <Td> `` The King , the Widow , and Rick \\'\\' </Td> <Td> John Polson </Td> <Td> Angela Kang & Corey Reed </Td> <Td> November 26 , 2017 ( 2017 - 11 - 26 ) </Td> <Td> 8.28 </Td> </Tr> <Tr> <Td_colspan=\"7\"> Rick visits Jadis in hopes of convincing her to turn against Negan ; Jadis refuses , and locks Rick in a shipping container . Carl encounters Siddiq in the woods and recruits him to Alexandria . Daryl and Tara plot to deviate from Rick \\'s plans by destroying the Sanctuary . Ezekiel isolates himself at the Kingdom , where Carol tries to encourage him to be the leader his people need . Maggie has the group of captured Saviors placed in a holding area and forces Gregory to join them as punishment for betraying Hilltop . </Td> </Tr> <Tr> <Th> 106 </Th> <Td> 7 </Td> <Td> `` Time for After \\'\\' </Td> <Td> Larry Teng </Td> <Td> Matthew Negrete & Corey Reed </Td> <Td> December 3 , 2017 ( 2017 - 12 - 03 ) </Td> <Td> 7.47 </Td> </Tr> <Tr> <Td_colspan=\"7\"> After learning of Dwight \\'s association with Rick \\'s group , Eugene affirms his loyalty to Negan and outlines a plan to get rid of the walkers surrounding the Sanctuary . With help from Morgan and Tara , Daryl drives a truck through the Sanctuary \\'s walls , flooding its interior with walkers , killing many Saviors . Rick finally convinces Jadis and the Scavengers to align with him , and they plan to force the Saviors to surrender . However , when they arrive at the Sanctuary , Rick is horrified to see the breached walls and no sign of the walker herd . </Td> </Tr> <Tr> <Th> 107 </Th> <Td> 8 </Td> <Td> `` How It \\'s Gotta Be \\'\\' </Td> <Td> Michael E. Satrazemis </Td> <Td> David Leslie Johnson & Angela Kang </Td> <Td> December 10 , 2017 ( 2017 - 12 - 10 ) </Td> <Td> 7.89 </Td> </Tr> <Tr> <Td_colspan=\"7\"> Eugene \\'s plan allows the Saviors to escape , and separately , the Saviors waylay the Alexandria , Hilltop , and Kingdom forces . The Scavengers abandon Rick , after which he returns to Alexandria . Ezekiel ensures that the Kingdom residents are able to escape before locking himself in the community with the Saviors . Eugene aids Gabriel and Doctor Carson in escaping the Sanctuary in order to ease his conscience . Negan attacks Alexandria , but Carl devises a plan to allow the Alexandria residents to escape into the sewers . Carl reveals he was bitten by a walker while escorting Siddiq to Alexandria . </Td> </Tr> <Tr> <Th> 108 </Th> <Td> 9 </Td> <Td> `` Honor \\'\\' </Td> <Td> Greg Nicotero </Td> <Td> Matthew Negrete & Channing Powell </Td> <Td> February 25 , 2018 ( 2018 - 02 - 25 ) </Td> <Td> 8.28 </Td> </Tr> <Tr> <Td_colspan=\"7\"> After the Saviors leave Alexandria , the survivors make for the Hilltop while Rick and Michonne stay behind to say their final goodbyes to a dying Carl , who pleads with Rick to build a better future alongside the Saviors before killing himself . In the Kingdom , Morgan and Carol launch a rescue mission for Ezekiel . Although they are successful and retake the Kingdom , the Saviors \\' lieutenant Gavin is killed by Benjamin \\'s vengeful brother Henry . </Td> </Tr> <Tr> <Th> 109 </Th> <Td> 10 </Td> <Td> `` The Lost and the Plunderers \\'\\' </Td> <Td> TBA </Td> <Td> TBA </Td> <Td> March 4 , 2018 ( 2018 - 03 - 04 ) </Td> <Td> TBD </Td> </Tr> <Tr> <Th> 110 </Th> <Td> 11 </Td> <Td> `` Dead or Alive Or \\'\\' </Td> <Td> TBA </Td> <Td> TBA </Td> <Td> March 11 , 2018 ( 2018 - 03 - 11 ) </Td> <Td> TBD </Td> </Tr> <Tr> <Th> 111 </Th> <Td> 12 </Td> <Td> `` The Key \\'\\' </Td> <Td> TBA </Td> <Td> TBA </Td> <Td> March 18 , 2018 ( 2018 - 03 - 18 ) </Td> <Td> TBD </Td> </Tr> </Table> <H2> Release ( edit ) </H2> <P> The first trailer for the season was released on July 21 , 2017 , at San Diego Comic - Con . The second trailer was released on February 1 , 2018 , for the second part of the season . </P> <H2> Reception ( edit ) </H2> <H3> Critical response ( edit ) </H3> <P> The eighth season of The Walking Dead has received mostly positive reviews from critics . On Rotten Tomatoes , the season holds a score of 73 % with an average rating of 6.9 out of 10 , based on 13 reviews , and an average episode score of 69 % . The site \\'s critical consensus reads : `` The Walking Dead \\'s eighth season energizes its characters with some much - needed angst and action , though it \\'s still occasionally choppy and lacking forward - moving plot progression . \\'\\' </P> <Table> The Walking Dead ( season 8 ) : Critical reception by episode <Tr> <Td> <Ul> <Li> Season 8 ( 2017 -- 18 ) : Percentage of positive reviews tracked by the website Rotten Tomatoes </Li> </Ul> </Td> </Tr> </Table> <H3> Ratings ( edit ) </H3> <Table> <Tr> <Th> No . </Th> <Th> Title </Th> <Th> Air date </Th> <Th> Rating / share ( 18 -- 49 ) </Th> <Th> Viewers ( millions ) </Th> <Th> DVR ( 18 -- 49 ) </Th> <Th> DVR viewers ( millions ) </Th> <Th> Total ( 18 -- 49 ) </Th> <Th> Total viewers ( millions ) </Th> </Tr> <Tr> <Td> </Td> <Td> `` Mercy \\'\\' </Td> <Td> October 22 , 2017 </Td> <Td> 5.0 </Td> <Td> 11.44 </Td> <Td> 2.2 </Td> <Td> 4.28 </Td> <Td> 7.2 </Td> <Td> 15.74 </Td> </Tr> <Tr> <Td> </Td> <Td> `` The Damned \\'\\' </Td> <Td> October 29 , 2017 </Td> <Td> 4.0 </Td> <Td> 8.92 </Td> <Td> 2.0 </Td> <Td> 4.16 </Td> <Td> 6.0 </Td> <Td> 13.10 </Td> </Tr> <Tr> <Td> </Td> <Td> `` Monsters \\'\\' </Td> <Td> November 5 , 2017 </Td> <Td> 3.8 </Td> <Td> 8.52 </Td> <Td> 2.2 </Td> <Td> 4.47 </Td> <Td> 6.0 </Td> <Td> 13.01 </Td> </Tr> <Tr> <Td> </Td> <Td> `` Some Guy \\'\\' </Td> <Td> November 12 , 2017 </Td> <Td> 3.9 </Td> <Td> 8.69 </Td> <Td> 1.8 </Td> <Td> 3.66 </Td> <Td> 5.7 </Td> <Td> 12.36 </Td> </Tr> <Tr> <Td> 5 </Td> <Td> `` The Big Scary U \\'\\' </Td> <Td> November 19 , 2017 </Td> <Td> 3.4 </Td> <Td> 7.85 </Td> <Td> 1.7 </Td> <Td> 3.58 </Td> <Td> 5.3 </Td> <Td> 11.87 </Td> </Tr> <Tr> <Td> 6 </Td> <Td> `` The King , the Widow , and Rick \\'\\' </Td> <Td> November 26 , 2017 </Td> <Td> 3.6 </Td> <Td> 8.28 </Td> <Td> </Td> <Td> 4.44 </Td> <Td> 5.7 </Td> <Td> 12.73 </Td> </Tr> <Tr> <Td> 7 </Td> <Td> `` Time for After \\'\\' </Td> <Td> December 3 , 2017 </Td> <Td> 3.3 </Td> <Td> 7.47 </Td> <Td> 1.9 </Td> <Td> 4.15 </Td> <Td> 5.2 </Td> <Td> 11.63 </Td> </Tr> <Tr> <Td> 8 </Td> <Td> `` How It \\'s Gotta Be \\'\\' </Td> <Td> December 10 , 2017 </Td> <Td> 3.4 </Td> <Td> 7.89 </Td> <Td> 2.0 </Td> <Td> 4.23 </Td> <Td> 5.4 </Td> <Td> 12.13 </Td> </Tr> <Tr> <Td> 9 </Td> <Td> `` Honor \\'\\' </Td> <Td> February 25 , 2018 </Td> <Td> 3.6 </Td> <Td> 8.28 </Td> <Td> TBD </Td> <Td> TBD </Td> <Td> TBD </Td> <Td> TBD </Td> </Tr> <Tr> <Td> 10 </Td> <Td> `` The Lost and the Plunderers \\'\\' </Td> <Td> March 4 , 2018 </Td> <Td> TBD </Td> <Td> TBD </Td> <Td> TBD </Td> <Td> TBD </Td> <Td> TBD </Td> <Td> TBD </Td> </Tr> <Tr> <Td> 11 </Td> <Td> `` Dead or Alive Or \\'\\' </Td> <Td> March 11 , 2018 </Td> <Td> TBD </Td> <Td> TBD </Td> <Td> TBD </Td> <Td> TBD </Td> <Td> TBD </Td> <Td> TBD </Td> </Tr> <Tr> <Td> 12 </Td> <Td> `` The Key \\'\\' </Td> <Td> March 18 , 2018 </Td> <Td> TBD </Td> <Td> TBD </Td> <Td> TBD </Td> <Td> TBD </Td> <Td> TBD </Td> <Td> TBD </Td> </Tr> </Table> <P> ^ 1 Live + 7 ratings were not available , so Live + 3 ratings have been used instead . </P> <H2> References ( edit ) </H2> <Ol> <Li> Jump up ^ Schwartz , Ryan ( July 18 , 2017 ) . `` Walking Dead Gets Season 8 Premiere Date , Plus Fear TWD Return Date \\'\\' . TVLine . Retrieved July 18 , 2017 . </Li> <Li> ^ Jump up to : Hibberd , James ( October 16 , 2016 ) . `` Walking Dead gets early season 8 renewal \\'\\' . Entertainment Weekly . Retrieved October 16 , 2016 . </Li> <Li> Jump up ^ Zalben , Alexander ( December 10 , 2017 ) . `` Here \\'s When The Walking Dead Will Return in 2018 \\'\\' . TV Guide . Retrieved January 15 , 2018 . </Li> <Li> Jump up ^ Goldberg , Lesley ( April 17 , 2017 ) . `` \\' Walking Dead \\' Promotes Trio to Series Regular for Season 8 \\'\\' . The Hollywood Reporter . Retrieved May 4 , 2017 . </Li> <Li> ^ Jump up to : Ausiello , Michael ( April 17 , 2017 ) . `` The Walking Dead Promotes 3 Actors to Series Regular Ahead of Season 8 \\'\\' . TV Line . Retrieved October 25 , 2017 . </Li> <Li> Jump up ^ Peters , Megan ( October 30 , 2016 ) . `` Maria Bello Getting Role In The Walking Dead Season 8 \\'\\' . Comicbook.com . Retrieved July 18 , 2017 . </Li> <Li> Jump up ^ Davis , Brandon ( April 24 , 2017 ) . `` The Walking Dead Cast And Crew Assemble For Season 8 \\'\\' . Comicbook.com . Retrieved July 22 , 2017 . </Li> <Li> Jump up ^ Otterson , Joe ( July 13 , 2017 ) . `` \\' Walking Dead \\' Stuntman Dies After On - Set Accident \\'\\' . Variety . Retrieved July 22 , 2017 . </Li> <Li> Jump up ^ Pedersen , Erik ( July 17 , 2017 ) . `` \\' Walking Dead \\' Production Resumes After Stuntman \\'s Death \\'\\' . Deadline . Retrieved July 22 , 2017 . </Li> <Li> Jump up ^ Davis , Brandon ( April 25 , 2017 ) . `` Exclusive : Greg Nicotero To Direct The Walking Dead Episode 100 , Season 8 Premiere \\'\\' . Comicbook.com . Retrieved July 22 , 2017 . </Li> <Li> Jump up ^ Ross , Dalton ( November 26 , 2017 ) . `` The Walking Dead : Lennie James will cross over to Fear The Walking Dead \\'\\' . Entertainment Weekly . Retrieved November 27 , 2017 . </Li> <Li> ^ Jump up to : Porter , Rick ( October 24 , 2017 ) . `` Sunday cable ratings : \\' The Walking Dead \\' has lowest - rated premiere since Season 2 \\'\\' . TV by the Numbers . Retrieved October 24 , 2017 . </Li> <Li> ^ Jump up to : Porter , Rick ( October 31 , 2017 ) . `` Sunday cable ratings : \\' The Walking Dead \\' stumbles to 5 - year low \\'\\' . TV by the Numbers . Retrieved October 31 , 2017 . </Li> <Li> ^ Jump up to : Porter , Rick ( November 7 , 2017 ) . `` Sunday cable ratings : \\' Shameless \\' has its best premiere in 4 - plus years \\'\\' . TV by the Numbers . Retrieved November 7 , 2017 . </Li> <Li> ^ Jump up to : Porter , Rick ( November 14 , 2017 ) . `` Sunday cable ratings : \\' The Walking Dead \\' improves , \\' Shameless \\' dips in week 2 \\'\\' . TV by the Numbers . Retrieved November 14 , 2017 . </Li> <Li> ^ Jump up to : Porter , Rick ( November 21 , 2017 ) . `` Sunday cable ratings : 6 - year low for \\' The Walking Dead \\' \\'\\' . TV by the Numbers . Retrieved November 21 , 2017 . </Li> <Li> ^ Jump up to : Porter , Rick ( November 29 , 2017 ) . `` Sunday cable ratings : Hallmark \\'s \\' Switched for Christmas \\' hits a high , \\' Walking Dead \\' rebounds some \\'\\' . TV by the Numbers . Retrieved November 29 , 2017 . </Li> <Li> ^ Jump up to : Porter , Rick ( December 5 , 2017 ) . `` Sunday cable ratings : \\' The Walking Dead \\' goes low again \\'\\' . TV by the Numbers . Retrieved December 5 , 2017 . </Li> <Li> ^ Jump up to : Porter , Rick ( December 12 , 2017 ) . `` Sunday cable ratings : \\' Walking Dead \\' fall finale ticks up , Season 8 still way down \\'\\' . TV by the Numbers . Retrieved December 12 , 2017 . </Li> <Li> ^ Jump up to : Porter , Rick ( February 27 , 2017 ) . `` Sunday cable ratings : \\' The Walking Dead \\' returns a little higher \\'\\' . TV by the Numbers . Retrieved February 27 , 2017 . </Li> <Li> ^ Jump up to : `` The Walking Dead : Episode Guide \\'\\' . Zap2it . Retrieved February 6 , 2018 . </Li> <Li> Jump up ^ Snierson , Dan ( July 21 , 2017 ) . `` The Walking Dead season 8 trailer teases surprise flash - forward \\'\\' . Entertainment Weekly . Retrieved July 22 , 2017 . </Li> <Li> ^ Jump up to : `` The Walking Dead : Season 8 \\'\\' . Rotten Tomatoes . Retrieved November 23 , 2016 . </Li> <Li> Jump up ^ Porter , Rick ( November 3 , 2017 ) . `` \\' Walking Dead \\' premiere grows a lot , still trails Season 7 debut by a lot : Cable Live + 7 ratings for Oct. 16 - 22 \\'\\' . TV by the Numbers . Retrieved November 3 , 2017 . </Li> <Li> Jump up ^ Porter , Rick ( November 9 , 2017 ) . `` \\' Walking Dead , \\' \\' AHS : Cult \\' way above everything else in cable Live + 7 ratings for Oct. 23 - 29 \\'\\' . TV by the Numbers . Retrieved November 9 , 2017 . </Li> <Li> Jump up ^ Porter , Rick ( November 17 , 2017 ) . `` \\' American Horror Story : Cult \\' triples in cable Live + 7 ratings for Oct. 30 - Nov. 5 \\'\\' . TV by the Numbers . Retrieved November 17 , 2017 . </Li> <Li> Jump up ^ Porter , Rick ( November 19 , 2017 ) . `` \\' The Walking Dead \\' keeps pace in cable Live + 3 ratings for Nov. 6 - 12 \\'\\' . TV by the Numbers . Retrieved November 19 , 2017 . </Li> <Li> Jump up ^ Porter , Rick ( December 20 , 2017 ) . `` \\' The Walking Dead \\' laps the field in cable Live + 7 ratings for Nov. 20 - 26 \\'\\' . TV by the Numbers . Retrieved December 20 , 2017 . </Li> <Li> Jump up ^ Porter , Rick ( December 7 , 2017 ) . `` \\' The Walking Dead \\' laps the field in cable Live + 7 ratings for Nov. 20 - 26 \\'\\' . TV by the Numbers . Retrieved December 7 , 2017 . </Li> <Li> Jump up ^ Porter , Rick ( December 15 , 2017 ) . `` \\' The Walking Dead \\' outpaces everything else in cable Live + 7 ratings for Nov. 27 - Dec. 3 \\'\\' . TV by the Numbers . Retrieved December 15 , 2017 . </Li> <Li> Jump up ^ Porter , Rick ( December 21 , 2017 ) . `` \\' Top Chef \\' premiere more than doubles in cable Live + 7 ratings for Dec. 4 - 10 \\'\\' . TV by the Numbers . Retrieved December 21 , 2017 . </Li> </Ol> <H2> External links ( edit ) </H2> <Ul> <Li> Horror fiction portal </Li> <Li> Television portal </Li> </Ul> <Ul> <Li> Official website </Li> <Li> List of The Walking Dead episodes on IMDb </Li> <Li> List of The Walking Dead episodes at TV.com </Li> </Ul> <Table> <Tr> <Th_colspan=\"2\"> <Ul> <Li> </Li> <Li> </Li> <Li> </Li> </Ul> The Walking Dead </Th> </Tr> <Tr> <Td_colspan=\"2\"> <Ul> <Li> Robert Kirkman </Li> <Li> Tony Moore </Li> <Li> Charlie Adlard </Li> </Ul> </Td> </Tr> <Tr> <Th> Comic books </Th> <Td> <Ul> <Li> The Walking Dead </Li> </Ul> </Td> </Tr> <Tr> <Th> Television series </Th> <Td> <Table> <Tr> <Th> The Walking Dead </Th> <Td> <Ul> <Li> Episodes <Ul> <Li> season 1 </Li> <Li> </Li> <Li> </Li> <Li> </Li> <Li> 5 </Li> <Li> 6 </Li> <Li> 7 </Li> <Li> 8 </Li> </Ul> </Li> <Li> Accolades </Li> <Li> Soundtrack <Ul> <Li> Vol. 1 </Li> <Li> </Li> </Ul> </Li> <Li> Talking Dead </Li> </Ul> </Td> </Tr> <Tr> <Th> Fear the Walking Dead </Th> <Td> <Ul> <Li> Episodes <Ul> <Li> season 1 </Li> <Li> </Li> <Li> </Li> </Ul> </Li> </Ul> </Td> </Tr> </Table> </Td> </Tr> <Tr> <Th> Web series </Th> <Td> <Table> <Tr> <Th> The Walking Dead </Th> <Td> <Ul> <Li> Torn Apart </Li> <Li> Cold Storage </Li> <Li> The Oath </Li> </Ul> </Td> </Tr> <Tr> <Th> Fear the Walking Dead </Th> <Td> <Ul> <Li> Flight 462 </Li> <Li> Passage </Li> </Ul> </Td> </Tr> </Table> </Td> </Tr> <Tr> <Th> Video games </Th> <Td> <Table> <Tr> <Th> The Walking Dead </Th> <Td> <Ul> <Li> Season One <Ul> <Li> `` 400 Days \\'\\' </Li> </Ul> </Li> <Li> Two </Li> <Li> Michonne </Li> <Li> Three : A New Frontier </Li> </Ul> </Td> </Tr> <Tr> <Th> Other games </Th> <Td> <Ul> <Li> Survival Instinct </Li> <Li> Road to Survival </Li> </Ul> </Td> </Tr> </Table> </Td> </Tr> <Tr> <Th> Novels </Th> <Td> <Ul> <Li> Rise of the Governor </Li> <Li> The Road to Woodbury </Li> <Li> The Fall of the Governor </Li> <Li> Descent </Li> <Li> Invasion </Li> <Li> Search and Destroy </Li> <Li> Return to Woodbury </Li> </Ul> </Td> </Tr> <Tr> <Th> Characters </Th> <Td> <Table> <Tr> <Th> Lists </Th> <Td> <Ul> <Li> Comic book series </Li> <Li> Television series </Li> </Ul> </Td> </Tr> <Tr> <Td_colspan=\"2\"> <Ul> <Li> Aaron </Li> <Li> Alden </Li> <Li> Amy </Li> <Li> Jessie Anderson </Li> <Li> Andrea </Li> <Li> Axel </Li> <Li> Tara Chambler </Li> <Li> Clementine </Li> <Li> Daryl Dixon </Li> <Li> Merle Dixon </Li> <Li> Dwight </Li> <Li> Rosita Espinosa </Li> <Li> Lee Everett </Li> <Li> King Ezekiel </Li> <Li> Abraham Ford </Li> <Li> Gareth </Li> <Li> The Governor </Li> <Li> Gregory </Li> <Li> Beth Greene </Li> <Li> Hershel Greene </Li> <Li> Maggie Greene </Li> <Li> Carl Grimes </Li> <Li> Lori Grimes </Li> <Li> Rick Grimes </Li> <Li> Dale Horvath </Li> <Li> Morgan Jones </Li> <Li> Lilly </Li> <Li> Milton Mamet </Li> <Li> Caesar Martinez </Li> <Li> Deanna Monroe </Li> <Li> Paul `` Jesus \\'\\' Monroe </Li> <Li> Morales </Li> <Li> Michonne </Li> <Li> Negan </Li> <Li> Olivia </Li> <Li> The Prisoners </Li> <Li> Carol Peletier </Li> <Li> Sophia Peletier </Li> <Li> Eugene Porter </Li> <Li> Glenn Rhee </Li> <Li> Lizzie and Mika Samuels </Li> <Li> Gabriel Stokes </Li> <Li> Bob Stookey </Li> <Li> T - Dog </Li> <Li> Shane Walsh </Li> <Li> Sasha Williams </Li> <Li> Tyreese Williams </Li> </Ul> </Td> </Tr> </Table> </Td> </Tr> <Tr> <Td_colspan=\"2\"> <Ul> <Li> Category </Li> </Ul> </Td> </Tr> </Table> <Table> <Tr> <Th_colspan=\"2\"> <Ul> <Li> </Li> <Li> </Li> <Li> </Li> </Ul> The Walking Dead episodes </Th> </Tr> <Tr> <Th> Season 1 </Th> <Td> <Ul> <Li> `` Days Gone Bye \\'\\' </Li> <Li> `` Guts \\'\\' </Li> <Li> `` Tell It to the Frogs \\'\\' </Li> <Li> `` Vatos \\'\\' </Li> <Li> `` Wildfire \\'\\' </Li> <Li> `` TS - 19 \\'\\' </Li> </Ul> </Td> </Tr> <Tr> <Th> Season 2 </Th> <Td> <Ul> <Li> `` What Lies Ahead \\'\\' </Li> <Li> `` Bloodletting \\'\\' </Li> <Li> `` Save the Last One \\'\\' </Li> <Li> `` Cherokee Rose \\'\\' </Li> <Li> `` Chupacabra \\'\\' </Li> <Li> `` Secrets \\'\\' </Li> <Li> `` Pretty Much Dead Already \\'\\' </Li> <Li> `` Nebraska \\'\\' </Li> <Li> `` Triggerfinger \\'\\' </Li> <Li> `` 18 Miles Out \\'\\' </Li> <Li> `` Judge , Jury , Executioner \\'\\' </Li> <Li> `` Better Angels \\'\\' </Li> <Li> `` Beside the Dying Fire \\'\\' </Li> </Ul> </Td> </Tr> <Tr> <Th> Season 3 </Th> <Td> <Ul> <Li> `` Seed \\'\\' </Li> <Li> `` Sick \\'\\' </Li> <Li> `` Walk with Me \\'\\' </Li> <Li> `` Killer Within \\'\\' </Li> <Li> `` Say the Word \\'\\' </Li> <Li> `` Hounded \\'\\' </Li> <Li> `` When the Dead Come Knocking \\'\\' </Li> <Li> `` Made to Suffer \\'\\' </Li> <Li> `` The Suicide King \\'\\' </Li> <Li> `` Home \\'\\' </Li> <Li> `` I Ai n\\'t a Judas \\'\\' </Li> <Li> `` Clear \\'\\' </Li> <Li> `` Arrow on the Doorpost \\'\\' </Li> <Li> `` Prey \\'\\' </Li> <Li> `` This Sorrowful Life \\'\\' </Li> <Li> `` Welcome to the Tombs \\'\\' </Li> </Ul> </Td> </Tr> <Tr> <Th> Season 4 </Th> <Td> <Ul> <Li> `` 30 Days Without an Accident \\'\\' </Li> <Li> `` Infected \\'\\' </Li> <Li> `` Isolation \\'\\' </Li> <Li> `` Indifference \\'\\' </Li> <Li> `` Internment \\'\\' </Li> <Li> `` Live Bait \\'\\' </Li> <Li> `` Dead Weight \\'\\' </Li> <Li> `` Too Far Gone \\'\\' </Li> <Li> `` After \\'\\' </Li> <Li> `` Inmates \\'\\' </Li> <Li> `` Claimed \\'\\' </Li> <Li> `` Still \\'\\' </Li> <Li> `` Alone \\'\\' </Li> <Li> `` The Grove \\'\\' </Li> <Li> `` Us \\'\\' </Li> <Li> `` A \\'\\' </Li> </Ul> </Td> </Tr> <Tr> <Th> Season 5 </Th> <Td> <Ul> <Li> `` No Sanctuary \\'\\' </Li> <Li> `` Strangers \\'\\' </Li> <Li> `` Four Walls and a Roof \\'\\' </Li> <Li> `` Slabtown \\'\\' </Li> <Li> `` Self Help \\'\\' </Li> <Li> `` Consumed \\'\\' </Li> <Li> `` Crossed \\'\\' </Li> <Li> `` Coda \\'\\' </Li> <Li> `` What Happened and What \\'s Going On \\'\\' </Li> <Li> `` Them \\'\\' </Li> <Li> `` The Distance \\'\\' </Li> <Li> `` Remember \\'\\' </Li> <Li> `` Forget \\'\\' </Li> <Li> `` Spend \\'\\' </Li> <Li> `` Try \\'\\' </Li> <Li> `` Conquer \\'\\' </Li> </Ul> </Td> </Tr> <Tr> <Th> Season 6 </Th> <Td> <Ul> <Li> `` First Time Again \\'\\' </Li> <Li> `` JSS \\'\\' </Li> <Li> `` Thank You \\'\\' </Li> <Li> `` Here \\'s Not Here \\'\\' </Li> <Li> `` Now \\'\\' </Li> <Li> `` Always Accountable \\'\\' </Li> <Li> `` Heads Up \\'\\' </Li> <Li> `` Start to Finish \\'\\' </Li> <Li> `` No Way Out \\'\\' </Li> <Li> `` The Next World \\'\\' </Li> <Li> `` Knots Untie \\'\\' </Li> <Li> `` Not Tomorrow Yet \\'\\' </Li> <Li> `` The Same Boat \\'\\' </Li> <Li> `` Twice as Far \\'\\' </Li> <Li> `` East \\'\\' </Li> <Li> `` Last Day on Earth \\'\\' </Li> </Ul> </Td> </Tr> <Tr> <Th> Season 7 </Th> <Td> <Ul> <Li> `` The Day Will Come When You Wo n\\'t Be \\'\\' </Li> <Li> `` The Well \\'\\' </Li> <Li> `` The Cell \\'\\' </Li> <Li> `` Service \\'\\' </Li> <Li> `` Go Getters \\'\\' </Li> <Li> `` Swear \\'\\' </Li> <Li> `` Sing Me a Song \\'\\' </Li> <Li> `` Hearts Still Beating \\'\\' </Li> <Li> `` Rock in the Road \\'\\' </Li> <Li> `` New Best Friends \\'\\' </Li> <Li> `` Hostiles and Calamities \\'\\' </Li> <Li> `` Say Yes \\'\\' </Li> <Li> `` Bury Me Here \\'\\' </Li> <Li> `` The Other Side \\'\\' </Li> <Li> `` Something They Need \\'\\' </Li> <Li> `` The First Day of the Rest of Your Life \\'\\' </Li> </Ul> </Td> </Tr> <Tr> <Th> Season 8 </Th> <Td> <Ul> <Li> `` Mercy \\'\\' </Li> <Li> `` The Damned \\'\\' </Li> <Li> `` Monsters \\'\\' </Li> <Li> `` Some Guy \\'\\' </Li> <Li> `` The Big Scary U \\'\\' </Li> <Li> `` The King , the Widow , and Rick \\'\\' </Li> <Li> `` Time for After \\'\\' </Li> <Li> `` How It \\'s Gotta Be \\'\\' </Li> <Li> `` Honor \\'\\' </Li> </Ul> </Td> </Tr> <Tr> <Th> Webisodes </Th> <Td> <Ul> <Li> Torn Apart </Li> <Li> Cold Storage </Li> <Li> The Oath </Li> </Ul> </Td> </Tr> <Tr> <Td_colspan=\"2\"> <Ul> <Li> Category </Li> </Ul> </Td> </Tr> </Table> Retrieved from `` https://en.wikipedia.org/w/index.php?title=The_Walking_Dead_(season_8)&oldid=828222625 \\'\\' Categories : <Ul> <Li> 2017 American television seasons </Li> <Li> The Walking Dead ( TV series ) episodes </Li> </Ul> Hidden categories : <Ul> <Li> Official website different in Wikidata and Wikipedia </Li> </Ul> <H2> </H2> <H3> </H3> <Ul> <Li> </Li> <Li> Talk </Li> <Li> </Li> <Li> </Li> <Li> </Li> </Ul> <H3> </H3> <Ul> <Li> </Li> <Li> </Li> </Ul> <H3> </H3> <Ul> </Ul> <H3> </H3> <Ul> <Li> </Li> <Li> </Li> <Li> </Li> </Ul> <H3> </H3> <Ul> </Ul> <H3> </H3> <H3> </H3> <Ul> <Li> </Li> <Li> Contents </Li> <Li> </Li> <Li> </Li> <Li> </Li> <Li> </Li> <Li> </Li> </Ul> <H3> </H3> <Ul> <Li> </Li> <Li> About Wikipedia </Li> <Li> </Li> <Li> </Li> <Li> </Li> </Ul> <H3> </H3> <Ul> <Li> </Li> <Li> </Li> <Li> </Li> <Li> </Li> <Li> </Li> <Li> </Li> <Li> </Li> <Li> </Li> </Ul> <H3> </H3> <Ul> <Li> </Li> <Li> </Li> <Li> </Li> </Ul> <H3> </H3> <Ul> <Li> Català </Li> <Li> Deutsch </Li> <Li> Español </Li> <Li> فارسی </Li> <Li> Français </Li> <Li> Italiano </Li> <Li> Português </Li> <Li> Русский </Li> <Li> 中文 </Li> </Ul> Edit links <Ul> <Li> This page was last edited on 1 March 2018 , at 07 : 54 . </Li> <Li> Text is available under the Creative Commons Attribution - ShareAlike License ; additional terms may apply . By using this site , you agree to the Terms of Use and Privacy Policy . Wikipedia ® is a registered trademark of the Wikimedia Foundation , Inc. , a non-profit organization . </Li> </Ul> <Ul> <Li> </Li> <Li> About Wikipedia </Li> <Li> </Li> <Li> </Li> <Li> </Li> <Li> </Li> <Li> </Li> <Li> </Li> </Ul> <Ul> <Li> </Li> <Li> </Li> </Ul>',\n",
       " 'long_answer_candidates': [{'end_token': 216,\n",
       "   'start_token': 24,\n",
       "   'top_level': True},\n",
       "  {'end_token': 36, 'start_token': 25, 'top_level': False},\n",
       "  {'end_token': 42, 'start_token': 36, 'top_level': False},\n",
       "  {'end_token': 132, 'start_token': 42, 'top_level': False},\n",
       "  {'end_token': 130, 'start_token': 47, 'top_level': False},\n",
       "  {'end_token': 101, 'start_token': 96, 'top_level': False},\n",
       "  {'end_token': 143, 'start_token': 132, 'top_level': False},\n",
       "  {'end_token': 153, 'start_token': 143, 'top_level': False},\n",
       "  {'end_token': 158, 'start_token': 153, 'top_level': False},\n",
       "  {'end_token': 167, 'start_token': 158, 'top_level': False},\n",
       "  {'end_token': 191, 'start_token': 167, 'top_level': False},\n",
       "  {'end_token': 197, 'start_token': 191, 'top_level': False},\n",
       "  {'end_token': 205, 'start_token': 197, 'top_level': False},\n",
       "  {'end_token': 215, 'start_token': 205, 'top_level': False},\n",
       "  {'end_token': 267, 'start_token': 216, 'top_level': True},\n",
       "  {'end_token': 341, 'start_token': 267, 'top_level': True},\n",
       "  {'end_token': 390, 'start_token': 341, 'top_level': True},\n",
       "  {'end_token': 647, 'start_token': 594, 'top_level': True},\n",
       "  {'end_token': 988, 'start_token': 651, 'top_level': True},\n",
       "  {'end_token': 687, 'start_token': 652, 'top_level': False},\n",
       "  {'end_token': 713, 'start_token': 687, 'top_level': False},\n",
       "  {'end_token': 734, 'start_token': 713, 'top_level': False},\n",
       "  {'end_token': 750, 'start_token': 734, 'top_level': False},\n",
       "  {'end_token': 775, 'start_token': 750, 'top_level': False},\n",
       "  {'end_token': 802, 'start_token': 775, 'top_level': False},\n",
       "  {'end_token': 830, 'start_token': 802, 'top_level': False},\n",
       "  {'end_token': 859, 'start_token': 830, 'top_level': False},\n",
       "  {'end_token': 885, 'start_token': 859, 'top_level': False},\n",
       "  {'end_token': 913, 'start_token': 885, 'top_level': False},\n",
       "  {'end_token': 935, 'start_token': 913, 'top_level': False},\n",
       "  {'end_token': 962, 'start_token': 935, 'top_level': False},\n",
       "  {'end_token': 987, 'start_token': 962, 'top_level': False},\n",
       "  {'end_token': 1160, 'start_token': 993, 'top_level': True},\n",
       "  {'end_token': 1019, 'start_token': 994, 'top_level': False},\n",
       "  {'end_token': 1036, 'start_token': 1019, 'top_level': False},\n",
       "  {'end_token': 1059, 'start_token': 1036, 'top_level': False},\n",
       "  {'end_token': 1081, 'start_token': 1059, 'top_level': False},\n",
       "  {'end_token': 1102, 'start_token': 1081, 'top_level': False},\n",
       "  {'end_token': 1131, 'start_token': 1102, 'top_level': False},\n",
       "  {'end_token': 1159, 'start_token': 1131, 'top_level': False},\n",
       "  {'end_token': 1293, 'start_token': 1174, 'top_level': True},\n",
       "  {'end_token': 1196, 'start_token': 1175, 'top_level': False},\n",
       "  {'end_token': 1225, 'start_token': 1196, 'top_level': False},\n",
       "  {'end_token': 1244, 'start_token': 1225, 'top_level': False},\n",
       "  {'end_token': 1265, 'start_token': 1244, 'top_level': False},\n",
       "  {'end_token': 1277, 'start_token': 1265, 'top_level': False},\n",
       "  {'end_token': 1292, 'start_token': 1277, 'top_level': False},\n",
       "  {'end_token': 1419, 'start_token': 1298, 'top_level': True},\n",
       "  {'end_token': 1312, 'start_token': 1299, 'top_level': False},\n",
       "  {'end_token': 1332, 'start_token': 1312, 'top_level': False},\n",
       "  {'end_token': 1352, 'start_token': 1332, 'top_level': False},\n",
       "  {'end_token': 1372, 'start_token': 1352, 'top_level': False},\n",
       "  {'end_token': 1392, 'start_token': 1372, 'top_level': False},\n",
       "  {'end_token': 1418, 'start_token': 1392, 'top_level': False},\n",
       "  {'end_token': 1702, 'start_token': 1424, 'top_level': True},\n",
       "  {'end_token': 1446, 'start_token': 1425, 'top_level': False},\n",
       "  {'end_token': 1460, 'start_token': 1446, 'top_level': False},\n",
       "  {'end_token': 1474, 'start_token': 1460, 'top_level': False},\n",
       "  {'end_token': 1487, 'start_token': 1474, 'top_level': False},\n",
       "  {'end_token': 1500, 'start_token': 1487, 'top_level': False},\n",
       "  {'end_token': 1520, 'start_token': 1500, 'top_level': False},\n",
       "  {'end_token': 1542, 'start_token': 1520, 'top_level': False},\n",
       "  {'end_token': 1564, 'start_token': 1542, 'top_level': False},\n",
       "  {'end_token': 1580, 'start_token': 1564, 'top_level': False},\n",
       "  {'end_token': 1602, 'start_token': 1580, 'top_level': False},\n",
       "  {'end_token': 1618, 'start_token': 1602, 'top_level': False},\n",
       "  {'end_token': 1634, 'start_token': 1618, 'top_level': False},\n",
       "  {'end_token': 1654, 'start_token': 1634, 'top_level': False},\n",
       "  {'end_token': 1673, 'start_token': 1654, 'top_level': False},\n",
       "  {'end_token': 1686, 'start_token': 1673, 'top_level': False},\n",
       "  {'end_token': 1701, 'start_token': 1686, 'top_level': False},\n",
       "  {'end_token': 1819, 'start_token': 1707, 'top_level': True},\n",
       "  {'end_token': 1724, 'start_token': 1708, 'top_level': False},\n",
       "  {'end_token': 1742, 'start_token': 1724, 'top_level': False},\n",
       "  {'end_token': 1756, 'start_token': 1742, 'top_level': False},\n",
       "  {'end_token': 1770, 'start_token': 1756, 'top_level': False},\n",
       "  {'end_token': 1790, 'start_token': 1770, 'top_level': False},\n",
       "  {'end_token': 1803, 'start_token': 1790, 'top_level': False},\n",
       "  {'end_token': 1818, 'start_token': 1803, 'top_level': False},\n",
       "  {'end_token': 1877, 'start_token': 1823, 'top_level': True},\n",
       "  {'end_token': 1837, 'start_token': 1824, 'top_level': False},\n",
       "  {'end_token': 1848, 'start_token': 1837, 'top_level': False},\n",
       "  {'end_token': 1862, 'start_token': 1848, 'top_level': False},\n",
       "  {'end_token': 1876, 'start_token': 1862, 'top_level': False},\n",
       "  {'end_token': 1913, 'start_token': 1882, 'top_level': True},\n",
       "  {'end_token': 1897, 'start_token': 1883, 'top_level': False},\n",
       "  {'end_token': 1912, 'start_token': 1897, 'top_level': False},\n",
       "  {'end_token': 1934, 'start_token': 1917, 'top_level': True},\n",
       "  {'end_token': 1933, 'start_token': 1918, 'top_level': False},\n",
       "  {'end_token': 2027, 'start_token': 1940, 'top_level': True},\n",
       "  {'end_token': 2052, 'start_token': 2027, 'top_level': True},\n",
       "  {'end_token': 2099, 'start_token': 2052, 'top_level': True},\n",
       "  {'end_token': 3538, 'start_token': 2114, 'top_level': True},\n",
       "  {'end_token': 2150, 'start_token': 2115, 'top_level': False},\n",
       "  {'end_token': 2187, 'start_token': 2150, 'top_level': False},\n",
       "  {'end_token': 2286, 'start_token': 2187, 'top_level': False},\n",
       "  {'end_token': 2326, 'start_token': 2286, 'top_level': False},\n",
       "  {'end_token': 2413, 'start_token': 2326, 'top_level': False},\n",
       "  {'end_token': 2452, 'start_token': 2413, 'top_level': False},\n",
       "  {'end_token': 2546, 'start_token': 2452, 'top_level': False},\n",
       "  {'end_token': 2584, 'start_token': 2546, 'top_level': False},\n",
       "  {'end_token': 2679, 'start_token': 2584, 'top_level': False},\n",
       "  {'end_token': 2740, 'start_token': 2679, 'top_level': False},\n",
       "  {'end_token': 2844, 'start_token': 2740, 'top_level': False},\n",
       "  {'end_token': 2891, 'start_token': 2844, 'top_level': False},\n",
       "  {'end_token': 2991, 'start_token': 2891, 'top_level': False},\n",
       "  {'end_token': 3033, 'start_token': 2991, 'top_level': False},\n",
       "  {'end_token': 3142, 'start_token': 3033, 'top_level': False},\n",
       "  {'end_token': 3188, 'start_token': 3142, 'top_level': False},\n",
       "  {'end_token': 3299, 'start_token': 3188, 'top_level': False},\n",
       "  {'end_token': 3339, 'start_token': 3299, 'top_level': False},\n",
       "  {'end_token': 3424, 'start_token': 3339, 'top_level': False},\n",
       "  {'end_token': 3463, 'start_token': 3424, 'top_level': False},\n",
       "  {'end_token': 3501, 'start_token': 3463, 'top_level': False},\n",
       "  {'end_token': 3537, 'start_token': 3501, 'top_level': False},\n",
       "  {'end_token': 3586, 'start_token': 3544, 'top_level': True},\n",
       "  {'end_token': 3693, 'start_token': 3599, 'top_level': True},\n",
       "  {'end_token': 3733, 'start_token': 3693, 'top_level': True},\n",
       "  {'end_token': 3732, 'start_token': 3706, 'top_level': False},\n",
       "  {'end_token': 3730, 'start_token': 3708, 'top_level': False},\n",
       "  {'end_token': 3729, 'start_token': 3709, 'top_level': False},\n",
       "  {'end_token': 4229, 'start_token': 3739, 'top_level': True},\n",
       "  {'end_token': 3799, 'start_token': 3740, 'top_level': False},\n",
       "  {'end_token': 3832, 'start_token': 3799, 'top_level': False},\n",
       "  {'end_token': 3866, 'start_token': 3832, 'top_level': False},\n",
       "  {'end_token': 3899, 'start_token': 3866, 'top_level': False},\n",
       "  {'end_token': 3933, 'start_token': 3899, 'top_level': False},\n",
       "  {'end_token': 3970, 'start_token': 3933, 'top_level': False},\n",
       "  {'end_token': 4010, 'start_token': 3970, 'top_level': False},\n",
       "  {'end_token': 4046, 'start_token': 4010, 'top_level': False},\n",
       "  {'end_token': 4084, 'start_token': 4046, 'top_level': False},\n",
       "  {'end_token': 4118, 'start_token': 4084, 'top_level': False},\n",
       "  {'end_token': 4156, 'start_token': 4118, 'top_level': False},\n",
       "  {'end_token': 4193, 'start_token': 4156, 'top_level': False},\n",
       "  {'end_token': 4228, 'start_token': 4193, 'top_level': False},\n",
       "  {'end_token': 4251, 'start_token': 4229, 'top_level': True}],\n",
       " 'annotations': [{'annotation_id': 6782080525527814293,\n",
       "   'long_answer': {'candidate_index': 92,\n",
       "    'end_token': 3538,\n",
       "    'start_token': 2114},\n",
       "   'short_answers': [{'end_token': 3525, 'start_token': 3521}],\n",
       "   'yes_no_answer': 'NONE'}]}"
      ]
     },
     "execution_count": 117,
     "metadata": {},
     "output_type": "execute_result"
    }
   ],
   "source": [
    "text_utils.simplify_nq_example(b)\n",
    "\n"
   ]
  },
  {
   "cell_type": "code",
   "execution_count": 114,
   "metadata": {},
   "outputs": [
    {
     "data": {
      "text/plain": [
       "['__builtins__',\n",
       " '__cached__',\n",
       " '__doc__',\n",
       " '__file__',\n",
       " '__loader__',\n",
       " '__name__',\n",
       " '__package__',\n",
       " '__path__',\n",
       " '__spec__']"
      ]
     },
     "execution_count": 114,
     "metadata": {},
     "output_type": "execute_result"
    }
   ],
   "source": [
    "dir(nq)"
   ]
  },
  {
   "cell_type": "code",
   "execution_count": 116,
   "metadata": {},
   "outputs": [],
   "source": [
    "from natural_questions import text_utils\n"
   ]
  },
  {
   "cell_type": "code",
   "execution_count": null,
   "metadata": {},
   "outputs": [],
   "source": []
  }
 ],
 "metadata": {
  "kernelspec": {
   "display_name": "dl_final",
   "language": "python",
   "name": "python3"
  },
  "language_info": {
   "codemirror_mode": {
    "name": "ipython",
    "version": 3
   },
   "file_extension": ".py",
   "mimetype": "text/x-python",
   "name": "python",
   "nbconvert_exporter": "python",
   "pygments_lexer": "ipython3",
   "version": "3.9.18"
  }
 },
 "nbformat": 4,
 "nbformat_minor": 2
}
