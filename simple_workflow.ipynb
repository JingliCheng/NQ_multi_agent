{
 "cells": [
  {
   "cell_type": "code",
   "execution_count": 1,
   "metadata": {},
   "outputs": [
    {
     "name": "stdout",
     "output_type": "stream",
     "text": [
      "Requirement already satisfied: flaml[automl] in /Users/luna/.pyenv/versions/3.8.12/lib/python3.8/site-packages (2.3.2)\n",
      "Requirement already satisfied: NumPy>=1.17 in /Users/luna/.pyenv/versions/3.8.12/lib/python3.8/site-packages (from flaml[automl]) (1.24.4)\n",
      "Requirement already satisfied: lightgbm>=2.3.1 in /Users/luna/.pyenv/versions/3.8.12/lib/python3.8/site-packages (from flaml[automl]) (4.5.0)\n",
      "Requirement already satisfied: xgboost<3.0.0,>=0.90 in /Users/luna/.pyenv/versions/3.8.12/lib/python3.8/site-packages (from flaml[automl]) (2.1.3)\n",
      "Requirement already satisfied: scipy>=1.4.1 in /Users/luna/.pyenv/versions/3.8.12/lib/python3.8/site-packages (from flaml[automl]) (1.10.1)\n",
      "Requirement already satisfied: pandas>=1.1.4 in /Users/luna/.pyenv/versions/3.8.12/lib/python3.8/site-packages (from flaml[automl]) (2.0.3)\n",
      "Requirement already satisfied: scikit-learn>=1.0.0 in /Users/luna/.pyenv/versions/3.8.12/lib/python3.8/site-packages (from flaml[automl]) (1.3.2)\n",
      "Requirement already satisfied: python-dateutil>=2.8.2 in /Users/luna/.pyenv/versions/3.8.12/lib/python3.8/site-packages (from pandas>=1.1.4->flaml[automl]) (2.8.2)\n",
      "Requirement already satisfied: pytz>=2020.1 in /Users/luna/.pyenv/versions/3.8.12/lib/python3.8/site-packages (from pandas>=1.1.4->flaml[automl]) (2024.1)\n",
      "Requirement already satisfied: tzdata>=2022.1 in /Users/luna/.pyenv/versions/3.8.12/lib/python3.8/site-packages (from pandas>=1.1.4->flaml[automl]) (2023.4)\n",
      "Requirement already satisfied: joblib>=1.1.1 in /Users/luna/.pyenv/versions/3.8.12/lib/python3.8/site-packages (from scikit-learn>=1.0.0->flaml[automl]) (1.4.2)\n",
      "Requirement already satisfied: threadpoolctl>=2.0.0 in /Users/luna/.pyenv/versions/3.8.12/lib/python3.8/site-packages (from scikit-learn>=1.0.0->flaml[automl]) (3.5.0)\n",
      "Requirement already satisfied: six>=1.5 in /Users/luna/.pyenv/versions/3.8.12/lib/python3.8/site-packages (from python-dateutil>=2.8.2->pandas>=1.1.4->flaml[automl]) (1.16.0)\n",
      "\n",
      "\u001b[1m[\u001b[0m\u001b[34;49mnotice\u001b[0m\u001b[1;39;49m]\u001b[0m\u001b[39;49m A new release of pip is available: \u001b[0m\u001b[31;49m24.0\u001b[0m\u001b[39;49m -> \u001b[0m\u001b[32;49m24.3.1\u001b[0m\n",
      "\u001b[1m[\u001b[0m\u001b[34;49mnotice\u001b[0m\u001b[1;39;49m]\u001b[0m\u001b[39;49m To update, run: \u001b[0m\u001b[32;49mpip install --upgrade pip\u001b[0m\n",
      "Requirement already satisfied: rapidfuzz in /Users/luna/.pyenv/versions/3.8.12/lib/python3.8/site-packages (3.9.7)\n",
      "\n",
      "\u001b[1m[\u001b[0m\u001b[34;49mnotice\u001b[0m\u001b[1;39;49m]\u001b[0m\u001b[39;49m A new release of pip is available: \u001b[0m\u001b[31;49m24.0\u001b[0m\u001b[39;49m -> \u001b[0m\u001b[32;49m24.3.1\u001b[0m\n",
      "\u001b[1m[\u001b[0m\u001b[34;49mnotice\u001b[0m\u001b[1;39;49m]\u001b[0m\u001b[39;49m To update, run: \u001b[0m\u001b[32;49mpip install --upgrade pip\u001b[0m\n"
     ]
    }
   ],
   "source": [
    "!pip install \"flaml[automl]\"\n",
    "!pip install rapidfuzz"
   ]
  },
  {
   "cell_type": "code",
   "execution_count": 2,
   "metadata": {},
   "outputs": [],
   "source": [
    "%load_ext autoreload\n",
    "%autoreload 2\n"
   ]
  },
  {
   "cell_type": "code",
   "execution_count": 3,
   "metadata": {},
   "outputs": [],
   "source": [
    "import os"
   ]
  },
  {
   "cell_type": "code",
   "execution_count": 4,
   "metadata": {},
   "outputs": [
    {
     "name": "stdout",
     "output_type": "stream",
     "text": [
      "\n",
      "Example 1/2\n",
      "extract candidates [{'reasoning': \"This section of the passage explains that a UCC-1 financing statement can be filed on an individual, as it provides notice of a creditor's interest in the personal property of a debtor.\", 'begin_index': 70, 'end_index': 110, 'grounded_text': '</Table> <P> A UCC - 1 financing statement ( an abbreviation for Uniform Commercial Code - 1 ) is a legal form that a creditor files to give notice that it has or may have an interest in the personal'}]\n",
      "extract candidates [{'reasoning': \"This section of the passage explains that a UCC-1 financing statement can be filed on an individual, as it provides notice of a creditor's interest in the personal property of a debtor.\", 'begin_index': 70, 'end_index': 110, 'grounded_text': '</Table> <P> A UCC - 1 financing statement ( an abbreviation for Uniform Commercial Code - 1 ) is a legal form that a creditor files to give notice that it has or may have an interest in the personal'}]\n",
      "extract candidates [{'reasoning': \"This section of the passage explains that a UCC-1 financing statement can be filed on an individual, as it provides notice of a creditor's interest in the personal property of a debtor.\", 'begin_index': 70, 'end_index': 110, 'grounded_text': '</Table> <P> A UCC - 1 financing statement ( an abbreviation for Uniform Commercial Code - 1 ) is a legal form that a creditor files to give notice that it has or may have an interest in the personal'}]\n",
      "extract candidates [{'reasoning': \"This section of the passage explains that a UCC-1 financing statement can be filed on an individual, as it provides notice of a creditor's interest in the personal property of a debtor.\", 'begin_index': 70, 'end_index': 110, 'grounded_text': '</Table> <P> A UCC - 1 financing statement ( an abbreviation for Uniform Commercial Code - 1 ) is a legal form that a creditor files to give notice that it has or may have an interest in the personal'}]\n",
      "extract candidates [{'reasoning': \"This section of the passage explains that a UCC-1 financing statement can be filed on an individual, as it provides notice of a creditor's interest in the personal property of a debtor.\", 'begin_index': 70, 'end_index': 110, 'grounded_text': '</Table> <P> A UCC - 1 financing statement ( an abbreviation for Uniform Commercial Code - 1 ) is a legal form that a creditor files to give notice that it has or may have an interest in the personal'}]\n",
      "extract candidates [{'reasoning': \"This section of the passage explains that a UCC-1 financing statement can be filed on an individual, as it provides notice of a creditor's interest in the personal property of a debtor.\", 'begin_index': 70, 'end_index': 110, 'grounded_text': '</Table> <P> A UCC - 1 financing statement ( an abbreviation for Uniform Commercial Code - 1 ) is a legal form that a creditor files to give notice that it has or may have an interest in the personal'}]\n",
      "extract candidates [{'reasoning': \"This section of the passage explains that a UCC-1 financing statement can be filed on an individual, as it provides notice of a creditor's interest in the personal property of a debtor.\", 'begin_index': 70, 'end_index': 110, 'grounded_text': '</Table> <P> A UCC - 1 financing statement ( an abbreviation for Uniform Commercial Code - 1 ) is a legal form that a creditor files to give notice that it has or may have an interest in the personal'}]\n",
      "extract candidates [{'reasoning': \"This section of the passage explains that a UCC-1 financing statement can be filed on an individual, as it provides notice of a creditor's interest in the personal property of a debtor.\", 'begin_index': 70, 'end_index': 110, 'grounded_text': '</Table> <P> A UCC - 1 financing statement ( an abbreviation for Uniform Commercial Code - 1 ) is a legal form that a creditor files to give notice that it has or may have an interest in the personal'}]\n"
     ]
    },
    {
     "ename": "TypeError",
     "evalue": "string indices must be integers",
     "output_type": "error",
     "traceback": [
      "\u001b[0;31m---------------------------------------------------------------------------\u001b[0m",
      "\u001b[0;31mTypeError\u001b[0m                                 Traceback (most recent call last)",
      "Cell \u001b[0;32mIn[4], line 15\u001b[0m\n\u001b[1;32m     13\u001b[0m \u001b[38;5;66;03m# Make predictions. side effect: write to file\u001b[39;00m\n\u001b[1;32m     14\u001b[0m save_path \u001b[38;5;241m=\u001b[39m GOLD_FILE\u001b[38;5;241m.\u001b[39mreplace(\u001b[38;5;124m'\u001b[39m\u001b[38;5;124m.jsonl\u001b[39m\u001b[38;5;124m'\u001b[39m, \u001b[38;5;124m'\u001b[39m\u001b[38;5;124m_predictions.jsonl\u001b[39m\u001b[38;5;124m'\u001b[39m)\n\u001b[0;32m---> 15\u001b[0m predictions \u001b[38;5;241m=\u001b[39m \u001b[43mmy_agents\u001b[49m\u001b[38;5;241;43m.\u001b[39;49m\u001b[43mpredict_batch\u001b[49m\u001b[43m(\u001b[49m\u001b[43mexamples\u001b[49m\u001b[38;5;241;43m=\u001b[39;49m\u001b[43minput_examples\u001b[49m\u001b[43m,\u001b[49m\u001b[43m \u001b[49m\u001b[43msave_path\u001b[49m\u001b[38;5;241;43m=\u001b[39;49m\u001b[43msave_path\u001b[49m\u001b[43m,\u001b[49m\u001b[43m \u001b[49m\u001b[43mverbose\u001b[49m\u001b[38;5;241;43m=\u001b[39;49m\u001b[38;5;28;43;01mTrue\u001b[39;49;00m\u001b[43m)\u001b[49m\n",
      "File \u001b[0;32m~/Desktop/2024 Fall/8803/NQ_multi_agent/nq_agents/multi_agent.py:121\u001b[0m, in \u001b[0;36mBaseAgentSystem.predict_batch\u001b[0;34m(self, examples, save_path, verbose)\u001b[0m\n\u001b[1;32m    118\u001b[0m \u001b[38;5;28;01melse\u001b[39;00m:\n\u001b[1;32m    119\u001b[0m     example \u001b[38;5;241m=\u001b[39m raw_example\n\u001b[0;32m--> 121\u001b[0m pred_str, score \u001b[38;5;241m=\u001b[39m \u001b[38;5;28;43mself\u001b[39;49m\u001b[38;5;241;43m.\u001b[39;49m\u001b[43mpredict\u001b[49m\u001b[43m(\u001b[49m\u001b[43mexample\u001b[49m\u001b[43m,\u001b[49m\u001b[43m \u001b[49m\u001b[43mverbose\u001b[49m\u001b[43m)\u001b[49m\n\u001b[1;32m    122\u001b[0m pred_dict \u001b[38;5;241m=\u001b[39m \u001b[38;5;28mself\u001b[39m\u001b[38;5;241m.\u001b[39mformat_prediction(example, pred_str, score)\n\u001b[1;32m    123\u001b[0m predictions[\u001b[38;5;124m'\u001b[39m\u001b[38;5;124mpredictions\u001b[39m\u001b[38;5;124m'\u001b[39m]\u001b[38;5;241m.\u001b[39mappend(pred_dict)\n",
      "File \u001b[0;32m~/Desktop/2024 Fall/8803/NQ_multi_agent/nq_agents/workflow_autogen.py:112\u001b[0m, in \u001b[0;36mWorkflowAutogen.predict\u001b[0;34m(self, example, verbose)\u001b[0m\n\u001b[1;32m    109\u001b[0m retrieved_candidates \u001b[38;5;241m=\u001b[39m chunk_and_retrieve\u001b[38;5;241m.\u001b[39mretrieve(example\u001b[38;5;241m=\u001b[39mindexed_example, verbose\u001b[38;5;241m=\u001b[39m\u001b[38;5;28;01mFalse\u001b[39;00m)\n\u001b[1;32m    111\u001b[0m \u001b[38;5;66;03m# Use the begin and end index to retrieve the grounded candidates\u001b[39;00m\n\u001b[0;32m--> 112\u001b[0m grounded_candidates \u001b[38;5;241m=\u001b[39m \u001b[43mindexing\u001b[49m\u001b[38;5;241;43m.\u001b[39;49m\u001b[43mgrounding\u001b[49m\u001b[43m(\u001b[49m\u001b[43mretrieved_candidates\u001b[49m\u001b[43m,\u001b[49m\u001b[43m \u001b[49m\u001b[43mexample\u001b[49m\u001b[43m)\u001b[49m\n\u001b[1;32m    113\u001b[0m ranked_candidates \u001b[38;5;241m=\u001b[39m rank\u001b[38;5;241m.\u001b[39mrank(indexed_example, grounded_candidates)\n\u001b[1;32m    115\u001b[0m \u001b[38;5;66;03m# Refine the ranked candidates\u001b[39;00m\n",
      "File \u001b[0;32m~/Desktop/2024 Fall/8803/NQ_multi_agent/nq_agents/indexing.py:133\u001b[0m, in \u001b[0;36mgrounding\u001b[0;34m(retrieved_candidates, example)\u001b[0m\n\u001b[1;32m    131\u001b[0m candidate_index \u001b[38;5;241m=\u001b[39m \u001b[38;5;241m0\u001b[39m\n\u001b[1;32m    132\u001b[0m \u001b[38;5;28;01mfor\u001b[39;00m candidate \u001b[38;5;129;01min\u001b[39;00m retrieved_candidates:\n\u001b[0;32m--> 133\u001b[0m     candidate[\u001b[38;5;124m\"\u001b[39m\u001b[38;5;124mgrounded_text\u001b[39m\u001b[38;5;124m\"\u001b[39m] \u001b[38;5;241m=\u001b[39m extract_text_from_indexes(document, \u001b[43mcandidate\u001b[49m\u001b[43m[\u001b[49m\u001b[38;5;124;43m\"\u001b[39;49m\u001b[38;5;124;43mindexes\u001b[39;49m\u001b[38;5;124;43m\"\u001b[39;49m\u001b[43m]\u001b[49m)\n\u001b[1;32m    134\u001b[0m     candidate[\u001b[38;5;124m\"\u001b[39m\u001b[38;5;124mid\u001b[39m\u001b[38;5;124m\"\u001b[39m] \u001b[38;5;241m=\u001b[39m candidate_index\n\u001b[1;32m    136\u001b[0m     output\u001b[38;5;241m.\u001b[39mappend({\n\u001b[1;32m    137\u001b[0m         \u001b[38;5;124m\"\u001b[39m\u001b[38;5;124mrelevant_content\u001b[39m\u001b[38;5;124m\"\u001b[39m: candidate[\u001b[38;5;124m\"\u001b[39m\u001b[38;5;124mgrounded_text\u001b[39m\u001b[38;5;124m\"\u001b[39m],\n\u001b[1;32m    138\u001b[0m         \u001b[38;5;124m\"\u001b[39m\u001b[38;5;124mid\u001b[39m\u001b[38;5;124m\"\u001b[39m: candidate[\u001b[38;5;124m\"\u001b[39m\u001b[38;5;124mid\u001b[39m\u001b[38;5;124m\"\u001b[39m],\n\u001b[1;32m    139\u001b[0m     })\n",
      "\u001b[0;31mTypeError\u001b[0m: string indices must be integers"
     ]
    }
   ],
   "source": [
    "from nq_agents import WorkflowAutogen\n",
    "from nq_agents import data_extraction\n",
    "\n",
    "# Initialize the multi-agent system\n",
    "my_agents = WorkflowAutogen()\n",
    "\n",
    "# Read input examples\n",
    "GOLD_FILE = 'data/two-dev.jsonl'\n",
    "num_examples = data_extraction.count_lines(GOLD_FILE)\n",
    "\n",
    "input_examples = data_extraction.read_first_lines(GOLD_FILE, num_examples)\n",
    "\n",
    "# Make predictions. side effect: write to file\n",
    "save_path = GOLD_FILE.replace('.jsonl', '_predictions.jsonl')\n",
    "predictions = my_agents.predict_batch(examples=input_examples, save_path=save_path, verbose=True)\n"
   ]
  },
  {
   "cell_type": "markdown",
   "metadata": {},
   "source": [
    "### Evaluate\n"
   ]
  },
  {
   "cell_type": "code",
   "execution_count": null,
   "metadata": {},
   "outputs": [],
   "source": [
    "from nq_agents import evaluation\n",
    "\n",
    "# Evaluate predictions\n",
    "GOLD_FILE = 'data/two-dev.jsonl'\n",
    "PREDICTIONS_FILE = 'data/two-dev_predictions.jsonl' # generated by multi_agent.py\n",
    "\n",
    "result = evaluation.evaluate_predictions(GOLD_FILE, PREDICTIONS_FILE)"
   ]
  },
  {
   "cell_type": "code",
   "execution_count": null,
   "metadata": {},
   "outputs": [],
   "source": [
    "result"
   ]
  },
  {
   "cell_type": "code",
   "execution_count": null,
   "metadata": {},
   "outputs": [],
   "source": [
    "a = {1:1, 2:2}\n",
    "b = {1:1, 2:2}\n",
    "a == b\n",
    "\n"
   ]
  },
  {
   "cell_type": "code",
   "execution_count": null,
   "metadata": {},
   "outputs": [],
   "source": [
    "a.keys().symmetric_difference(b.keys())"
   ]
  },
  {
   "cell_type": "code",
   "execution_count": null,
   "metadata": {},
   "outputs": [],
   "source": [
    "type(a.keys())"
   ]
  }
 ],
 "metadata": {
  "kernelspec": {
   "display_name": "Python 3",
   "language": "python",
   "name": "python3"
  },
  "language_info": {
   "codemirror_mode": {
    "name": "ipython",
    "version": 3
   },
   "file_extension": ".py",
   "mimetype": "text/x-python",
   "name": "python",
   "nbconvert_exporter": "python",
   "pygments_lexer": "ipython3",
   "version": "3.8.12"
  }
 },
 "nbformat": 4,
 "nbformat_minor": 2
}
