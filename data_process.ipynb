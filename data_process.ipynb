{
 "cells": [
  {
   "cell_type": "code",
   "execution_count": 1,
   "metadata": {},
   "outputs": [],
   "source": [
    "import json\n",
    "import os\n",
    "\n",
    "from nq_agents import data_extraction\n",
    "\n"
   ]
  },
  {
   "cell_type": "code",
   "execution_count": 2,
   "metadata": {},
   "outputs": [
    {
     "data": {
      "text/plain": [
       "['simplified-nq-train_sample100_seed42.jsonl',\n",
       " 'train_top100.jsonl',\n",
       " 'train_top100_dev.jsonl',\n",
       " 'v1.0-simplified_nq-dev-all_sample100_seed42.jsonl']"
      ]
     },
     "execution_count": 2,
     "metadata": {},
     "output_type": "execute_result"
    }
   ],
   "source": [
    "os.listdir('.data/')\n"
   ]
  },
  {
   "cell_type": "code",
   "execution_count": 6,
   "metadata": {},
   "outputs": [],
   "source": [
    "TRAIN_FILE = '.local_data/simplified-nq-train.jsonl'\n",
    "DEV_FILE = '.local_data/v1.0-simplified_nq-dev-all.jsonl'\n",
    "# TRAIN_FILE_2000 = '.data/train_top2000.jsonl'\n",
    "# DEV_FILE_2000 = '.data/train_top2000_dev.jsonl'\n"
   ]
  },
  {
   "cell_type": "code",
   "execution_count": 7,
   "metadata": {},
   "outputs": [
    {
     "name": "stderr",
     "output_type": "stream",
     "text": [
      "Filtering Short Answer Examples: 307373line [02:03, 2481.23line/s]\n",
      "Sampling Lines: 110724line [00:16, 6692.48line/s]\n"
     ]
    }
   ],
   "source": [
    "from nq_agents import data_extraction\n",
    "temp = data_extraction.sample_short_ans_examples(\n",
    "    TRAIN_FILE,k=2,seed=42\n",
    "    )\n",
    "\n"
   ]
  },
  {
   "cell_type": "code",
   "execution_count": 8,
   "metadata": {},
   "outputs": [
    {
     "name": "stderr",
     "output_type": "stream",
     "text": [
      "Filtering Short Answer Examples: 7830line [01:28, 88.31line/s] \n",
      "Sampling Lines: 2662line [00:05, 477.69line/s]\n"
     ]
    }
   ],
   "source": [
    "temp = data_extraction.sample_short_ans_examples(\n",
    "    DEV_FILE,k=2,seed=42\n",
    "    )"
   ]
  },
  {
   "cell_type": "code",
   "execution_count": null,
   "metadata": {},
   "outputs": [],
   "source": []
  }
 ],
 "metadata": {
  "kernelspec": {
   "display_name": "dl_final",
   "language": "python",
   "name": "python3"
  },
  "language_info": {
   "codemirror_mode": {
    "name": "ipython",
    "version": 3
   },
   "file_extension": ".py",
   "mimetype": "text/x-python",
   "name": "python",
   "nbconvert_exporter": "python",
   "pygments_lexer": "ipython3",
   "version": "3.9.18"
  }
 },
 "nbformat": 4,
 "nbformat_minor": 2
}
