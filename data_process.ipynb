{
 "cells": [
  {
   "cell_type": "code",
   "execution_count": 2,
   "metadata": {},
   "outputs": [],
   "source": [
    "import json\n",
    "import os\n",
    "\n"
   ]
  },
  {
   "cell_type": "code",
   "execution_count": 3,
   "metadata": {},
   "outputs": [
    {
     "data": {
      "text/plain": [
       "['simplified-nq-train.jsonl',\n",
       " 'train_top2000.jsonl',\n",
       " 'train_top2000_dev.jsonl',\n",
       " 'v1.0-simplified_nq-dev-all.jsonl',\n",
       " 'v1.0-simplified_nq-dev-all.jsonl.gz',\n",
       " 'v1.0-simplified_simplified-nq-train.jsonl.gz']"
      ]
     },
     "execution_count": 3,
     "metadata": {},
     "output_type": "execute_result"
    }
   ],
   "source": [
    "os.listdir('.data/')\n"
   ]
  },
  {
   "cell_type": "code",
   "execution_count": 4,
   "metadata": {},
   "outputs": [],
   "source": [
    "TRAIN_FILE = '.data/simplified-nq-train.jsonl'\n",
    "DEV_FILE = '.data/v1.0-simplified_nq-dev-all.jsonl'\n",
    "TRAIN_FILE_2000 = '.data/train_top2000.jsonl'\n",
    "DEV_FILE_2000 = '.data/train_top2000_dev.jsonl' \n"
   ]
  },
  {
   "cell_type": "code",
   "execution_count": 5,
   "metadata": {},
   "outputs": [],
   "source": [
    "\n",
    "def read_first_lines(file_path, num_lines=5):\n",
    "    with open(file_path, 'r') as file:\n",
    "        for _ in range(num_lines):\n",
    "            print(file.readline().strip())\n",
    "\n",
    "def parse_jsonl(file_path, num_lines=5):\n",
    "    output = []\n",
    "    with open(file_path, 'r', encoding='utf-8') as file:\n",
    "        for _ in range(num_lines):\n",
    "            data = json.loads(file.readline().strip())\n",
    "            output.append(data)\n",
    "\n",
    "    return output\n",
    "\n",
    "    def list_to_jsonl(data_list, output_file):\n",
    "        with open(output_file, 'w', encoding='utf-8') as file:\n",
    "            for item in data_list:\n",
    "                json_line = json.dumps(item, ensure_ascii=False)\n",
    "                file.write(json_line + '\\n')\n",
    "\n"
   ]
  },
  {
   "cell_type": "code",
   "execution_count": 15,
   "metadata": {},
   "outputs": [],
   "source": [
    "# read_first_lines(TRAIN_FILE,5)\n",
    "# json_top2000 = parse_jsonl(TRAIN_FILE,2000)\n",
    "# list_to_jsonl(json_top2000, '.data/train_top2000.jsonl')\n",
    "# json_top2000_dev = parse_jsonl(DEV_FILE,2000)\n",
    "# list_to_jsonl(json_top2000_dev, '.data/train_top2000_dev.jsonl')"
   ]
  },
  {
   "cell_type": "code",
   "execution_count": 14,
   "metadata": {},
   "outputs": [],
   "source": []
  },
  {
   "cell_type": "code",
   "execution_count": null,
   "metadata": {},
   "outputs": [],
   "source": []
  }
 ],
 "metadata": {
  "kernelspec": {
   "display_name": "dl_final",
   "language": "python",
   "name": "python3"
  },
  "language_info": {
   "codemirror_mode": {
    "name": "ipython",
    "version": 3
   },
   "file_extension": ".py",
   "mimetype": "text/x-python",
   "name": "python",
   "nbconvert_exporter": "python",
   "pygments_lexer": "ipython3",
   "version": "3.10.9"
  }
 },
 "nbformat": 4,
 "nbformat_minor": 2
}
